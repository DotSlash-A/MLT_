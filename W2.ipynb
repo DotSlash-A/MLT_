{
 "cells": [
  {
   "cell_type": "code",
   "execution_count": 1,
   "outputs": [],
   "source": [
    "import numpy as np"
   ],
   "metadata": {
    "collapsed": false,
    "pycharm": {
     "name": "#%%\n"
    }
   }
  },
  {
   "cell_type": "markdown",
   "source": [
    "we are creating a dataset with 1 feature, so it will have 2 parameters. also our dataset will have 100 samples"
   ],
   "metadata": {
    "collapsed": false,
    "pycharm": {
     "name": "#%% md\n"
    }
   }
  },
  {
   "cell_type": "code",
   "execution_count": 2,
   "outputs": [],
   "source": [
    "w1 = 3\n",
    "w0 = 4\n",
    "n = 100\n",
    "\n",
    "X = 10 * np.random.rand(n,)\n",
    "y = w1 + w0 * X + np.random.randn(n,)"
   ],
   "metadata": {
    "collapsed": false,
    "pycharm": {
     "name": "#%%\n"
    }
   }
  },
  {
   "cell_type": "code",
   "execution_count": 3,
   "outputs": [
    {
     "name": "stdout",
     "output_type": "stream",
     "text": [
      "(100,)\n",
      "(100,)\n"
     ]
    }
   ],
   "source": [
    "print(X.shape)\n",
    "print(y.shape)"
   ],
   "metadata": {
    "collapsed": false,
    "pycharm": {
     "name": "#%%\n"
    }
   }
  },
  {
   "cell_type": "code",
   "execution_count": 4,
   "outputs": [
    {
     "name": "stdout",
     "output_type": "stream",
     "text": [
      "(20,) (20,) (80,) (80,)\n"
     ]
    }
   ],
   "source": [
    "from sklearn.model_selection import train_test_split\n",
    "X_train, X_test, y_train, y_test = train_test_split( X,y,test_size=0.20, random_state=42)\n",
    "print(X_test.shape, y_test.shape, X_train.shape,y_train.shape)"
   ],
   "metadata": {
    "collapsed": false,
    "pycharm": {
     "name": "#%%\n"
    }
   }
  },
  {
   "cell_type": "code",
   "execution_count": 5,
   "outputs": [],
   "source": [
    "import matplotlib.pyplot as plt\n",
    "import seaborn as sns\n",
    "%matplotlib inline"
   ],
   "metadata": {
    "collapsed": false,
    "pycharm": {
     "name": "#%%\n"
    }
   }
  },
  {
   "cell_type": "code",
   "execution_count": 6,
   "outputs": [
    {
     "data": {
      "text/plain": "array([8.7250058 , 6.51564176, 4.1841383 , 5.59345506, 0.09618719])"
     },
     "execution_count": 6,
     "metadata": {},
     "output_type": "execute_result"
    }
   ],
   "source": [
    "X_train[:5]"
   ],
   "metadata": {
    "collapsed": false,
    "pycharm": {
     "name": "#%%\n"
    }
   }
  },
  {
   "cell_type": "code",
   "execution_count": 7,
   "outputs": [
    {
     "data": {
      "text/plain": "array([38.0220415 , 28.86817601, 19.53735418, 25.52728742,  2.90344185])"
     },
     "execution_count": 7,
     "metadata": {},
     "output_type": "execute_result"
    }
   ],
   "source": [
    "y_train[:5]"
   ],
   "metadata": {
    "collapsed": false,
    "pycharm": {
     "name": "#%%\n"
    }
   }
  },
  {
   "cell_type": "markdown",
   "source": [
    "## lets visualise the tarining set"
   ],
   "metadata": {
    "collapsed": false,
    "pycharm": {
     "name": "#%% md\n"
    }
   }
  },
  {
   "cell_type": "code",
   "execution_count": 8,
   "outputs": [
    {
     "data": {
      "text/plain": "<Figure size 576x576 with 1 Axes>",
      "image/png": "[encoded data removed]"
     },
     "metadata": {},
     "output_type": "display_data"
    }
   ],
   "source": [
    "sns.set_style(\"white\")\n",
    "f = plt.figure(figsize = (8,8))\n",
    "sns.set_context(\"notebook\",font_scale = 1.5, rc={\"lines.linewidth\":2.5})\n",
    "\n",
    "plt.plot(X_train,y_train,\"b.\")\n",
    "plt.title(\"Data Points\")\n",
    "plt.grid(True)\n",
    "plt.xlabel(\"x$\",fontsize = 18)\n",
    "plt.ylabel(\"y\",rotation = 0, fontsize = 18)\n",
    "plt.axis([0,10,0,40])\n",
    "plt.show()"
   ],
   "metadata": {
    "collapsed": false,
    "pycharm": {
     "name": "#%%\n"
    }
   }
  },
  {
   "cell_type": "code",
   "execution_count": 9,
   "outputs": [
    {
     "data": {
      "text/plain": "array([[1.        , 2.71061271],\n       [1.        , 5.55885843],\n       [1.        , 7.34680303],\n       [1.        , 4.33912115],\n       [1.        , 8.96036903],\n       [1.        , 7.21648461],\n       [1.        , 4.89171354],\n       [1.        , 2.13141093],\n       [1.        , 1.61097474],\n       [1.        , 1.52659648],\n       [1.        , 9.03295367],\n       [1.        , 5.47101507],\n       [1.        , 2.20210339],\n       [1.        , 4.97925666],\n       [1.        , 9.62972596],\n       [1.        , 4.25709207],\n       [1.        , 1.0570388 ],\n       [1.        , 6.18343427],\n       [1.        , 2.83155405],\n       [1.        , 0.92251124],\n       [1.        , 5.51679278],\n       [1.        , 6.37064414],\n       [1.        , 5.64543941],\n       [1.        , 9.04751251],\n       [1.        , 2.27973824],\n       [1.        , 9.58045622],\n       [1.        , 4.1841383 ],\n       [1.        , 4.76553887],\n       [1.        , 0.56624155],\n       [1.        , 2.44851986],\n       [1.        , 7.71948758],\n       [1.        , 7.50124476],\n       [1.        , 2.14887986],\n       [1.        , 9.9315435 ],\n       [1.        , 8.11666179],\n       [1.        , 7.62029512],\n       [1.        , 0.56223015],\n       [1.        , 9.0394111 ],\n       [1.        , 0.7397895 ],\n       [1.        , 3.01175736],\n       [1.        , 0.26732981],\n       [1.        , 5.89408535],\n       [1.        , 5.59345506],\n       [1.        , 1.09062639],\n       [1.        , 6.46408115],\n       [1.        , 9.32998526],\n       [1.        , 0.56864455],\n       [1.        , 9.38680998],\n       [1.        , 2.86098877],\n       [1.        , 2.46820022],\n       [1.        , 9.23481   ],\n       [1.        , 2.05502502],\n       [1.        , 8.5461508 ],\n       [1.        , 6.29018829],\n       [1.        , 1.18044785],\n       [1.        , 8.7250058 ],\n       [1.        , 7.21701527],\n       [1.        , 4.67781668],\n       [1.        , 5.96445696],\n       [1.        , 8.65645556],\n       [1.        , 4.47822799],\n       [1.        , 2.17752409],\n       [1.        , 3.74157268],\n       [1.        , 0.92231421],\n       [1.        , 5.27244399],\n       [1.        , 1.37685203],\n       [1.        , 9.27733803],\n       [1.        , 7.62508616],\n       [1.        , 4.33962214],\n       [1.        , 0.09618719],\n       [1.        , 9.55835732],\n       [1.        , 0.22167951],\n       [1.        , 4.6063884 ],\n       [1.        , 0.16909844],\n       [1.        , 9.0180848 ],\n       [1.        , 0.73999567],\n       [1.        , 8.56029499],\n       [1.        , 7.91029325],\n       [1.        , 8.29803209],\n       [1.        , 1.57191272],\n       [1.        , 6.89494777],\n       [1.        , 6.63356105],\n       [1.        , 8.43913621],\n       [1.        , 2.77265865],\n       [1.        , 9.86702794],\n       [1.        , 3.42062408],\n       [1.        , 5.55421068],\n       [1.        , 9.95877165],\n       [1.        , 6.51564176],\n       [1.        , 3.04836535],\n       [1.        , 4.29687632],\n       [1.        , 8.12951074],\n       [1.        , 7.5172229 ],\n       [1.        , 6.85141646],\n       [1.        , 0.48974208],\n       [1.        , 4.3285572 ],\n       [1.        , 5.91259597],\n       [1.        , 6.33907516],\n       [1.        , 6.32177161],\n       [1.        , 8.90438781]])"
     },
     "execution_count": 9,
     "metadata": {},
     "output_type": "execute_result"
    }
   ],
   "source": [
    "np.column_stack((np.ones(X.shape[0]),X))"
   ],
   "metadata": {
    "collapsed": false,
    "pycharm": {
     "name": "#%%\n"
    }
   }
  },
  {
   "cell_type": "code",
   "execution_count": 10,
   "outputs": [],
   "source": [
    "def add_dummy_feature(x):\n",
    "    '''adds dummy feature to the dataset\n",
    "     Args:\n",
    "       x: Training dataset\n",
    "     Returns:\n",
    "          Training dataset with an addition of dummy features\n",
    "     '''\n",
    "    #np.ones(x.shape[0]) creates a vector of 1's having the same no.of rows as no.of samples in dataset\n",
    "    return np.column_stack((np.ones(x.shape[0]),x))"
   ],
   "metadata": {
    "collapsed": false,
    "pycharm": {
     "name": "#%%\n"
    }
   }
  },
  {
   "cell_type": "code",
   "execution_count": 11,
   "outputs": [
    {
     "data": {
      "text/plain": "array([[1., 1.],\n       [1., 3.],\n       [1., 4.]])"
     },
     "execution_count": 11,
     "metadata": {},
     "output_type": "execute_result"
    }
   ],
   "source": [
    "add_dummy_feature(np.array([1,3,4]))#test case"
   ],
   "metadata": {
    "collapsed": false,
    "pycharm": {
     "name": "#%%\n"
    }
   }
  },
  {
   "cell_type": "markdown",
   "source": [
    "## Model"
   ],
   "metadata": {
    "collapsed": false,
    "pycharm": {
     "name": "#%% md\n"
    }
   }
  },
  {
   "cell_type": "markdown",
   "source": [
    "Linear regression model uses linear combination of features to obtain output labels.In vectorized form, thi can be written as $y=Xw$"
   ],
   "metadata": {
    "collapsed": false,
    "pycharm": {
     "name": "#%% md\n"
    }
   }
  },
  {
   "cell_type": "code",
   "execution_count": 12,
   "outputs": [],
   "source": [
    "def predict(X,w):\n",
    "    '''Predictioon of output label for a given input\n",
    "        Args:\n",
    "           X: Feature matrix of shape(n,m+1)\n",
    "           w: weight vector of shape(m+1,n)\n",
    "        Returns:\n",
    "            y:Predicted label vector of shape(n,)\n",
    "    '''\n",
    "    #check that feature matrix and weight vector have compactible shapes\n",
    "    assert X.shape[-1]==w.shape[0]\n",
    "\n",
    "    y = X @ w\n",
    "    return y"
   ],
   "metadata": {
    "collapsed": false,
    "pycharm": {
     "name": "#%%\n"
    }
   }
  },
  {
   "cell_type": "code",
   "execution_count": 14,
   "outputs": [],
   "source": [
    "def loss(features, labels, weights):\n",
    "    e = predict(features, weights) - labels\n",
    "    loss = (1/2) * (np.transpose(e) @ e)\n",
    "    return loss"
   ],
   "metadata": {
    "collapsed": false,
    "pycharm": {
     "name": "#%%\n"
    }
   }
  },
  {
   "cell_type": "code",
   "execution_count": 1,
   "outputs": [
    {
     "name": "stdout",
     "output_type": "stream",
     "text": [
      "Shape of feature matrix (200,)\n",
      "Shape of label vector (200,)\n",
      "shape of training feature matrix (160,)\n",
      "shape of test feature matrix (40,)\n",
      "shape of training label (160,)\n",
      "shape of test label (40,)\n"
     ]
    }
   ],
   "source": [
    "import numpy as np\n",
    "w1=5\n",
    "w0=6\n",
    "n=200\n",
    "X=10*np.random.rand(n,)\n",
    "y=w0+w1*X+np.random.randn(n,)\n",
    "print(\"Shape of feature matrix\",X.shape)\n",
    "print(\"Shape of label vector\",y.shape)\n",
    "from sklearn.model_selection import train_test_split\n",
    "X_train,X_test,y_train,y_test = train_test_split (X,y,\n",
    "\n",
    "                                                  test_size=0.2,random_state=36)\n",
    "\n",
    "print(\"shape of training feature matrix\", X_train.shape)\n",
    "print(\"shape of test feature matrix\",X_test.shape)\n",
    "print(\"shape of training label\",y_train.shape)\n",
    "print(\"shape of test label\",y_test.shape)"
   ],
   "metadata": {
    "collapsed": false,
    "pycharm": {
     "name": "#%%\n"
    }
   }
  },
  {
   "cell_type": "code",
   "execution_count": null,
   "outputs": [],
   "source": [],
   "metadata": {
    "collapsed": false,
    "pycharm": {
     "name": "#%%\n"
    }
   }
  }
 ],
 "metadata": {
  "kernelspec": {
   "display_name": "Python 3",
   "language": "python",
   "name": "python3"
  },
  "language_info": {
   "codemirror_mode": {
    "name": "ipython",
    "version": 2
   },
   "file_extension": ".py",
   "mimetype": "text/x-python",
   "name": "python",
   "nbconvert_exporter": "python",
   "pygments_lexer": "ipython2",
   "version": "2.7.6"
  }
 },
 "nbformat": 4,
 "nbformat_minor": 0
}