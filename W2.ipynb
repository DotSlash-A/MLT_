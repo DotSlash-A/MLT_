{
 "cells": [
  {
   "cell_type": "code",
   "execution_count": 1,
   "outputs": [],
   "source": [
    "import numpy as np"
   ],
   "metadata": {
    "collapsed": false,
    "pycharm": {
     "name": "#%%\n"
    }
   }
  },
  {
   "cell_type": "markdown",
   "source": [
    "we are creating a dataset with 1 feature, so it will have 2 parameters. also our dataset will have 100 samples"
   ],
   "metadata": {
    "collapsed": false,
    "pycharm": {
     "name": "#%% md\n"
    }
   }
  },
  {
   "cell_type": "code",
   "execution_count": 2,
   "outputs": [],
   "source": [
    "w1 = 3\n",
    "w0 = 4\n",
    "n = 100\n",
    "\n",
    "X = 10 * np.random.rand(n,)\n",
    "y = w1 + w0 * X + np.random.randn(n,)"
   ],
   "metadata": {
    "collapsed": false,
    "pycharm": {
     "name": "#%%\n"
    }
   }
  },
  {
   "cell_type": "code",
   "execution_count": 3,
   "outputs": [
    {
     "name": "stdout",
     "output_type": "stream",
     "text": [
      "(100,)\n",
      "(100,)\n"
     ]
    }
   ],
   "source": [
    "print(X.shape)\n",
    "print(y.shape)"
   ],
   "metadata": {
    "collapsed": false,
    "pycharm": {
     "name": "#%%\n"
    }
   }
  },
  {
   "cell_type": "code",
   "execution_count": 4,
   "outputs": [
    {
     "name": "stdout",
     "output_type": "stream",
     "text": [
      "(20,) (20,) (80,) (80,)\n"
     ]
    }
   ],
   "source": [
    "from sklearn.model_selection import train_test_split\n",
    "X_train, X_test, y_train, y_test = train_test_split( X,y,test_size=0.20, random_state=42)\n",
    "print(X_test.shape, y_test.shape, X_train.shape,y_train.shape)"
   ],
   "metadata": {
    "collapsed": false,
    "pycharm": {
     "name": "#%%\n"
    }
   }
  },
  {
   "cell_type": "code",
   "execution_count": 5,
   "outputs": [],
   "source": [
    "import matplotlib.pyplot as plt\n",
    "import seaborn as sns\n",
    "%matplotlib inline"
   ],
   "metadata": {
    "collapsed": false,
    "pycharm": {
     "name": "#%%\n"
    }
   }
  },
  {
   "cell_type": "code",
   "execution_count": 6,
   "outputs": [
    {
     "data": {
      "text/plain": "array([2.52598522, 5.19150145, 7.76902124, 1.25650173, 3.95621941])"
     },
     "execution_count": 6,
     "metadata": {},
     "output_type": "execute_result"
    }
   ],
   "source": [
    "X_train[:5]"
   ],
   "metadata": {
    "collapsed": false,
    "pycharm": {
     "name": "#%%\n"
    }
   }
  },
  {
   "cell_type": "code",
   "execution_count": 7,
   "outputs": [
    {
     "data": {
      "text/plain": "array([11.94995403, 25.59056598, 33.93605963,  6.52577215, 19.10165693])"
     },
     "execution_count": 7,
     "metadata": {},
     "output_type": "execute_result"
    }
   ],
   "source": [
    "y_train[:5]"
   ],
   "metadata": {
    "collapsed": false,
    "pycharm": {
     "name": "#%%\n"
    }
   }
  },
  {
   "cell_type": "markdown",
   "source": [
    "## lets visualise the tarining set"
   ],
   "metadata": {
    "collapsed": false,
    "pycharm": {
     "name": "#%% md\n"
    }
   }
  },
  {
   "cell_type": "code",
   "execution_count": 8,
   "outputs": [
    {
     "data": {
      "text/plain": "<Figure size 576x576 with 1 Axes>",
      "image/png": "[encoded data removed]"
     },
     "metadata": {},
     "output_type": "display_data"
    }
   ],
   "source": [
    "sns.set_style(\"white\")\n",
    "f = plt.figure(figsize = (8,8))\n",
    "sns.set_context(\"notebook\",font_scale = 1.5, rc={\"lines.linewidth\":2.5})\n",
    "\n",
    "plt.plot(X_train,y_train,\"b.\")\n",
    "plt.title(\"Data Points\")\n",
    "plt.grid(True)\n",
    "plt.xlabel(\"x$\",fontsize = 18)\n",
    "plt.ylabel(\"y\",rotation = 0, fontsize = 18)\n",
    "plt.axis([0,10,0,40])\n",
    "plt.show()"
   ],
   "metadata": {
    "collapsed": false,
    "pycharm": {
     "name": "#%%\n"
    }
   }
  },
  {
   "cell_type": "code",
   "execution_count": 9,
   "outputs": [],
   "source": [
    "def add_dummy_feature(x):\n",
    "    return np.column_stack((np.ones(x.shape[0]),x))"
   ],
   "metadata": {
    "collapsed": false,
    "pycharm": {
     "name": "#%%\n"
    }
   }
  },
  {
   "cell_type": "code",
   "execution_count": 10,
   "outputs": [],
   "source": [
    "import unittest\n",
    "class TestAddDummyFeature(unittest.TestCase):\n",
    "    def test_add_dummy_feature(self):\n",
    "        train_matrix = np.array([[3,2,5],[9,4,7]])\n",
    "        train_matrix_with_dummy_feature = add_dummy_feature(train_matrix)\n",
    "\n",
    "        #test the shape\n",
    "        self.assertEqual(train_matrix_with_dummy_feature.shape, (2,4))\n",
    "\n",
    "        #add contents\n",
    "        np.testing.assert_array_equal(\n",
    "            train_matrix_with_dummy_feature,\n",
    "            np.array([[1,3,2,5],[1,9,4,7]]))\n",
    "        unittest.main(argv=[''], defaultTest='TestAddDummyFeature', verbosity=2, exit=False)"
   ],
   "metadata": {
    "collapsed": false,
    "pycharm": {
     "name": "#%%\n"
    }
   }
  },
  {
   "cell_type": "code",
   "execution_count": 12,
   "outputs": [],
   "source": [
    "def predict(X,w):\n",
    "\n",
    "    assert X.shape[-1]==w.shape[0]\n",
    "\n",
    "    y = X @ w\n",
    "    return y"
   ],
   "metadata": {
    "collapsed": false,
    "pycharm": {
     "name": "#%%\n"
    }
   }
  },
  {
   "cell_type": "code",
   "execution_count": 14,
   "outputs": [],
   "source": [
    "def loss(features, labels, weights):\n",
    "    e = predict(features, weights) - labels\n",
    "    loss = (1/2) * (np.transpose(e) @ e)\n",
    "    return loss"
   ],
   "metadata": {
    "collapsed": false,
    "pycharm": {
     "name": "#%%\n"
    }
   }
  },
  {
   "cell_type": "code",
   "execution_count": 1,
   "outputs": [
    {
     "name": "stdout",
     "output_type": "stream",
     "text": [
      "Shape of feature matrix (200,)\n",
      "Shape of label vector (200,)\n",
      "shape of training feature matrix (160,)\n",
      "shape of test feature matrix (40,)\n",
      "shape of training label (160,)\n",
      "shape of test label (40,)\n"
     ]
    }
   ],
   "source": [
    "import numpy as np\n",
    "w1=5\n",
    "w0=6\n",
    "n=200\n",
    "X=10*np.random.rand(n,)\n",
    "y=w0+w1*X+np.random.randn(n,)\n",
    "print(\"Shape of feature matrix\",X.shape)\n",
    "print(\"Shape of label vector\",y.shape)\n",
    "from sklearn.model_selection import train_test_split\n",
    "X_train,X_test,y_train,y_test = train_test_split (X,y,\n",
    "\n",
    "                                                  test_size=0.2,random_state=36)\n",
    "\n",
    "print(\"shape of training feature matrix\", X_train.shape)\n",
    "print(\"shape of test feature matrix\",X_test.shape)\n",
    "print(\"shape of training label\",y_train.shape)\n",
    "print(\"shape of test label\",y_test.shape)"
   ],
   "metadata": {
    "collapsed": false,
    "pycharm": {
     "name": "#%%\n"
    }
   }
  },
  {
   "cell_type": "code",
   "execution_count": null,
   "outputs": [],
   "source": [],
   "metadata": {
    "collapsed": false,
    "pycharm": {
     "name": "#%%\n"
    }
   }
  }
 ],
 "metadata": {
  "kernelspec": {
   "display_name": "Python 3",
   "language": "python",
   "name": "python3"
  },
  "language_info": {
   "codemirror_mode": {
    "name": "ipython",
    "version": 2
   },
   "file_extension": ".py",
   "mimetype": "text/x-python",
   "name": "python",
   "nbconvert_exporter": "python",
   "pygments_lexer": "ipython2",
   "version": "2.7.6"
  }
 },
 "nbformat": 4,
 "nbformat_minor": 0
}