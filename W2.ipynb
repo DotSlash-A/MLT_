{
 "cells": [
  {
   "cell_type": "code",
   "execution_count": 2,
   "outputs": [],
   "source": [
    "import numpy as np"
   ],
   "metadata": {
    "collapsed": false,
    "pycharm": {
     "name": "#%%\n"
    }
   }
  },
  {
   "cell_type": "markdown",
   "source": [
    "we are creating a dataset with 1 feature, so it will have 2 parameters. also our dataset will have 100 samples"
   ],
   "metadata": {
    "collapsed": false,
    "pycharm": {
     "name": "#%% md\n"
    }
   }
  },
  {
   "cell_type": "code",
   "execution_count": 3,
   "outputs": [],
   "source": [
    "w1 = 3\n",
    "w0 = 4\n",
    "n = 100\n",
    "\n",
    "X = 10 * np.random.rand(n,)\n",
    "y = w1 + w0 * X + np.random.randn(n,)"
   ],
   "metadata": {
    "collapsed": false,
    "pycharm": {
     "name": "#%%\n"
    }
   }
  },
  {
   "cell_type": "code",
   "execution_count": 4,
   "outputs": [
    {
     "name": "stdout",
     "output_type": "stream",
     "text": [
      "(100,)\n",
      "(100,)\n"
     ]
    }
   ],
   "source": [
    "print(X.shape)\n",
    "print(y.shape)"
   ],
   "metadata": {
    "collapsed": false,
    "pycharm": {
     "name": "#%%\n"
    }
   }
  },
  {
   "cell_type": "code",
   "execution_count": 5,
   "outputs": [
    {
     "name": "stdout",
     "output_type": "stream",
     "text": [
      "(20,) (20,) (80,) (80,)\n"
     ]
    }
   ],
   "source": [
    "from sklearn.model_selection import train_test_split\n",
    "X_train, X_test, y_train, y_test = train_test_split( X,y,test_size=0.20, random_state=42)\n",
    "print(X_test.shape, y_test.shape, X_train.shape,y_train.shape)"
   ],
   "metadata": {
    "collapsed": false,
    "pycharm": {
     "name": "#%%\n"
    }
   }
  },
  {
   "cell_type": "code",
   "execution_count": 6,
   "outputs": [],
   "source": [
    "import matplotlib.pyplot as plt\n",
    "import seaborn as sns\n",
    "%matplotlib inline"
   ],
   "metadata": {
    "collapsed": false,
    "pycharm": {
     "name": "#%%\n"
    }
   }
  },
  {
   "cell_type": "code",
   "execution_count": 7,
   "outputs": [
    {
     "data": {
      "text/plain": "array([0.88329104, 0.55845496, 2.01446794, 1.61624265, 9.04259074])"
     },
     "execution_count": 7,
     "metadata": {},
     "output_type": "execute_result"
    }
   ],
   "source": [
    "X_train[:5]"
   ],
   "metadata": {
    "collapsed": false,
    "pycharm": {
     "name": "#%%\n"
    }
   }
  },
  {
   "cell_type": "code",
   "execution_count": 8,
   "outputs": [
    {
     "data": {
      "text/plain": "array([ 6.94127403,  4.10294698, 11.53409243,  9.48616469, 40.24425953])"
     },
     "execution_count": 8,
     "metadata": {},
     "output_type": "execute_result"
    }
   ],
   "source": [
    "y_train[:5]"
   ],
   "metadata": {
    "collapsed": false,
    "pycharm": {
     "name": "#%%\n"
    }
   }
  },
  {
   "cell_type": "markdown",
   "source": [
    "## lets visualise the tarining set"
   ],
   "metadata": {
    "collapsed": false,
    "pycharm": {
     "name": "#%% md\n"
    }
   }
  },
  {
   "cell_type": "code",
   "execution_count": 9,
   "outputs": [
    {
     "data": {
      "text/plain": "<Figure size 576x576 with 1 Axes>",
      "image/png": "[encoded data removed]"
     },
     "metadata": {},
     "output_type": "display_data"
    }
   ],
   "source": [
    "sns.set_style(\"white\")\n",
    "f = plt.figure(figsize = (8,8))\n",
    "sns.set_context(\"notebook\",font_scale = 1.5, rc={\"lines.linewidth\":2.5})\n",
    "\n",
    "plt.plot(X_train,y_train,\"b.\")\n",
    "plt.title(\"Data Points\")\n",
    "plt.grid(True)\n",
    "plt.xlabel(\"x$\",fontsize = 18)\n",
    "plt.ylabel(\"y\",rotation = 0, fontsize = 18)\n",
    "plt.axis([0,10,0,40])\n",
    "plt.show()"
   ],
   "metadata": {
    "collapsed": false,
    "pycharm": {
     "name": "#%%\n"
    }
   }
  },
  {
   "cell_type": "code",
   "execution_count": 10,
   "outputs": [
    {
     "data": {
      "text/plain": "array([[1.00000000e+00, 7.93457203e+00],\n       [1.00000000e+00, 2.40775122e+00],\n       [1.00000000e+00, 9.94558669e+00],\n       [1.00000000e+00, 1.03382053e+00],\n       [1.00000000e+00, 3.90028995e+00],\n       [1.00000000e+00, 9.64662286e+00],\n       [1.00000000e+00, 2.63295369e+00],\n       [1.00000000e+00, 8.80681420e+00],\n       [1.00000000e+00, 3.49688738e+00],\n       [1.00000000e+00, 3.18221441e+00],\n       [1.00000000e+00, 5.10586477e+00],\n       [1.00000000e+00, 3.17397093e-03],\n       [1.00000000e+00, 8.46566201e+00],\n       [1.00000000e+00, 2.49374216e+00],\n       [1.00000000e+00, 6.49309276e-01],\n       [1.00000000e+00, 4.39419500e+00],\n       [1.00000000e+00, 8.08743424e+00],\n       [1.00000000e+00, 6.69719461e+00],\n       [1.00000000e+00, 2.47887448e+00],\n       [1.00000000e+00, 5.03590167e+00],\n       [1.00000000e+00, 5.46435631e+00],\n       [1.00000000e+00, 2.51532876e-01],\n       [1.00000000e+00, 3.32877596e+00],\n       [1.00000000e+00, 4.76263231e+00],\n       [1.00000000e+00, 5.36137584e+00],\n       [1.00000000e+00, 3.45271610e-01],\n       [1.00000000e+00, 2.01446794e+00],\n       [1.00000000e+00, 4.36660315e+00],\n       [1.00000000e+00, 1.44055765e+00],\n       [1.00000000e+00, 8.03518000e+00],\n       [1.00000000e+00, 1.53225496e+00],\n       [1.00000000e+00, 1.39218048e+00],\n       [1.00000000e+00, 6.88271503e+00],\n       [1.00000000e+00, 2.34153205e+00],\n       [1.00000000e+00, 8.45003664e+00],\n       [1.00000000e+00, 5.77383000e+00],\n       [1.00000000e+00, 5.87183565e-01],\n       [1.00000000e+00, 3.67315984e+00],\n       [1.00000000e+00, 6.64125988e+00],\n       [1.00000000e+00, 2.72387229e+00],\n       [1.00000000e+00, 5.51209756e+00],\n       [1.00000000e+00, 7.43074989e+00],\n       [1.00000000e+00, 1.61624265e+00],\n       [1.00000000e+00, 6.33527352e+00],\n       [1.00000000e+00, 2.84541624e+00],\n       [1.00000000e+00, 4.91265383e+00],\n       [1.00000000e+00, 8.11478027e+00],\n       [1.00000000e+00, 9.77836511e-01],\n       [1.00000000e+00, 2.46589258e+00],\n       [1.00000000e+00, 5.90782303e+00],\n       [1.00000000e+00, 1.35474765e+00],\n       [1.00000000e+00, 4.88430325e+00],\n       [1.00000000e+00, 1.69343304e+00],\n       [1.00000000e+00, 6.38862512e+00],\n       [1.00000000e+00, 8.00522239e+00],\n       [1.00000000e+00, 8.83291044e-01],\n       [1.00000000e+00, 8.79659931e+00],\n       [1.00000000e+00, 8.18230569e+00],\n       [1.00000000e+00, 9.35018235e+00],\n       [1.00000000e+00, 1.53890668e+00],\n       [1.00000000e+00, 4.90891573e-01],\n       [1.00000000e+00, 8.45480441e+00],\n       [1.00000000e+00, 3.09438150e+00],\n       [1.00000000e+00, 1.02688056e+00],\n       [1.00000000e+00, 1.94285656e+00],\n       [1.00000000e+00, 6.29613774e+00],\n       [1.00000000e+00, 8.21893228e+00],\n       [1.00000000e+00, 1.60453384e+00],\n       [1.00000000e+00, 4.30325321e+00],\n       [1.00000000e+00, 9.04259074e+00],\n       [1.00000000e+00, 7.57435153e+00],\n       [1.00000000e+00, 4.25405226e+00],\n       [1.00000000e+00, 2.41353131e+00],\n       [1.00000000e+00, 4.67388608e+00],\n       [1.00000000e+00, 2.82023151e+00],\n       [1.00000000e+00, 5.90308668e-01],\n       [1.00000000e+00, 6.50892373e+00],\n       [1.00000000e+00, 3.77149292e+00],\n       [1.00000000e+00, 1.47923197e+00],\n       [1.00000000e+00, 3.73250269e+00],\n       [1.00000000e+00, 9.55564014e+00],\n       [1.00000000e+00, 3.52261941e+00],\n       [1.00000000e+00, 4.18074919e+00],\n       [1.00000000e+00, 7.03091640e-01],\n       [1.00000000e+00, 7.71366781e+00],\n       [1.00000000e+00, 9.45241479e+00],\n       [1.00000000e+00, 8.07097776e+00],\n       [1.00000000e+00, 5.88445376e-01],\n       [1.00000000e+00, 5.58454964e-01],\n       [1.00000000e+00, 2.15753322e+00],\n       [1.00000000e+00, 2.10944732e+00],\n       [1.00000000e+00, 3.65323873e+00],\n       [1.00000000e+00, 4.93313711e+00],\n       [1.00000000e+00, 8.32317376e+00],\n       [1.00000000e+00, 9.59242393e-01],\n       [1.00000000e+00, 3.14400420e+00],\n       [1.00000000e+00, 1.34772040e-01],\n       [1.00000000e+00, 5.01549444e+00],\n       [1.00000000e+00, 3.76554792e+00],\n       [1.00000000e+00, 8.49770934e+00]])"
     },
     "execution_count": 10,
     "metadata": {},
     "output_type": "execute_result"
    }
   ],
   "source": [
    "np.column_stack((np.ones(X.shape[0]),X))"
   ],
   "metadata": {
    "collapsed": false,
    "pycharm": {
     "name": "#%%\n"
    }
   }
  },
  {
   "cell_type": "code",
   "execution_count": 11,
   "outputs": [],
   "source": [
    "def add_dummy_feature(x):\n",
    "    '''adds dummy feature to the dataset\n",
    "     Args:\n",
    "       x: Training dataset\n",
    "     Returns:\n",
    "          Training dataset with an addition of dummy features\n",
    "     '''\n",
    "    #np.ones(x.shape[0]) creates a vector of 1's having the same no.of rows as no.of samples in dataset\n",
    "    return np.column_stack((np.ones(x.shape[0]),x))"
   ],
   "metadata": {
    "collapsed": false,
    "pycharm": {
     "name": "#%%\n"
    }
   }
  },
  {
   "cell_type": "code",
   "execution_count": 12,
   "outputs": [
    {
     "data": {
      "text/plain": "array([[1., 1.],\n       [1., 3.],\n       [1., 4.]])"
     },
     "execution_count": 12,
     "metadata": {},
     "output_type": "execute_result"
    }
   ],
   "source": [
    "add_dummy_feature(np.array([1,3,4]))#test case"
   ],
   "metadata": {
    "collapsed": false,
    "pycharm": {
     "name": "#%%\n"
    }
   }
  },
  {
   "cell_type": "markdown",
   "source": [
    "# C2- Model"
   ],
   "metadata": {
    "collapsed": false,
    "pycharm": {
     "name": "#%% md\n"
    }
   }
  },
  {
   "cell_type": "markdown",
   "source": [
    "Linear regression model uses linear combination of features to obtain output labels.In vectorized form, thi can be written as $y=Xw$"
   ],
   "metadata": {
    "collapsed": false,
    "pycharm": {
     "name": "#%% md\n"
    }
   }
  },
  {
   "cell_type": "code",
   "execution_count": 13,
   "outputs": [],
   "source": [
    "def predict(X,w):\n",
    "    '''Predictioon of output label for a given input\n",
    "        Args:\n",
    "           X: Feature matrix of shape(n,m+1)\n",
    "           w: weight vector of shape(m+1,n)\n",
    "        Returns:\n",
    "            y:Predicted label vector of shape(n,)\n",
    "    '''\n",
    "    #check that feature matrix and weight vector have compactible shapes\n",
    "    assert X.shape[-1]==w.shape[0]\n",
    "\n",
    "    y = X @ w #matrix vec multiplicaiton\n",
    "    return y"
   ],
   "metadata": {
    "collapsed": false,
    "pycharm": {
     "name": "#%%\n"
    }
   }
  },
  {
   "cell_type": "code",
   "execution_count": 14,
   "outputs": [
    {
     "data": {
      "text/plain": "array([11., 21.])"
     },
     "execution_count": 14,
     "metadata": {},
     "output_type": "execute_result"
    }
   ],
   "source": [
    "#testing if predict works or not\n",
    "A = np.array([[1,3,2,5],[1,9,4,7]]) #feature matrix\n",
    "r = np.ones(4)\n",
    "l = predict(A,r)\n",
    "l"
   ],
   "metadata": {
    "collapsed": false,
    "pycharm": {
     "name": "#%%\n"
    }
   }
  },
  {
   "cell_type": "markdown",
   "source": [
    "Demonstrating this model on a synthetic dataset"
   ],
   "metadata": {
    "collapsed": false,
    "pycharm": {
     "name": "#%% md\n"
    }
   }
  },
  {
   "cell_type": "code",
   "execution_count": 15,
   "outputs": [],
   "source": [
    "#Preparing the dataset\n",
    "[w0,w1]=[4,3]\n",
    "n=100\n",
    "x=10*np.random.randn(n,)\n",
    "y = w0+w1*x+np.random.randn(n,)"
   ],
   "metadata": {
    "collapsed": false,
    "pycharm": {
     "name": "#%%\n"
    }
   }
  },
  {
   "cell_type": "code",
   "execution_count": 16,
   "outputs": [],
   "source": [
    "#preprocessing: dummy feature and train test split\n",
    "X_with_dummy = add_dummy_feature(x)\n",
    "\n",
    "from sklearn.model_selection import train_test_split\n",
    "X_train, X_test, y_train, y_test = train_test_split(X_with_dummy, y, test_size=0.2, random_state=42)"
   ],
   "metadata": {
    "collapsed": false,
    "pycharm": {
     "name": "#%%\n"
    }
   }
  },
  {
   "cell_type": "code",
   "execution_count": 17,
   "outputs": [
    {
     "data": {
      "text/plain": "array([0.77252048, 0.64183133])"
     },
     "execution_count": 17,
     "metadata": {},
     "output_type": "execute_result"
    }
   ],
   "source": [
    "w = np.random.rand(2,)\n",
    "w"
   ],
   "metadata": {
    "collapsed": false,
    "pycharm": {
     "name": "#%%\n"
    }
   }
  },
  {
   "cell_type": "code",
   "execution_count": 18,
   "outputs": [],
   "source": [
    "y_hat = predict(X_train,w)"
   ],
   "metadata": {
    "collapsed": false,
    "pycharm": {
     "name": "#%%\n"
    }
   }
  },
  {
   "cell_type": "code",
   "execution_count": 19,
   "outputs": [
    {
     "data": {
      "text/plain": "array([ 3.86823075e+00, -2.63774787e+00, -7.80459476e+00,  5.32795491e+00,\n        4.19767480e-01,  3.97755397e-04,  3.39414489e+00, -9.98914293e+00,\n        9.23834465e-01,  1.20431740e-01])"
     },
     "execution_count": 19,
     "metadata": {},
     "output_type": "execute_result"
    }
   ],
   "source": [
    "y_hat[:10]"
   ],
   "metadata": {
    "collapsed": false,
    "pycharm": {
     "name": "#%%\n"
    }
   }
  },
  {
   "cell_type": "code",
   "execution_count": 20,
   "outputs": [
    {
     "data": {
      "text/plain": "array([-43.75531839,   7.82961186, -53.52551733,   9.63159586,\n        30.89075702,  21.5377427 ,  34.81749116,  49.99446831,\n        -3.28115676,   5.2115958 ])"
     },
     "execution_count": 20,
     "metadata": {},
     "output_type": "execute_result"
    }
   ],
   "source": [
    "y[:10]"
   ],
   "metadata": {
    "collapsed": false,
    "pycharm": {
     "name": "#%%\n"
    }
   }
  },
  {
   "cell_type": "code",
   "execution_count": 21,
   "outputs": [],
   "source": [
    "def non_vectorized_predict(X,w):\n",
    "    '''Prediction of output for a given input.\n",
    "    Args:\n",
    "        X: Feature matrix of shape (n, m+1)\n",
    "        w: Weight vector of shape (m+1, n)\n",
    "    Returns:\n",
    "        y: Predicted label vector of shape (n, ).\n",
    "    '''\n",
    "    y = []\n",
    "    for i in range(0,X.shape[0]):\n",
    "        y_hat_i = 0\n",
    "        for j in range(0,X.shape[1]):\n",
    "            y_hat_i += X[i][j]*w[j]\n",
    "        y.append(y_hat_i)\n",
    "    return np.array(y)"
   ],
   "metadata": {
    "collapsed": false,
    "pycharm": {
     "name": "#%%\n"
    }
   }
  },
  {
   "cell_type": "markdown",
   "source": [
    "# C3 - Loss"
   ],
   "metadata": {
    "collapsed": false,
    "pycharm": {
     "name": "#%% md\n"
    }
   }
  },
  {
   "cell_type": "markdown",
   "source": [
    "Loss fun is:\n",
    "$$J(w) = \\frac{1}{2}(Xw-y)^t(Xw-y)$$\n",
    " - X is a feature matrix with (m+1) features for n examples along rows\n",
    " - w is a weight vector containing (m+1) weights one for each feature\n",
    " - y is a label matrix containign labels for n examples in a vector of shape(n,)"
   ],
   "metadata": {
    "collapsed": false,
    "pycharm": {
     "name": "#%% md\n"
    }
   }
  },
  {
   "cell_type": "code",
   "execution_count": 22,
   "outputs": [],
   "source": [
    "def loss(features, labels, weights):\n",
    "    e = predict(features, weights) - labels # e = predict(X,w)-y\n",
    "    loss = (1/2) * (np.transpose(e) @ e)\n",
    "    return loss"
   ],
   "metadata": {
    "collapsed": false,
    "pycharm": {
     "name": "#%%\n"
    }
   }
  },
  {
   "cell_type": "code",
   "execution_count": 23,
   "outputs": [
    {
     "data": {
      "text/plain": "62.5"
     },
     "execution_count": 23,
     "metadata": {},
     "output_type": "execute_result"
    }
   ],
   "source": [
    "c = np.array([6,11])\n",
    "loss(A,c,r)"
   ],
   "metadata": {
    "collapsed": false,
    "pycharm": {
     "name": "#%%\n"
    }
   }
  },
  {
   "cell_type": "markdown",
   "source": [
    "# C4- Optimaization"
   ],
   "metadata": {
    "collapsed": false,
    "pycharm": {
     "name": "#%% md\n"
    }
   }
  },
  {
   "cell_type": "markdown",
   "source": [
    "Optimization is done with one of the two following methods:\n",
    "- Normal Equaiton method, that sets the partial derivative of the loss function wrt weight vectors to 0 and solves the resulting equation to obtain the weight vector\n",
    "- Gradient descent method, that iteratively adjusts the weight vectir based on the learning rate and the gradient of loss function at the current weight vector"
   ],
   "metadata": {
    "collapsed": false,
    "pycharm": {
     "name": "#%% md\n"
    }
   }
  },
  {
   "cell_type": "markdown",
   "source": [
    "## Normal equation\n",
    "- we make use of `np.linalg.pinv` for calculating the psuedoinverse of the feature matrix"
   ],
   "metadata": {
    "collapsed": false,
    "pycharm": {
     "name": "#%% md\n"
    }
   }
  },
  {
   "cell_type": "code",
   "execution_count": 24,
   "outputs": [],
   "source": [
    "def normal_equation(X, y):\n",
    "    '''Estimates parameters of the linear regression model with normal equation\n",
    "    Args:\n",
    "        X: feature matrix for given inputs.\n",
    "        y: Actual label vector\n",
    "\n",
    "    Returns:\n",
    "        Weight vector\n",
    "    '''\n",
    "    return np.linalg.pinv(X) @ y"
   ],
   "metadata": {
    "collapsed": false,
    "pycharm": {
     "name": "#%%\n"
    }
   }
  },
  {
   "cell_type": "code",
   "execution_count": 25,
   "outputs": [
    {
     "data": {
      "text/plain": "array([3.85906791, 2.97850104])"
     },
     "execution_count": 25,
     "metadata": {},
     "output_type": "execute_result"
    }
   ],
   "source": [
    "normal_equation(X_train,y_train)"
   ],
   "metadata": {
    "collapsed": false,
    "pycharm": {
     "name": "#%%\n"
    }
   }
  },
  {
   "cell_type": "markdown",
   "source": [
    "## Gradient descent\n"
   ],
   "metadata": {
    "collapsed": false,
    "pycharm": {
     "name": "#%% md\n"
    }
   }
  },
  {
   "cell_type": "markdown",
   "source": [
    "### calculating the gradient\n",
    "GD is implemented as follows\n",
    "\n",
    "- Randomly initialize  to 0.\n",
    "- Iterate until convergence:\n",
    "    - Calculate partial derivative of loss w.r.t weight vector\n",
    "    - Calculate new values of weights\n",
    "    - Update weights to new values simultaneously\n",
    "\n",
    "We use number of epochs as a convergence criteria in this implementation\n",
    "*partial derivative of loss function is* $$ \\frac{\\partial }{\\partial w} J(w) = X^T(Xw-y)$$\n",
    "The multipication of transpose of feature matrix with the difference of predicted and actual label vectors"
   ],
   "metadata": {
    "collapsed": false,
    "pycharm": {
     "name": "#%% md\n"
    }
   }
  },
  {
   "cell_type": "code",
   "execution_count": 31,
   "outputs": [
    {
     "data": {
      "text/plain": "array([ 15., 105.,  50.,  95.])"
     },
     "execution_count": 31,
     "metadata": {},
     "output_type": "execute_result"
    }
   ],
   "source": [
    "def calculate_gradient(X,y,w): #(feature matrix,label vector, weights)\n",
    "    return np.transpose(X) @ (predict(X,w)-y)\n",
    "\n",
    "g=calculate_gradient(A,c,r)\n",
    "g"
   ],
   "metadata": {
    "collapsed": false,
    "pycharm": {
     "name": "#%%\n"
    }
   }
  },
  {
   "cell_type": "markdown",
   "source": [
    "### Weight updates"
   ],
   "metadata": {
    "collapsed": false,
    "pycharm": {
     "name": "#%% md\n"
    }
   }
  },
  {
   "cell_type": "code",
   "execution_count": 32,
   "outputs": [],
   "source": [
    "def update_weights(w, grad, lr):\n",
    "\n",
    "    '''updates the wieights based on the gradient of the loss function.\n",
    "    weight updates are carried out with the following formula:\n",
    "    w_new := w_old - lr * grad\n",
    "\n",
    "    Args:\n",
    "      1. w : wight vector\n",
    "      2. grad: gradient of loss wrt w\n",
    "      3. lr: learning rate\n",
    "\n",
    "    Returns:\n",
    "      Updated Weight Vector\n",
    "    '''\n",
    "    return (w-(lr*grad))"
   ],
   "metadata": {
    "collapsed": false,
    "pycharm": {
     "name": "#%%\n"
    }
   }
  },
  {
   "cell_type": "code",
   "execution_count": 34,
   "outputs": [
    {
     "data": {
      "text/plain": "array([0.985, 0.895, 0.95 , 0.905])"
     },
     "execution_count": 34,
     "metadata": {},
     "output_type": "execute_result"
    }
   ],
   "source": [
    "lr = 0.001\n",
    "update_weights(r,g,lr)"
   ],
   "metadata": {
    "collapsed": false,
    "pycharm": {
     "name": "#%%\n"
    }
   }
  },
  {
   "cell_type": "code",
   "execution_count": null,
   "outputs": [],
   "source": [],
   "metadata": {
    "collapsed": false,
    "pycharm": {
     "name": "#%%\n"
    }
   }
  }
 ],
 "metadata": {
  "kernelspec": {
   "display_name": "Python 3",
   "language": "python",
   "name": "python3"
  },
  "language_info": {
   "codemirror_mode": {
    "name": "ipython",
    "version": 2
   },
   "file_extension": ".py",
   "mimetype": "text/x-python",
   "name": "python",
   "nbconvert_exporter": "python",
   "pygments_lexer": "ipython2",
   "version": "2.7.6"
  }
 },
 "nbformat": 4,
 "nbformat_minor": 0
}