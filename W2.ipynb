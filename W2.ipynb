{
 "cells": [
  {
   "cell_type": "code",
   "execution_count": 1,
   "outputs": [],
   "source": [
    "import numpy as np"
   ],
   "metadata": {
    "collapsed": false,
    "pycharm": {
     "name": "#%%\n"
    }
   }
  },
  {
   "cell_type": "markdown",
   "source": [
    "we are creating a dataset with 1 feature, so it will have 2 parameters. also our dataset will have 100 samples"
   ],
   "metadata": {
    "collapsed": false,
    "pycharm": {
     "name": "#%% md\n"
    }
   }
  },
  {
   "cell_type": "code",
   "execution_count": 2,
   "outputs": [],
   "source": [
    "w1 = 3\n",
    "w0 = 4\n",
    "n = 100\n",
    "\n",
    "X = 10 * np.random.rand(n,)\n",
    "y = w1 + w0 * X + np.random.randn(n,)"
   ],
   "metadata": {
    "collapsed": false,
    "pycharm": {
     "name": "#%%\n"
    }
   }
  },
  {
   "cell_type": "code",
   "execution_count": 3,
   "outputs": [
    {
     "name": "stdout",
     "output_type": "stream",
     "text": [
      "(100,)\n",
      "(100,)\n"
     ]
    }
   ],
   "source": [
    "print(X.shape)\n",
    "print(y.shape)"
   ],
   "metadata": {
    "collapsed": false,
    "pycharm": {
     "name": "#%%\n"
    }
   }
  },
  {
   "cell_type": "code",
   "execution_count": 4,
   "outputs": [
    {
     "name": "stdout",
     "output_type": "stream",
     "text": [
      "(20,) (20,) (80,) (80,)\n"
     ]
    }
   ],
   "source": [
    "from sklearn.model_selection import train_test_split\n",
    "X_train, X_test, y_train, y_test = train_test_split( X,y,test_size=0.20, random_state=42)\n",
    "print(X_test.shape, y_test.shape, X_train.shape,y_train.shape)"
   ],
   "metadata": {
    "collapsed": false,
    "pycharm": {
     "name": "#%%\n"
    }
   }
  },
  {
   "cell_type": "code",
   "execution_count": 5,
   "outputs": [],
   "source": [
    "import matplotlib.pyplot as plt\n",
    "import seaborn as sns\n",
    "%matplotlib inline"
   ],
   "metadata": {
    "collapsed": false,
    "pycharm": {
     "name": "#%%\n"
    }
   }
  },
  {
   "cell_type": "code",
   "execution_count": 6,
   "outputs": [
    {
     "data": {
      "text/plain": "array([5.31987277, 7.09340622, 4.67126386, 6.97148706, 1.05815219])"
     },
     "execution_count": 6,
     "metadata": {},
     "output_type": "execute_result"
    }
   ],
   "source": [
    "X_train[:5]"
   ],
   "metadata": {
    "collapsed": false,
    "pycharm": {
     "name": "#%%\n"
    }
   }
  },
  {
   "cell_type": "code",
   "execution_count": 7,
   "outputs": [
    {
     "data": {
      "text/plain": "array([23.75489887, 31.35886143, 22.17852016, 30.26432667,  7.74818743])"
     },
     "execution_count": 7,
     "metadata": {},
     "output_type": "execute_result"
    }
   ],
   "source": [
    "y_train[:5]"
   ],
   "metadata": {
    "collapsed": false,
    "pycharm": {
     "name": "#%%\n"
    }
   }
  },
  {
   "cell_type": "markdown",
   "source": [
    "## lets visualise the tarining set"
   ],
   "metadata": {
    "collapsed": false,
    "pycharm": {
     "name": "#%% md\n"
    }
   }
  },
  {
   "cell_type": "code",
   "execution_count": 8,
   "outputs": [
    {
     "data": {
      "text/plain": "<Figure size 576x576 with 1 Axes>",
      "image/png": "[encoded data removed]"
     },
     "metadata": {},
     "output_type": "display_data"
    }
   ],
   "source": [
    "sns.set_style(\"white\")\n",
    "f = plt.figure(figsize = (8,8))\n",
    "sns.set_context(\"notebook\",font_scale = 1.5, rc={\"lines.linewidth\":2.5})\n",
    "\n",
    "plt.plot(X_train,y_train,\"b.\")\n",
    "plt.title(\"Data Points\")\n",
    "plt.grid(True)\n",
    "plt.xlabel(\"x$\",fontsize = 18)\n",
    "plt.ylabel(\"y\",rotation = 0, fontsize = 18)\n",
    "plt.axis([0,10,0,40])\n",
    "plt.show()"
   ],
   "metadata": {
    "collapsed": false,
    "pycharm": {
     "name": "#%%\n"
    }
   }
  },
  {
   "cell_type": "code",
   "execution_count": 9,
   "outputs": [
    {
     "data": {
      "text/plain": "array([[1.        , 4.35922932],\n       [1.        , 0.18638863],\n       [1.        , 3.48895393],\n       [1.        , 9.867352  ],\n       [1.        , 4.87994689],\n       [1.        , 3.07565775],\n       [1.        , 7.83611382],\n       [1.        , 4.16464024],\n       [1.        , 0.45444119],\n       [1.        , 2.54001717],\n       [1.        , 2.41975677],\n       [1.        , 6.78989903],\n       [1.        , 9.20590811],\n       [1.        , 6.76266801],\n       [1.        , 6.47890934],\n       [1.        , 3.01378779],\n       [1.        , 5.56528357],\n       [1.        , 4.63627627],\n       [1.        , 5.3375664 ],\n       [1.        , 7.55856483],\n       [1.        , 3.60767847],\n       [1.        , 2.87921892],\n       [1.        , 0.05539551],\n       [1.        , 4.71676175],\n       [1.        , 0.4119288 ],\n       [1.        , 1.88749107],\n       [1.        , 4.67126386],\n       [1.        , 3.87402755],\n       [1.        , 0.40410671],\n       [1.        , 9.68517618],\n       [1.        , 9.70809332],\n       [1.        , 7.05582826],\n       [1.        , 0.70977789],\n       [1.        , 7.44622639],\n       [1.        , 5.01821132],\n       [1.        , 0.45433958],\n       [1.        , 3.05859304],\n       [1.        , 5.67487989],\n       [1.        , 1.37397696],\n       [1.        , 6.07603719],\n       [1.        , 8.28173848],\n       [1.        , 9.20534745],\n       [1.        , 6.97148706],\n       [1.        , 2.91031298],\n       [1.        , 7.5515063 ],\n       [1.        , 9.613697  ],\n       [1.        , 2.49977892],\n       [1.        , 2.66833357],\n       [1.        , 7.84110066],\n       [1.        , 6.42639692],\n       [1.        , 7.66256833],\n       [1.        , 8.52236922],\n       [1.        , 6.41778907],\n       [1.        , 2.82395243],\n       [1.        , 3.81950652],\n       [1.        , 5.31987277],\n       [1.        , 4.45730947],\n       [1.        , 9.27527828],\n       [1.        , 4.98447766],\n       [1.        , 9.26235137],\n       [1.        , 5.41696258],\n       [1.        , 2.30209739],\n       [1.        , 4.91793399],\n       [1.        , 4.2314603 ],\n       [1.        , 7.26726966],\n       [1.        , 8.26548018],\n       [1.        , 4.93976231],\n       [1.        , 5.1121266 ],\n       [1.        , 9.77507047],\n       [1.        , 1.05815219],\n       [1.        , 9.4201018 ],\n       [1.        , 4.48176013],\n       [1.        , 3.92766479],\n       [1.        , 1.70419722],\n       [1.        , 9.16176698],\n       [1.        , 9.95933414],\n       [1.        , 2.39658105],\n       [1.        , 9.7302226 ],\n       [1.        , 0.86354965],\n       [1.        , 4.88804497],\n       [1.        , 1.56401762],\n       [1.        , 6.8259549 ],\n       [1.        , 4.81222972],\n       [1.        , 2.63585253],\n       [1.        , 3.16827537],\n       [1.        , 9.79954681],\n       [1.        , 9.24783723],\n       [1.        , 9.83195598],\n       [1.        , 7.09340622],\n       [1.        , 2.81838368],\n       [1.        , 2.74616553],\n       [1.        , 6.30947563],\n       [1.        , 0.40808822],\n       [1.        , 7.79821022],\n       [1.        , 4.84219212],\n       [1.        , 5.91499155],\n       [1.        , 6.43003109],\n       [1.        , 6.44987417],\n       [1.        , 8.82912893],\n       [1.        , 0.41199207]])"
     },
     "execution_count": 9,
     "metadata": {},
     "output_type": "execute_result"
    }
   ],
   "source": [
    "np.column_stack((np.ones(X.shape[0]),X))"
   ],
   "metadata": {
    "collapsed": false,
    "pycharm": {
     "name": "#%%\n"
    }
   }
  },
  {
   "cell_type": "code",
   "execution_count": 10,
   "outputs": [],
   "source": [
    "def add_dummy_feature(x):\n",
    "    '''adds dummy feature to the dataset\n",
    "     Args:\n",
    "       x: Training dataset\n",
    "     Returns:\n",
    "          Training dataset with an addition of dummy features\n",
    "     '''\n",
    "    #np.ones(x.shape[0]) creates a vector of 1's having the same no.of rows as no.of samples in dataset\n",
    "    return np.column_stack((np.ones(x.shape[0]),x))"
   ],
   "metadata": {
    "collapsed": false,
    "pycharm": {
     "name": "#%%\n"
    }
   }
  },
  {
   "cell_type": "code",
   "execution_count": 11,
   "outputs": [
    {
     "data": {
      "text/plain": "array([[1., 1.],\n       [1., 3.],\n       [1., 4.]])"
     },
     "execution_count": 11,
     "metadata": {},
     "output_type": "execute_result"
    }
   ],
   "source": [
    "add_dummy_feature(np.array([1,3,4]))#test case"
   ],
   "metadata": {
    "collapsed": false,
    "pycharm": {
     "name": "#%%\n"
    }
   }
  },
  {
   "cell_type": "markdown",
   "source": [
    "# C2- Model"
   ],
   "metadata": {
    "collapsed": false,
    "pycharm": {
     "name": "#%% md\n"
    }
   }
  },
  {
   "cell_type": "markdown",
   "source": [
    "Linear regression model uses linear combination of features to obtain output labels.In vectorized form, thi can be written as $y=Xw$"
   ],
   "metadata": {
    "collapsed": false,
    "pycharm": {
     "name": "#%% md\n"
    }
   }
  },
  {
   "cell_type": "code",
   "execution_count": 12,
   "outputs": [],
   "source": [
    "def predict(X,w):\n",
    "    '''Predictioon of output label for a given input\n",
    "        Args:\n",
    "           X: Feature matrix of shape(n,m+1)\n",
    "           w: weight vector of shape(m+1,n)\n",
    "        Returns:\n",
    "            y:Predicted label vector of shape(n,)\n",
    "    '''\n",
    "    #check that feature matrix and weight vector have compactible shapes\n",
    "    assert X.shape[-1]==w.shape[0]\n",
    "\n",
    "    y = X @ w #matrix vec multiplicaiton\n",
    "    return y"
   ],
   "metadata": {
    "collapsed": false,
    "pycharm": {
     "name": "#%%\n"
    }
   }
  },
  {
   "cell_type": "code",
   "execution_count": 13,
   "outputs": [
    {
     "data": {
      "text/plain": "array([11., 21.])"
     },
     "execution_count": 13,
     "metadata": {},
     "output_type": "execute_result"
    }
   ],
   "source": [
    "#testing if predict works or not\n",
    "A = np.array([[1,3,2,5],[1,9,4,7]]) #feature matrix\n",
    "r = np.ones(4)\n",
    "l = predict(A,r)\n",
    "l"
   ],
   "metadata": {
    "collapsed": false,
    "pycharm": {
     "name": "#%%\n"
    }
   }
  },
  {
   "cell_type": "markdown",
   "source": [
    "Demonstrating this model on a synthetic dataset"
   ],
   "metadata": {
    "collapsed": false,
    "pycharm": {
     "name": "#%% md\n"
    }
   }
  },
  {
   "cell_type": "code",
   "execution_count": 14,
   "outputs": [],
   "source": [
    "#Preparing the dataset\n",
    "[w0,w1]=[4,3]\n",
    "n=100\n",
    "x=10*np.random.randn(n,)\n",
    "y = w0+w1*x+np.random.randn(n,)"
   ],
   "metadata": {
    "collapsed": false,
    "pycharm": {
     "name": "#%%\n"
    }
   }
  },
  {
   "cell_type": "code",
   "execution_count": 15,
   "outputs": [],
   "source": [
    "#preprocessing: dummy feature and train test split\n",
    "X_with_dummy = add_dummy_feature(x)\n",
    "\n",
    "from sklearn.model_selection import train_test_split\n",
    "X_train, X_test, y_train, y_test = train_test_split(X_with_dummy, y, test_size=0.2, random_state=42)"
   ],
   "metadata": {
    "collapsed": false,
    "pycharm": {
     "name": "#%%\n"
    }
   }
  },
  {
   "cell_type": "code",
   "execution_count": 16,
   "outputs": [
    {
     "data": {
      "text/plain": "array([0.98030001, 0.87084068])"
     },
     "execution_count": 16,
     "metadata": {},
     "output_type": "execute_result"
    }
   ],
   "source": [
    "w = np.random.rand(2,)\n",
    "w"
   ],
   "metadata": {
    "collapsed": false,
    "pycharm": {
     "name": "#%%\n"
    }
   }
  },
  {
   "cell_type": "code",
   "execution_count": 17,
   "outputs": [],
   "source": [
    "y_hat = predict(X_train,w)"
   ],
   "metadata": {
    "collapsed": false,
    "pycharm": {
     "name": "#%%\n"
    }
   }
  },
  {
   "cell_type": "code",
   "execution_count": 18,
   "outputs": [
    {
     "data": {
      "text/plain": "array([-8.22306343,  7.05603468,  0.99785679,  3.6228812 , 10.25700396,\n        8.39945756,  7.79554809, 21.8665223 , -9.14935768, -2.39473461])"
     },
     "execution_count": 18,
     "metadata": {},
     "output_type": "execute_result"
    }
   ],
   "source": [
    "y_hat[:10]"
   ],
   "metadata": {
    "collapsed": false,
    "pycharm": {
     "name": "#%%\n"
    }
   }
  },
  {
   "cell_type": "code",
   "execution_count": 19,
   "outputs": [
    {
     "data": {
      "text/plain": "array([ 54.23297529,  76.3577602 ,  17.49766545,  35.94363563,\n         4.69653337,  -5.87358901,  14.0994553 , -28.32028029,\n       -26.30815447, -31.49022843])"
     },
     "execution_count": 19,
     "metadata": {},
     "output_type": "execute_result"
    }
   ],
   "source": [
    "y[:10]"
   ],
   "metadata": {
    "collapsed": false,
    "pycharm": {
     "name": "#%%\n"
    }
   }
  },
  {
   "cell_type": "code",
   "execution_count": 20,
   "outputs": [],
   "source": [
    "def non_vectorized_predict(X,w):\n",
    "    '''Prediction of output for a given input.\n",
    "    Args:\n",
    "        X: Feature matrix of shape (n, m+1)\n",
    "        w: Weight vector of shape (m+1, n)\n",
    "    Returns:\n",
    "        y: Predicted label vector of shape (n, ).\n",
    "    '''\n",
    "    y = []\n",
    "    for i in range(0,X.shape[0]):\n",
    "        y_hat_i = 0\n",
    "        for j in range(0,X.shape[1]):\n",
    "            y_hat_i += X[i][j]*w[j]\n",
    "        y.append(y_hat_i)\n",
    "    return np.array(y)"
   ],
   "metadata": {
    "collapsed": false,
    "pycharm": {
     "name": "#%%\n"
    }
   }
  },
  {
   "cell_type": "markdown",
   "source": [
    "# C3 - Loss"
   ],
   "metadata": {
    "collapsed": false,
    "pycharm": {
     "name": "#%% md\n"
    }
   }
  },
  {
   "cell_type": "markdown",
   "source": [
    "Loss fun is:\n",
    "$$J(w) = \\frac{1}{2}(Xw-y)^t(Xw-y)$$\n",
    " - X is a feature matrix with (m+1) features for n examples along rows\n",
    " - w is a weight vector containing (m+1) weights one for each feature\n",
    " - y is a label matrix containign labels for n examples in a vector of shape(n,)"
   ],
   "metadata": {
    "collapsed": false,
    "pycharm": {
     "name": "#%% md\n"
    }
   }
  },
  {
   "cell_type": "code",
   "execution_count": 21,
   "outputs": [],
   "source": [
    "def loss(features, labels, weights):\n",
    "    e = predict(features, weights) - labels # e = predict(X,w)-y\n",
    "    loss = (1/2) * (np.transpose(e) @ e)\n",
    "    return loss"
   ],
   "metadata": {
    "collapsed": false,
    "pycharm": {
     "name": "#%%\n"
    }
   }
  },
  {
   "cell_type": "code",
   "execution_count": 22,
   "outputs": [
    {
     "data": {
      "text/plain": "62.5"
     },
     "execution_count": 22,
     "metadata": {},
     "output_type": "execute_result"
    }
   ],
   "source": [
    "c = np.array([6,11])\n",
    "loss(A,c,r)"
   ],
   "metadata": {
    "collapsed": false,
    "pycharm": {
     "name": "#%%\n"
    }
   }
  },
  {
   "cell_type": "markdown",
   "source": [
    "# C4- Optimaization"
   ],
   "metadata": {
    "collapsed": false,
    "pycharm": {
     "name": "#%% md\n"
    }
   }
  },
  {
   "cell_type": "markdown",
   "source": [
    "Optimization is done with one of the two following methods:\n",
    "- Normal Equaiton method, that sets the partial derivative of the loss function wrt weight vectors to 0 and solves the resulting equation to obtain the weight vector\n",
    "- Gradient descent method, that iteratively adjusts the weight vectir based on the learning rate and the gradient of loss function at the current weight vector"
   ],
   "metadata": {
    "collapsed": false,
    "pycharm": {
     "name": "#%% md\n"
    }
   }
  },
  {
   "cell_type": "markdown",
   "source": [
    "## Normal equation\n",
    "- we make use of `np.linalg.pinv` for calculating the psuedoinverse of the feature matrix"
   ],
   "metadata": {
    "collapsed": false,
    "pycharm": {
     "name": "#%% md\n"
    }
   }
  },
  {
   "cell_type": "code",
   "execution_count": 23,
   "outputs": [],
   "source": [
    " def normal_equation(X, y):\n",
    "    '''Estimates parameters of the linear regression model with normal equation\n",
    "    Args:\n",
    "        X: feature matrix for given inputs.\n",
    "        y: Actual label vector\n",
    "\n",
    "    Returns:\n",
    "        Weight vector\n",
    "    '''\n",
    "    return np.linalg.pinv(X) @ y"
   ],
   "metadata": {
    "collapsed": false,
    "pycharm": {
     "name": "#%%\n"
    }
   }
  },
  {
   "cell_type": "code",
   "execution_count": 24,
   "outputs": [
    {
     "data": {
      "text/plain": "array([3.88157279, 2.99069417])"
     },
     "execution_count": 24,
     "metadata": {},
     "output_type": "execute_result"
    }
   ],
   "source": [
    "normal_equation(X_train,y_train)"
   ],
   "metadata": {
    "collapsed": false,
    "pycharm": {
     "name": "#%%\n"
    }
   }
  },
  {
   "cell_type": "markdown",
   "source": [
    "## Gradient descent\n"
   ],
   "metadata": {
    "collapsed": false,
    "pycharm": {
     "name": "#%% md\n"
    }
   }
  },
  {
   "cell_type": "markdown",
   "source": [
    "### calculating the gradient\n",
    "GD is implemented as follows\n",
    "\n",
    "- Randomly initialize  to 0.\n",
    "- Iterate until convergence:\n",
    "    - Calculate partial derivative of loss w.r.t weight vector\n",
    "    - Calculate new values of weights\n",
    "    - Update weights to new values simultaneously\n",
    "\n",
    "We use number of epochs as a convergence criteria in this implementation\n",
    "*partial derivative of loss function is* $$ \\frac{\\partial }{\\partial w} J(w) = X^T(Xw-y)$$\n",
    "The multipication of transpose of feature matrix with the difference of predicted and actual label vectors"
   ],
   "metadata": {
    "collapsed": false,
    "pycharm": {
     "name": "#%% md\n"
    }
   }
  },
  {
   "cell_type": "code",
   "execution_count": 25,
   "outputs": [
    {
     "data": {
      "text/plain": "array([ 15., 105.,  50.,  95.])"
     },
     "execution_count": 25,
     "metadata": {},
     "output_type": "execute_result"
    }
   ],
   "source": [
    "def calculate_gradient(X,y,w): #(feature matrix,label vector, weights)\n",
    "    return np.transpose(X) @ (predict(X,w)-y)\n",
    "\n",
    "g=calculate_gradient(A,c,r)\n",
    "g"
   ],
   "metadata": {
    "collapsed": false,
    "pycharm": {
     "name": "#%%\n"
    }
   }
  },
  {
   "cell_type": "markdown",
   "source": [
    "### Weight updates"
   ],
   "metadata": {
    "collapsed": false,
    "pycharm": {
     "name": "#%% md\n"
    }
   }
  },
  {
   "cell_type": "code",
   "execution_count": 26,
   "outputs": [],
   "source": [
    "def update_weights(w, grad, lr):\n",
    "\n",
    "    '''updates the wieights based on the gradient of the loss function.\n",
    "    weight updates are carried out with the following formula:\n",
    "    w_new := w_old - lr * grad\n",
    "\n",
    "    Args:\n",
    "      1. w : wight vector\n",
    "      2. grad: gradient of loss wrt w\n",
    "      3. lr: learning rate\n",
    "\n",
    "    Returns:\n",
    "      Updated Weight Vector\n",
    "    '''\n",
    "    return (w-(lr*grad))"
   ],
   "metadata": {
    "collapsed": false,
    "pycharm": {
     "name": "#%%\n"
    }
   }
  },
  {
   "cell_type": "code",
   "execution_count": 27,
   "outputs": [
    {
     "data": {
      "text/plain": "array([0.985, 0.895, 0.95 , 0.905])"
     },
     "execution_count": 27,
     "metadata": {},
     "output_type": "execute_result"
    }
   ],
   "source": [
    "lr = 0.001\n",
    "update_weights(r,g,lr)"
   ],
   "metadata": {
    "collapsed": false,
    "pycharm": {
     "name": "#%%\n"
    }
   }
  },
  {
   "cell_type": "markdown",
   "source": [],
   "metadata": {
    "collapsed": false,
    "pycharm": {
     "name": "#%% md\n"
    }
   }
  },
  {
   "cell_type": "code",
   "execution_count": 28,
   "outputs": [],
   "source": [
    "def gradient_descent(X:np.ndarray,y:np.ndarray,lr:float,num_epochs:int):\n",
    "    '''estimates parameters of linear regression model thru gradient gradient_descent\n",
    "    Returns:\n",
    "        weight vector: final weight vector\n",
    "        error vec acroos diff iterations\n",
    "        weight vec across diff iterations\n",
    "    '''\n",
    "    w_all = [] #Al parameters across diffrent iterations\n",
    "    err_all = [] #all errors across diff iterations\n",
    "\n",
    "    #parameter vector initialized to [0,0]\n",
    "    w = np.zeros(X.shape[1])\n",
    "    #gradient desent loop\n",
    "    print()\n",
    "    for i in np.arange(0,num_epochs):\n",
    "        w_all.append(w)\n",
    "        err_all.append(loss(X,y,w))\n",
    "        dJdw = calculate_gradient(X,y,w)\n",
    "        if (i%100) == 0:\n",
    "            print('Iteration #: %d, loss: %4.2f'%(i, err_all[-1]))\n",
    "        w = update_weights(w,dJdw,lr)\n",
    "    return w, err_all, w_all"
   ],
   "metadata": {
    "collapsed": false,
    "pycharm": {
     "name": "#%%\n"
    }
   }
  },
  {
   "cell_type": "markdown",
   "source": [
    "# Assignment"
   ],
   "metadata": {
    "collapsed": false,
    "pycharm": {
     "name": "#%% md\n"
    }
   }
  },
  {
   "cell_type": "code",
   "execution_count": 29,
   "outputs": [],
   "source": [
    "def add_one(X):\n",
    "    a = np.ones(shape(X))\n"
   ],
   "metadata": {
    "collapsed": false,
    "pycharm": {
     "name": "#%%\n"
    }
   }
  },
  {
   "cell_type": "code",
   "execution_count": 30,
   "outputs": [
    {
     "name": "stdout",
     "output_type": "stream",
     "text": [
      "Object `column.stack` not found.\n"
     ]
    }
   ],
   "source": [
    "column.stack?"
   ],
   "metadata": {
    "collapsed": false,
    "pycharm": {
     "name": "#%%\n"
    }
   }
  },
  {
   "cell_type": "code",
   "execution_count": 31,
   "outputs": [],
   "source": [
    "matrix = np.array([[2,4,6,8],[1,3,5,7],[1,2,3,4],[5,6,7,8]])"
   ],
   "metadata": {
    "collapsed": false,
    "pycharm": {
     "name": "#%%\n"
    }
   }
  },
  {
   "cell_type": "code",
   "execution_count": 32,
   "outputs": [
    {
     "data": {
      "text/plain": "array([[2, 4, 6, 8],\n       [1, 3, 5, 7],\n       [1, 2, 3, 4],\n       [5, 6, 7, 8]])"
     },
     "execution_count": 32,
     "metadata": {},
     "output_type": "execute_result"
    }
   ],
   "source": [
    "matrix"
   ],
   "metadata": {
    "collapsed": false,
    "pycharm": {
     "name": "#%%\n"
    }
   }
  },
  {
   "cell_type": "code",
   "execution_count": 37,
   "outputs": [
    {
     "data": {
      "text/plain": "array([0, 1, 0, 1])"
     },
     "execution_count": 37,
     "metadata": {},
     "output_type": "execute_result"
    }
   ],
   "source": [
    "newcol = np.ones(4)\n",
    "newcol\n",
    "c = np.array([0,1,0,1])\n",
    "c"
   ],
   "metadata": {
    "collapsed": false,
    "pycharm": {
     "name": "#%%\n"
    }
   }
  },
  {
   "cell_type": "code",
   "execution_count": 38,
   "outputs": [
    {
     "ename": "ValueError",
     "evalue": "all the input arrays must have same number of dimensions, but the array at index 0 has 2 dimension(s) and the array at index 1 has 1 dimension(s)",
     "output_type": "error",
     "traceback": [
      "\u001B[1;31m---------------------------------------------------------------------------\u001B[0m",
      "\u001B[1;31mValueError\u001B[0m                                Traceback (most recent call last)",
      "\u001B[1;32m<ipython-input-38-e181d075c20b>\u001B[0m in \u001B[0;36m<module>\u001B[1;34m\u001B[0m\n\u001B[1;32m----> 1\u001B[1;33m \u001B[0mnp\u001B[0m\u001B[1;33m.\u001B[0m\u001B[0mconcatenate\u001B[0m\u001B[1;33m(\u001B[0m\u001B[1;33m(\u001B[0m\u001B[0mmatrix\u001B[0m\u001B[1;33m,\u001B[0m\u001B[0mc\u001B[0m\u001B[1;33m)\u001B[0m\u001B[1;33m,\u001B[0m\u001B[0maxis\u001B[0m \u001B[1;33m=\u001B[0m \u001B[1;36m0\u001B[0m\u001B[1;33m)\u001B[0m\u001B[1;33m\u001B[0m\u001B[1;33m\u001B[0m\u001B[0m\n\u001B[0m",
      "\u001B[1;32m<__array_function__ internals>\u001B[0m in \u001B[0;36mconcatenate\u001B[1;34m(*args, **kwargs)\u001B[0m\n",
      "\u001B[1;31mValueError\u001B[0m: all the input arrays must have same number of dimensions, but the array at index 0 has 2 dimension(s) and the array at index 1 has 1 dimension(s)"
     ]
    }
   ],
   "source": [
    "np.concatenate((matrix,c),axis = 0)"
   ],
   "metadata": {
    "collapsed": false,
    "pycharm": {
     "name": "#%%\n"
    }
   }
  },
  {
   "cell_type": "code",
   "execution_count": null,
   "outputs": [],
   "source": [],
   "metadata": {
    "collapsed": false,
    "pycharm": {
     "name": "#%%\n"
    }
   }
  }
 ],
 "metadata": {
  "kernelspec": {
   "display_name": "Python 3",
   "language": "python",
   "name": "python3"
  },
  "language_info": {
   "codemirror_mode": {
    "name": "ipython",
    "version": 2
   },
   "file_extension": ".py",
   "mimetype": "text/x-python",
   "name": "python",
   "nbconvert_exporter": "python",
   "pygments_lexer": "ipython2",
   "version": "2.7.6"
  }
 },
 "nbformat": 4,
 "nbformat_minor": 0
}