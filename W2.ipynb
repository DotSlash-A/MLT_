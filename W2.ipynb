{
 "cells": [
  {
   "cell_type": "code",
   "execution_count": 1,
   "outputs": [],
   "source": [
    "import numpy as np"
   ],
   "metadata": {
    "collapsed": false,
    "pycharm": {
     "name": "#%%\n"
    }
   }
  },
  {
   "cell_type": "markdown",
   "source": [
    "we are creating a dataset with 1 feature, so it will have 2 parameters. also our dataset will have 100 samples"
   ],
   "metadata": {
    "collapsed": false,
    "pycharm": {
     "name": "#%% md\n"
    }
   }
  },
  {
   "cell_type": "code",
   "execution_count": 2,
   "outputs": [],
   "source": [
    "w1 = 3\n",
    "w0 = 4\n",
    "n = 100\n",
    "\n",
    "X = 10 * np.random.rand(n,)\n",
    "y = w1 + w0 * X + np.random.randn(n,)"
   ],
   "metadata": {
    "collapsed": false,
    "pycharm": {
     "name": "#%%\n"
    }
   }
  },
  {
   "cell_type": "code",
   "execution_count": 3,
   "outputs": [
    {
     "name": "stdout",
     "output_type": "stream",
     "text": [
      "(100,)\n",
      "(100,)\n"
     ]
    }
   ],
   "source": [
    "print(X.shape)\n",
    "print(y.shape)"
   ],
   "metadata": {
    "collapsed": false,
    "pycharm": {
     "name": "#%%\n"
    }
   }
  },
  {
   "cell_type": "code",
   "execution_count": 4,
   "outputs": [
    {
     "name": "stdout",
     "output_type": "stream",
     "text": [
      "(20,) (20,) (80,) (80,)\n"
     ]
    }
   ],
   "source": [
    "from sklearn.model_selection import train_test_split\n",
    "X_train, X_test, y_train, y_test = train_test_split( X,y,test_size=0.20, random_state=42)\n",
    "print(X_test.shape, y_test.shape, X_train.shape,y_train.shape)"
   ],
   "metadata": {
    "collapsed": false,
    "pycharm": {
     "name": "#%%\n"
    }
   }
  },
  {
   "cell_type": "code",
   "execution_count": 5,
   "outputs": [],
   "source": [
    "import matplotlib.pyplot as plt\n",
    "import seaborn as sns\n",
    "%matplotlib inline"
   ],
   "metadata": {
    "collapsed": false,
    "pycharm": {
     "name": "#%%\n"
    }
   }
  },
  {
   "cell_type": "code",
   "execution_count": 6,
   "outputs": [
    {
     "data": {
      "text/plain": "array([9.90024676, 7.35151703, 6.3592974 , 2.72672533, 1.00679635])"
     },
     "execution_count": 6,
     "metadata": {},
     "output_type": "execute_result"
    }
   ],
   "source": [
    "X_train[:5]"
   ],
   "metadata": {
    "collapsed": false,
    "pycharm": {
     "name": "#%%\n"
    }
   }
  },
  {
   "cell_type": "code",
   "execution_count": 7,
   "outputs": [
    {
     "data": {
      "text/plain": "array([41.52856614, 32.62508916, 27.67290551, 14.16761827,  7.21949731])"
     },
     "execution_count": 7,
     "metadata": {},
     "output_type": "execute_result"
    }
   ],
   "source": [
    "y_train[:5]"
   ],
   "metadata": {
    "collapsed": false,
    "pycharm": {
     "name": "#%%\n"
    }
   }
  },
  {
   "cell_type": "markdown",
   "source": [
    "## lets visualise the tarining set"
   ],
   "metadata": {
    "collapsed": false,
    "pycharm": {
     "name": "#%% md\n"
    }
   }
  },
  {
   "cell_type": "code",
   "execution_count": 8,
   "outputs": [
    {
     "data": {
      "text/plain": "<Figure size 576x576 with 1 Axes>",
      "image/png": "[encoded data removed]"
     },
     "metadata": {},
     "output_type": "display_data"
    }
   ],
   "source": [
    "sns.set_style(\"white\")\n",
    "f = plt.figure(figsize = (8,8))\n",
    "sns.set_context(\"notebook\",font_scale = 1.5, rc={\"lines.linewidth\":2.5})\n",
    "\n",
    "plt.plot(X_train,y_train,\"b.\")\n",
    "plt.title(\"Data Points\")\n",
    "plt.grid(True)\n",
    "plt.xlabel(\"x$\",fontsize = 18)\n",
    "plt.ylabel(\"y\",rotation = 0, fontsize = 18)\n",
    "plt.axis([0,10,0,40])\n",
    "plt.show()"
   ],
   "metadata": {
    "collapsed": false,
    "pycharm": {
     "name": "#%%\n"
    }
   }
  },
  {
   "cell_type": "code",
   "execution_count": 9,
   "outputs": [
    {
     "data": {
      "text/plain": "array([[1.        , 4.14620222],\n       [1.        , 5.8474548 ],\n       [1.        , 8.31918612],\n       [1.        , 8.89992321],\n       [1.        , 0.45147735],\n       [1.        , 2.85446259],\n       [1.        , 8.04866395],\n       [1.        , 2.8131928 ],\n       [1.        , 4.92246042],\n       [1.        , 9.9860126 ],\n       [1.        , 8.34192709],\n       [1.        , 3.31412455],\n       [1.        , 7.36999906],\n       [1.        , 8.05528366],\n       [1.        , 1.28780587],\n       [1.        , 4.02444733],\n       [1.        , 9.87778752],\n       [1.        , 2.82373441],\n       [1.        , 5.22936852],\n       [1.        , 9.04112046],\n       [1.        , 6.86724725],\n       [1.        , 4.9965672 ],\n       [1.        , 6.03100449],\n       [1.        , 6.91834522],\n       [1.        , 0.18571774],\n       [1.        , 8.91429926],\n       [1.        , 6.3592974 ],\n       [1.        , 8.05340126],\n       [1.        , 8.9460463 ],\n       [1.        , 2.20367032],\n       [1.        , 1.62465409],\n       [1.        , 3.47467792],\n       [1.        , 0.71407662],\n       [1.        , 7.2527497 ],\n       [1.        , 4.38599226],\n       [1.        , 2.20495953],\n       [1.        , 4.49657694],\n       [1.        , 9.18883168],\n       [1.        , 4.51630091],\n       [1.        , 5.08351603],\n       [1.        , 5.64973019],\n       [1.        , 4.27509039],\n       [1.        , 2.72672533],\n       [1.        , 4.58542114],\n       [1.        , 3.63485019],\n       [1.        , 7.4156297 ],\n       [1.        , 9.01934072],\n       [1.        , 3.02438063],\n       [1.        , 3.42099346],\n       [1.        , 0.90282981],\n       [1.        , 4.79900808],\n       [1.        , 6.64115788],\n       [1.        , 8.27062574],\n       [1.        , 6.58058721],\n       [1.        , 4.9638509 ],\n       [1.        , 9.90024676],\n       [1.        , 6.97761492],\n       [1.        , 4.26470142],\n       [1.        , 1.91589241],\n       [1.        , 3.84143208],\n       [1.        , 1.06319133],\n       [1.        , 9.03245999],\n       [1.        , 3.07922675],\n       [1.        , 0.35060128],\n       [1.        , 0.72019588],\n       [1.        , 2.26175728],\n       [1.        , 9.1747588 ],\n       [1.        , 9.13992186],\n       [1.        , 2.91940613],\n       [1.        , 1.00679635],\n       [1.        , 9.20794666],\n       [1.        , 8.45868004],\n       [1.        , 7.33883193],\n       [1.        , 4.89414107],\n       [1.        , 5.57693843],\n       [1.        , 4.62752208],\n       [1.        , 0.66916919],\n       [1.        , 1.39972664],\n       [1.        , 8.18232127],\n       [1.        , 8.66843927],\n       [1.        , 7.86994756],\n       [1.        , 7.22690562],\n       [1.        , 2.16893366],\n       [1.        , 4.66520024],\n       [1.        , 7.44183491],\n       [1.        , 3.47245782],\n       [1.        , 8.54055173],\n       [1.        , 9.60128099],\n       [1.        , 7.35151703],\n       [1.        , 8.74904268],\n       [1.        , 3.40679206],\n       [1.        , 9.83446207],\n       [1.        , 5.12332856],\n       [1.        , 1.68825261],\n       [1.        , 2.96190149],\n       [1.        , 3.53009392],\n       [1.        , 2.3341942 ],\n       [1.        , 5.61687275],\n       [1.        , 2.72379738],\n       [1.        , 2.29474714]])"
     },
     "execution_count": 9,
     "metadata": {},
     "output_type": "execute_result"
    }
   ],
   "source": [
    "np.column_stack((np.ones(X.shape[0]),X))"
   ],
   "metadata": {
    "collapsed": false,
    "pycharm": {
     "name": "#%%\n"
    }
   }
  },
  {
   "cell_type": "code",
   "execution_count": 10,
   "outputs": [],
   "source": [
    "def add_dummy_feature(x):\n",
    "    '''adds dummy feature to the dataset\n",
    "     Args:\n",
    "       x: Training dataset\n",
    "     Returns:\n",
    "          Training dataset with an addition of dummy features\n",
    "     '''\n",
    "    #np.ones(x.shape[0]) creates a vector of 1's having the same no.of rows as no.of samples in dataset\n",
    "    return np.column_stack((np.ones(x.shape[0]),x))"
   ],
   "metadata": {
    "collapsed": false,
    "pycharm": {
     "name": "#%%\n"
    }
   }
  },
  {
   "cell_type": "code",
   "execution_count": 11,
   "outputs": [
    {
     "data": {
      "text/plain": "array([[1., 1.],\n       [1., 3.],\n       [1., 4.]])"
     },
     "execution_count": 11,
     "metadata": {},
     "output_type": "execute_result"
    }
   ],
   "source": [
    "add_dummy_feature(np.array([1,3,4]))#test case"
   ],
   "metadata": {
    "collapsed": false,
    "pycharm": {
     "name": "#%%\n"
    }
   }
  },
  {
   "cell_type": "markdown",
   "source": [
    "# C2- Model"
   ],
   "metadata": {
    "collapsed": false,
    "pycharm": {
     "name": "#%% md\n"
    }
   }
  },
  {
   "cell_type": "markdown",
   "source": [
    "Linear regression model uses linear combination of features to obtain output labels.In vectorized form, thi can be written as $y=Xw$"
   ],
   "metadata": {
    "collapsed": false,
    "pycharm": {
     "name": "#%% md\n"
    }
   }
  },
  {
   "cell_type": "code",
   "execution_count": 12,
   "outputs": [],
   "source": [
    "def predict(X,w):\n",
    "    '''Predictioon of output label for a given input\n",
    "        Args:\n",
    "           X: Feature matrix of shape(n,m+1)\n",
    "           w: weight vector of shape(m+1,n)\n",
    "        Returns:\n",
    "            y:Predicted label vector of shape(n,)\n",
    "    '''\n",
    "    #check that feature matrix and weight vector have compactible shapes\n",
    "    assert X.shape[-1]==w.shape[0]\n",
    "\n",
    "    y = X @ w #matrix vec multiplicaiton\n",
    "    return y"
   ],
   "metadata": {
    "collapsed": false,
    "pycharm": {
     "name": "#%%\n"
    }
   }
  },
  {
   "cell_type": "code",
   "execution_count": 13,
   "outputs": [
    {
     "data": {
      "text/plain": "array([11., 21.])"
     },
     "execution_count": 13,
     "metadata": {},
     "output_type": "execute_result"
    }
   ],
   "source": [
    "#testing if predict works or not\n",
    "A = np.array([[1,3,2,5],[1,9,4,7]]) #feature matrix\n",
    "r = np.ones(4)\n",
    "l = predict(A,r)\n",
    "l"
   ],
   "metadata": {
    "collapsed": false,
    "pycharm": {
     "name": "#%%\n"
    }
   }
  },
  {
   "cell_type": "markdown",
   "source": [
    "Demonstrating this model on a synthetic dataset"
   ],
   "metadata": {
    "collapsed": false,
    "pycharm": {
     "name": "#%% md\n"
    }
   }
  },
  {
   "cell_type": "code",
   "execution_count": 14,
   "outputs": [],
   "source": [
    "#Preparing the dataset\n",
    "[w0,w1]=[4,3]\n",
    "n=100\n",
    "x=10*np.random.randn(n,)\n",
    "y = w0+w1*x+np.random.randn(n,)"
   ],
   "metadata": {
    "collapsed": false,
    "pycharm": {
     "name": "#%%\n"
    }
   }
  },
  {
   "cell_type": "code",
   "execution_count": 15,
   "outputs": [],
   "source": [
    "#preprocessing: dummy feature and train test split\n",
    "X_with_dummy = add_dummy_feature(x)\n",
    "\n",
    "from sklearn.model_selection import train_test_split\n",
    "X_train, X_test, y_train, y_test = train_test_split(X_with_dummy, y, test_size=0.2, random_state=42)"
   ],
   "metadata": {
    "collapsed": false,
    "pycharm": {
     "name": "#%%\n"
    }
   }
  },
  {
   "cell_type": "code",
   "execution_count": 16,
   "outputs": [
    {
     "data": {
      "text/plain": "array([0.33772797, 0.85193648])"
     },
     "execution_count": 16,
     "metadata": {},
     "output_type": "execute_result"
    }
   ],
   "source": [
    "w = np.random.rand(2,)\n",
    "w"
   ],
   "metadata": {
    "collapsed": false,
    "pycharm": {
     "name": "#%%\n"
    }
   }
  },
  {
   "cell_type": "code",
   "execution_count": 17,
   "outputs": [],
   "source": [
    "y_hat = predict(X_train,w)"
   ],
   "metadata": {
    "collapsed": false,
    "pycharm": {
     "name": "#%%\n"
    }
   }
  },
  {
   "cell_type": "code",
   "execution_count": 18,
   "outputs": [
    {
     "data": {
      "text/plain": "array([-2.06486021, 15.48038828,  6.81843367,  0.07126363, -9.37997078,\n       -7.83600073,  0.08417556, -4.15645353, -0.83085727, 12.14559501])"
     },
     "execution_count": 18,
     "metadata": {},
     "output_type": "execute_result"
    }
   ],
   "source": [
    "y_hat[:10]"
   ],
   "metadata": {
    "collapsed": false,
    "pycharm": {
     "name": "#%%\n"
    }
   }
  },
  {
   "cell_type": "code",
   "execution_count": 19,
   "outputs": [
    {
     "data": {
      "text/plain": "array([-29.75894778, -39.89520004,   1.9226318 ,   7.41756665,\n       -24.95881154, -34.66510236,   5.07819028,  26.53240804,\n        70.57320967,  -0.38847203])"
     },
     "execution_count": 19,
     "metadata": {},
     "output_type": "execute_result"
    }
   ],
   "source": [
    "y[:10]"
   ],
   "metadata": {
    "collapsed": false,
    "pycharm": {
     "name": "#%%\n"
    }
   }
  },
  {
   "cell_type": "code",
   "execution_count": 20,
   "outputs": [],
   "source": [
    "def non_vectorized_predict(X,w):\n",
    "    '''Prediction of output for a given input.\n",
    "    Args:\n",
    "        X: Feature matrix of shape (n, m+1)\n",
    "        w: Weight vector of shape (m+1, n)\n",
    "    Returns:\n",
    "        y: Predicted label vector of shape (n, ).\n",
    "    '''\n",
    "    y = []\n",
    "    for i in range(0,X.shape[0]):\n",
    "        y_hat_i = 0\n",
    "        for j in range(0,X.shape[1]):\n",
    "            y_hat_i += X[i][j]*w[j]\n",
    "        y.append(y_hat_i)\n",
    "    return np.array(y)"
   ],
   "metadata": {
    "collapsed": false,
    "pycharm": {
     "name": "#%%\n"
    }
   }
  },
  {
   "cell_type": "markdown",
   "source": [
    "# C3 - Loss"
   ],
   "metadata": {
    "collapsed": false,
    "pycharm": {
     "name": "#%% md\n"
    }
   }
  },
  {
   "cell_type": "markdown",
   "source": [
    "Loss fun is:\n",
    "$$J(w) = \\frac{1}{2}(Xw-y)^t(Xw-y)$$\n",
    " - X is a feature matrix with (m+1) features for n examples along rows\n",
    " - w is a weight vector containing (m+1) weights one for each feature\n",
    " - y is a label matrix containign labels for n examples in a vector of shape(n,)"
   ],
   "metadata": {
    "collapsed": false,
    "pycharm": {
     "name": "#%% md\n"
    }
   }
  },
  {
   "cell_type": "code",
   "execution_count": 21,
   "outputs": [],
   "source": [
    "def loss(features, labels, weights):\n",
    "    e = predict(features, weights) - labels # e = predict(X,w)-y\n",
    "    loss = (1/2) * (np.transpose(e) @ e)\n",
    "    return loss"
   ],
   "metadata": {
    "collapsed": false,
    "pycharm": {
     "name": "#%%\n"
    }
   }
  },
  {
   "cell_type": "code",
   "execution_count": 22,
   "outputs": [
    {
     "data": {
      "text/plain": "62.5"
     },
     "execution_count": 22,
     "metadata": {},
     "output_type": "execute_result"
    }
   ],
   "source": [
    "c = np.array([6,11])\n",
    "loss(A,c,r)"
   ],
   "metadata": {
    "collapsed": false,
    "pycharm": {
     "name": "#%%\n"
    }
   }
  },
  {
   "cell_type": "markdown",
   "source": [
    "# C4- Optimaization"
   ],
   "metadata": {
    "collapsed": false,
    "pycharm": {
     "name": "#%% md\n"
    }
   }
  },
  {
   "cell_type": "markdown",
   "source": [
    "Optimization is done with one of the two following methods:\n",
    "- Normal Equaiton method, that sets the partial derivative of the loss function wrt weight vectors to 0 and solves the resulting equation to obtain the weight vector\n",
    "- Gradient descent method, that iteratively adjusts the weight vectir based on the learning rate and the gradient of loss function at the current weight vector"
   ],
   "metadata": {
    "collapsed": false,
    "pycharm": {
     "name": "#%% md\n"
    }
   }
  },
  {
   "cell_type": "markdown",
   "source": [
    "## Normal equation\n",
    "- we make use of `np.linalg.pinv` for calculating the psuedoinverse of the feature matrix"
   ],
   "metadata": {
    "collapsed": false,
    "pycharm": {
     "name": "#%% md\n"
    }
   }
  },
  {
   "cell_type": "code",
   "execution_count": 23,
   "outputs": [],
   "source": [
    "def normal_equation(X, y):\n",
    "    '''Estimates parameters of the linear regression model with normal equation\n",
    "    Args:\n",
    "        X: feature matrix for given inputs.\n",
    "        y: Actual label vector\n",
    "\n",
    "    Returns:\n",
    "        Weight vector\n",
    "    '''\n",
    "    return np.linalg.pinv(X) @ y"
   ],
   "metadata": {
    "collapsed": false,
    "pycharm": {
     "name": "#%%\n"
    }
   }
  },
  {
   "cell_type": "code",
   "execution_count": 24,
   "outputs": [
    {
     "data": {
      "text/plain": "array([4.20420783, 3.00274853])"
     },
     "execution_count": 24,
     "metadata": {},
     "output_type": "execute_result"
    }
   ],
   "source": [
    "normal_equation(X_train,y_train)"
   ],
   "metadata": {
    "collapsed": false,
    "pycharm": {
     "name": "#%%\n"
    }
   }
  },
  {
   "cell_type": "markdown",
   "source": [
    "## Gradient descent\n"
   ],
   "metadata": {
    "collapsed": false,
    "pycharm": {
     "name": "#%% md\n"
    }
   }
  },
  {
   "cell_type": "markdown",
   "source": [
    "### calculating the gradient\n",
    "GD is implemented as follows\n",
    "\n",
    "- Randomly initialize  to 0.\n",
    "- Iterate until convergence:\n",
    "    - Calculate partial derivative of loss w.r.t weight vector\n",
    "    - Calculate new values of weights\n",
    "    - Update weights to new values simultaneously\n",
    "\n",
    "We use number of epochs as a convergence criteria in this implementation\n",
    "*partial derivative of loss function is* $$ \\frac{\\partial }{\\partial w} J(w) = X^T(Xw-y)$$\n",
    "The multipication of transpose of feature matrix with the difference of predicted and actual label vectors"
   ],
   "metadata": {
    "collapsed": false,
    "pycharm": {
     "name": "#%% md\n"
    }
   }
  },
  {
   "cell_type": "code",
   "execution_count": 25,
   "outputs": [
    {
     "data": {
      "text/plain": "array([ 15., 105.,  50.,  95.])"
     },
     "execution_count": 25,
     "metadata": {},
     "output_type": "execute_result"
    }
   ],
   "source": [
    "def calculate_gradient(X,y,w): #(feature matrix,label vector, weights)\n",
    "    return np.transpose(X) @ (predict(X,w)-y)\n",
    "\n",
    "g=calculate_gradient(A,c,r)\n",
    "g"
   ],
   "metadata": {
    "collapsed": false,
    "pycharm": {
     "name": "#%%\n"
    }
   }
  },
  {
   "cell_type": "markdown",
   "source": [
    "### Weight updates"
   ],
   "metadata": {
    "collapsed": false,
    "pycharm": {
     "name": "#%% md\n"
    }
   }
  },
  {
   "cell_type": "code",
   "execution_count": 26,
   "outputs": [],
   "source": [
    "def update_weights(w, grad, lr):\n",
    "\n",
    "    '''updates the wieights based on the gradient of the loss function.\n",
    "    weight updates are carried out with the following formula:\n",
    "    w_new := w_old - lr * grad\n",
    "\n",
    "    Args:\n",
    "      1. w : wight vector\n",
    "      2. grad: gradient of loss wrt w\n",
    "      3. lr: learning rate\n",
    "\n",
    "    Returns:\n",
    "      Updated Weight Vector\n",
    "    '''\n",
    "    return (w-(lr*grad))"
   ],
   "metadata": {
    "collapsed": false,
    "pycharm": {
     "name": "#%%\n"
    }
   }
  },
  {
   "cell_type": "code",
   "execution_count": 27,
   "outputs": [
    {
     "data": {
      "text/plain": "array([0.985, 0.895, 0.95 , 0.905])"
     },
     "execution_count": 27,
     "metadata": {},
     "output_type": "execute_result"
    }
   ],
   "source": [
    "lr = 0.001\n",
    "update_weights(r,g,lr)"
   ],
   "metadata": {
    "collapsed": false,
    "pycharm": {
     "name": "#%%\n"
    }
   }
  },
  {
   "cell_type": "code",
   "execution_count": null,
   "outputs": [],
   "source": [],
   "metadata": {
    "collapsed": false,
    "pycharm": {
     "name": "#%%\n"
    }
   }
  },
  {
   "cell_type": "code",
   "execution_count": 11,
   "outputs": [],
   "source": [
    "def add_dummy_feature(x):\n",
    "    '''adds dummy feature to the dataset\n",
    "     Args:\n",
    "       x: Training dataset\n",
    "     Returns:\n",
    "          Training dataset with an addition of dummy features\n",
    "     '''\n",
    "    #np.ones(x.shape[0]) creates a vector of 1's having the same no.of rows as no.of samples in dataset\n",
    "    return np.column_stack((np.ones(x.shape[0]),x))"
   ],
   "metadata": {
    "collapsed": false,
    "pycharm": {
     "name": "#%%\n"
    }
   }
  },
  {
   "cell_type": "code",
   "execution_count": 12,
   "outputs": [
    {
     "data": {
      "text/plain": "array([[1., 1.],\n       [1., 3.],\n       [1., 4.]])"
     },
     "execution_count": 12,
     "metadata": {},
     "output_type": "execute_result"
    }
   ],
   "source": [
    "add_dummy_feature(np.array([1,3,4]))#test case"
   ],
   "metadata": {
    "collapsed": false,
    "pycharm": {
     "name": "#%%\n"
    }
   }
  },
  {
   "cell_type": "markdown",
   "source": [
    "# C2- Model"
   ],
   "metadata": {
    "collapsed": false,
    "pycharm": {
     "name": "#%% md\n"
    }
   }
  },
  {
   "cell_type": "markdown",
   "source": [
    "Linear regression model uses linear combination of features to obtain output labels.In vectorized form, thi can be written as $y=Xw$"
   ],
   "metadata": {
    "collapsed": false,
    "pycharm": {
     "name": "#%% md\n"
    }
   }
  },
  {
   "cell_type": "code",
   "execution_count": 13,
   "outputs": [],
   "source": [
    "def predict(X,w):\n",
    "    '''Predictioon of output label for a given input\n",
    "        Args:\n",
    "           X: Feature matrix of shape(n,m+1)\n",
    "           w: weight vector of shape(m+1,n)\n",
    "        Returns:\n",
    "            y:Predicted label vector of shape(n,)\n",
    "    '''\n",
    "    #check that feature matrix and weight vector have compactible shapes\n",
    "    assert X.shape[-1]==w.shape[0]\n",
    "\n",
    "    y = X @ w #matrix vec multiplicaiton\n",
    "    return y"
   ],
   "metadata": {
    "collapsed": false,
    "pycharm": {
     "name": "#%%\n"
    }
   }
  },
  {
   "cell_type": "code",
   "execution_count": 14,
   "outputs": [
    {
     "data": {
      "text/plain": "array([11., 21.])"
     },
     "execution_count": 14,
     "metadata": {},
     "output_type": "execute_result"
    }
   ],
   "source": [
    "#testing if predict works or not\n",
    "A = np.array([[1,3,2,5],[1,9,4,7]]) #feature matrix\n",
    "r = np.ones(4)\n",
    "l = predict(A,r)\n",
    "l"
   ],
   "metadata": {
    "collapsed": false,
    "pycharm": {
     "name": "#%%\n"
    }
   }
  },
  {
   "cell_type": "markdown",
   "source": [
    "Demonstrating this model on a synthetic dataset"
   ],
   "metadata": {
    "collapsed": false,
    "pycharm": {
     "name": "#%% md\n"
    }
   }
  },
  {
   "cell_type": "code",
   "execution_count": 15,
   "outputs": [],
   "source": [
    "#Preparing the dataset\n",
    "[w0,w1]=[4,3]\n",
    "n=100\n",
    "x=10*np.random.randn(n,)\n",
    "y = w0+w1*x+np.random.randn(n,)"
   ],
   "metadata": {
    "collapsed": false,
    "pycharm": {
     "name": "#%%\n"
    }
   }
  },
  {
   "cell_type": "code",
   "execution_count": 16,
   "outputs": [],
   "source": [
    "#preprocessing: dummy feature and train test split\n",
    "X_with_dummy = add_dummy_feature(x)\n",
    "\n",
    "from sklearn.model_selection import train_test_split\n",
    "X_train, X_test, y_train, y_test = train_test_split(X_with_dummy, y, test_size=0.2, random_state=42)"
   ],
   "metadata": {
    "collapsed": false,
    "pycharm": {
     "name": "#%%\n"
    }
   }
  },
  {
   "cell_type": "code",
   "execution_count": 17,
   "outputs": [
    {
     "data": {
      "text/plain": "array([0.77252048, 0.64183133])"
     },
     "execution_count": 17,
     "metadata": {},
     "output_type": "execute_result"
    }
   ],
   "source": [
    "w = np.random.rand(2,)\n",
    "w"
   ],
   "metadata": {
    "collapsed": false,
    "pycharm": {
     "name": "#%%\n"
    }
   }
  },
  {
   "cell_type": "code",
   "execution_count": 18,
   "outputs": [],
   "source": [
    "y_hat = predict(X_train,w)"
   ],
   "metadata": {
    "collapsed": false,
    "pycharm": {
     "name": "#%%\n"
    }
   }
  },
  {
   "cell_type": "code",
   "execution_count": 19,
   "outputs": [
    {
     "data": {
      "text/plain": "array([ 3.86823075e+00, -2.63774787e+00, -7.80459476e+00,  5.32795491e+00,\n        4.19767480e-01,  3.97755397e-04,  3.39414489e+00, -9.98914293e+00,\n        9.23834465e-01,  1.20431740e-01])"
     },
     "execution_count": 19,
     "metadata": {},
     "output_type": "execute_result"
    }
   ],
   "source": [
    "y_hat[:10]"
   ],
   "metadata": {
    "collapsed": false,
    "pycharm": {
     "name": "#%%\n"
    }
   }
  },
  {
   "cell_type": "code",
   "execution_count": 20,
   "outputs": [
    {
     "data": {
      "text/plain": "array([-43.75531839,   7.82961186, -53.52551733,   9.63159586,\n        30.89075702,  21.5377427 ,  34.81749116,  49.99446831,\n        -3.28115676,   5.2115958 ])"
     },
     "execution_count": 20,
     "metadata": {},
     "output_type": "execute_result"
    }
   ],
   "source": [
    "y[:10]"
   ],
   "metadata": {
    "collapsed": false,
    "pycharm": {
     "name": "#%%\n"
    }
   }
  },
  {
   "cell_type": "code",
   "execution_count": 21,
   "outputs": [],
   "source": [
    "def non_vectorized_predict(X,w):\n",
    "    '''Prediction of output for a given input.\n",
    "    Args:\n",
    "        X: Feature matrix of shape (n, m+1)\n",
    "        w: Weight vector of shape (m+1, n)\n",
    "    Returns:\n",
    "        y: Predicted label vector of shape (n, ).\n",
    "    '''\n",
    "    y = []\n",
    "    for i in range(0,X.shape[0]):\n",
    "        y_hat_i = 0\n",
    "        for j in range(0,X.shape[1]):\n",
    "            y_hat_i += X[i][j]*w[j]\n",
    "        y.append(y_hat_i)\n",
    "    return np.array(y)"
   ],
   "metadata": {
    "collapsed": false,
    "pycharm": {
     "name": "#%%\n"
    }
   }
  },
  {
   "cell_type": "markdown",
   "source": [
    "# C3 - Loss"
   ],
   "metadata": {
    "collapsed": false,
    "pycharm": {
     "name": "#%% md\n"
    }
   }
  },
  {
   "cell_type": "markdown",
   "source": [
    "Loss fun is:\n",
    "$$J(w) = \\frac{1}{2}(Xw-y)^t(Xw-y)$$\n",
    " - X is a feature matrix with (m+1) features for n examples along rows\n",
    " - w is a weight vector containing (m+1) weights one for each feature\n",
    " - y is a label matrix containign labels for n examples in a vector of shape(n,)"
   ],
   "metadata": {
    "collapsed": false,
    "pycharm": {
     "name": "#%% md\n"
    }
   }
  },
  {
   "cell_type": "code",
   "execution_count": 22,
   "outputs": [],
   "source": [
    "def loss(features, labels, weights):\n",
    "    e = predict(features, weights) - labels # e = predict(X,w)-y\n",
    "    loss = (1/2) * (np.transpose(e) @ e)\n",
    "    return loss"
   ],
   "metadata": {
    "collapsed": false,
    "pycharm": {
     "name": "#%%\n"
    }
   }
  },
  {
   "cell_type": "code",
   "execution_count": 23,
   "outputs": [
    {
     "data": {
      "text/plain": "62.5"
     },
     "execution_count": 23,
     "metadata": {},
     "output_type": "execute_result"
    }
   ],
   "source": [
    "c = np.array([6,11])\n",
    "loss(A,c,r)"
   ],
   "metadata": {
    "collapsed": false,
    "pycharm": {
     "name": "#%%\n"
    }
   }
  },
  {
   "cell_type": "markdown",
   "source": [
    "# C4- Optimaization"
   ],
   "metadata": {
    "collapsed": false,
    "pycharm": {
     "name": "#%% md\n"
    }
   }
  },
  {
   "cell_type": "markdown",
   "source": [
    "Optimization is done with one of the two following methods:\n",
    "- Normal Equaiton method, that sets the partial derivative of the loss function wrt weight vectors to 0 and solves the resulting equation to obtain the weight vector\n",
    "- Gradient descent method, that iteratively adjusts the weight vectir based on the learning rate and the gradient of loss function at the current weight vector"
   ],
   "metadata": {
    "collapsed": false,
    "pycharm": {
     "name": "#%% md\n"
    }
   }
  },
  {
   "cell_type": "markdown",
   "source": [
    "## Normal equation\n",
    "- we make use of `np.linalg.pinv` for calculating the psuedoinverse of the feature matrix"
   ],
   "metadata": {
    "collapsed": false,
    "pycharm": {
     "name": "#%% md\n"
    }
   }
  },
  {
   "cell_type": "code",
   "execution_count": 24,
   "outputs": [],
   "source": [
    "def normal_equation(X, y):\n",
    "    '''Estimates parameters of the linear regression model with normal equation\n",
    "    Args:\n",
    "        X: feature matrix for given inputs.\n",
    "        y: Actual label vector\n",
    "\n",
    "    Returns:\n",
    "        Weight vector\n",
    "    '''\n",
    "    return np.linalg.pinv(X) @ y"
   ],
   "metadata": {
    "collapsed": false,
    "pycharm": {
     "name": "#%%\n"
    }
   }
  },
  {
   "cell_type": "code",
   "execution_count": 25,
   "outputs": [
    {
     "data": {
      "text/plain": "array([3.85906791, 2.97850104])"
     },
     "execution_count": 25,
     "metadata": {},
     "output_type": "execute_result"
    }
   ],
   "source": [
    "normal_equation(X_train,y_train)"
   ],
   "metadata": {
    "collapsed": false,
    "pycharm": {
     "name": "#%%\n"
    }
   }
  },
  {
   "cell_type": "markdown",
   "source": [
    "## Gradient descent\n"
   ],
   "metadata": {
    "collapsed": false,
    "pycharm": {
     "name": "#%% md\n"
    }
   }
  },
  {
   "cell_type": "markdown",
   "source": [
    "### calculating the gradient\n",
    "GD is implemented as follows\n",
    "\n",
    "- Randomly initialize  to 0.\n",
    "- Iterate until convergence:\n",
    "    - Calculate partial derivative of loss w.r.t weight vector\n",
    "    - Calculate new values of weights\n",
    "    - Update weights to new values simultaneously\n",
    "\n",
    "We use number of epochs as a convergence criteria in this implementation\n",
    "*partial derivative of loss function is* $$ \\frac{\\partial }{\\partial w} J(w) = X^T(Xw-y)$$\n",
    "The multipication of transpose of feature matrix with the difference of predicted and actual label vectors"
   ],
   "metadata": {
    "collapsed": false,
    "pycharm": {
     "name": "#%% md\n"
    }
   }
  },
  {
   "cell_type": "code",
   "execution_count": 31,
   "outputs": [
    {
     "data": {
      "text/plain": "array([ 15., 105.,  50.,  95.])"
     },
     "execution_count": 31,
     "metadata": {},
     "output_type": "execute_result"
    }
   ],
   "source": [
    "def calculate_gradient(X,y,w): #(feature matrix,label vector, weights)\n",
    "    return np.transpose(X) @ (predict(X,w)-y)\n",
    "\n",
    "g=calculate_gradient(A,c,r)\n",
    "g"
   ],
   "metadata": {
    "collapsed": false,
    "pycharm": {
     "name": "#%%\n"
    }
   }
  },
  {
   "cell_type": "markdown",
   "source": [
    "### Weight updates"
   ],
   "metadata": {
    "collapsed": false,
    "pycharm": {
     "name": "#%% md\n"
    }
   }
  },
  {
   "cell_type": "code",
   "execution_count": 32,
   "outputs": [],
   "source": [
    "def update_weights(w, grad, lr):\n",
    "\n",
    "    '''updates the wieights based on the gradient of the loss function.\n",
    "    weight updates are carried out with the following formula:\n",
    "    w_new := w_old - lr * grad\n",
    "\n",
    "    Args:\n",
    "      1. w : wight vector\n",
    "      2. grad: gradient of loss wrt w\n",
    "      3. lr: learning rate\n",
    "\n",
    "    Returns:\n",
    "      Updated Weight Vector\n",
    "    '''\n",
    "    return (w-(lr*grad))"
   ],
   "metadata": {
    "collapsed": false,
    "pycharm": {
     "name": "#%%\n"
    }
   }
  },
  {
   "cell_type": "code",
   "execution_count": 34,
   "outputs": [
    {
     "data": {
      "text/plain": "array([0.985, 0.895, 0.95 , 0.905])"
     },
     "execution_count": 34,
     "metadata": {},
     "output_type": "execute_result"
    }
   ],
   "source": [
    "lr = 0.001\n",
    "update_weights(r,g,lr)"
   ],
   "metadata": {
    "collapsed": false,
    "pycharm": {
     "name": "#%%\n"
    }
   }
  },
  {
   "cell_type": "code",
   "execution_count": null,
   "outputs": [],
   "source": [],
   "metadata": {
    "collapsed": false,
    "pycharm": {
     "name": "#%%\n"
    }
   }
  }
 ],
 "metadata": {
  "kernelspec": {
   "display_name": "Python 3",
   "language": "python",
   "name": "python3"
  },
  "language_info": {
   "codemirror_mode": {
    "name": "ipython",
    "version": 2
   },
   "file_extension": ".py",
   "mimetype": "text/x-python",
   "name": "python",
   "nbconvert_exporter": "python",
   "pygments_lexer": "ipython2",
   "version": "2.7.6"
  }
 },
 "nbformat": 4,
 "nbformat_minor": 0
}