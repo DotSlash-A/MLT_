{
 "cells": [
  {
   "cell_type": "code",
   "execution_count": 1,
   "outputs": [],
   "source": [
    "import numpy as np\n",
    "import matplotlib.pyplot as plt\n",
    "import seaborn as sns"
   ],
   "metadata": {
    "collapsed": false,
    "pycharm": {
     "name": "#%%\n"
    }
   }
  },
  {
   "cell_type": "markdown",
   "source": [
    "* as you know the logistic regression classifier calculates the probability of a sample represented by a feature vector x and belonging to the class 1 .\n",
    "It has two steps:\n",
    "    - linear combination of features\n",
    "    - sigmoid activation"
   ],
   "metadata": {
    "collapsed": false,
    "pycharm": {
     "name": "#%% md\n"
    }
   }
  },
  {
   "cell_type": "code",
   "execution_count": 3,
   "outputs": [],
   "source": [
    "#implementation of linear combination. => w^t * x\n",
    "def linear_combination(X:np.ndarray, w:np.ndarray) -> np.ndarray:\n",
    "    return X@w #returns combination of features with shape(n,)"
   ],
   "metadata": {
    "collapsed": false,
    "pycharm": {
     "name": "#%%\n"
    }
   }
  },
  {
   "cell_type": "code",
   "execution_count": 4,
   "outputs": [],
   "source": [
    "#implement sigmoid function, it calculates sigmoid of lin combi of features z\n",
    "def sigmoid(z:np.ndarray) ->np.ndarray:\n",
    "    return 1/(1+np.exp(-z))"
   ],
   "metadata": {
    "collapsed": false,
    "pycharm": {
     "name": "#%%\n"
    }
   }
  },
  {
   "cell_type": "markdown",
   "source": [
    "further we apply vectorized predition or inference function on activations to obtain a class label. Specifically, if activaition or probability > threshhold, then we label the sample with class 1 or 0."
   ],
   "metadata": {
    "collapsed": false,
    "pycharm": {
     "name": "#%% md\n"
    }
   }
  },
  {
   "cell_type": "code",
   "execution_count": 5,
   "outputs": [],
   "source": [
    "def predict(X:np.ndarray, w:np.ndarray, threshold:float) -> np.ndarray:\n",
    "    return np.where(sigmoid(linear_combination(X,w)) > threshold,1,0)"
   ],
   "metadata": {
    "collapsed": false,
    "pycharm": {
     "name": "#%%\n"
    }
   }
  },
  {
   "cell_type": "code",
   "execution_count": 9,
   "outputs": [
    {
     "name": "stdout",
     "output_type": "stream",
     "text": [
      "shape of output is (2,)\n",
      "the class label vector is [0 0]\n"
     ]
    }
   ],
   "source": [
    "feature_matrix = np.array([[1,20,2],[1,2,2]])\n",
    "weight_Vector = np.array([-1,0,1])\n",
    "class_labels = predict(feature_matrix,weight_Vector,0.5)\n",
    "print(\"shape of output is\", class_labels.shape)\n",
    "print(\"the class label vector is\", class_labels)"
   ],
   "metadata": {
    "collapsed": false,
    "pycharm": {
     "name": "#%%\n"
    }
   }
  },
  {
   "cell_type": "code",
   "execution_count": null,
   "outputs": [],
   "source": [],
   "metadata": {
    "collapsed": false,
    "pycharm": {
     "name": "#%%\n"
    }
   }
  }
 ],
 "metadata": {
  "kernelspec": {
   "display_name": "Python 3",
   "language": "python",
   "name": "python3"
  },
  "language_info": {
   "codemirror_mode": {
    "name": "ipython",
    "version": 2
   },
   "file_extension": ".py",
   "mimetype": "text/x-python",
   "name": "python",
   "nbconvert_exporter": "python",
   "pygments_lexer": "ipython2",
   "version": "2.7.6"
  }
 },
 "nbformat": 4,
 "nbformat_minor": 0
}