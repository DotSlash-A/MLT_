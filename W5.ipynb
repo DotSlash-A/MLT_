{
 "cells": [
  {
   "cell_type": "code",
   "execution_count": null,
   "outputs": [],
   "source": [],
   "metadata": {
    "collapsed": false,
    "pycharm": {
     "name": "#%%\n"
    }
   }
  },
  {
   "cell_type": "code",
   "execution_count": 1,
   "outputs": [],
   "source": [
    "import numpy as np\n",
    "import matplotlib.pyplot as plt\n",
    "import seaborn as sns"
   ],
   "metadata": {
    "collapsed": false,
    "pycharm": {
     "name": "#%%\n"
    }
   }
  },
  {
   "cell_type": "markdown",
   "source": [
    "* as you know the logistic regression classifier calculates the probability of a sample represented by a feature vector x and belonging to the class 1 .\n",
    "It has two steps:\n",
    "    - linear combination of features $z=w^Tx$\n",
    "    - sigmoid activation"
   ],
   "metadata": {
    "collapsed": false,
    "pycharm": {
     "name": "#%% md\n"
    }
   }
  },
  {
   "cell_type": "code",
   "execution_count": 2,
   "outputs": [],
   "source": [
    "#implementation of linear combination. => w^t * x\n",
    "#returns combination of features with shape(n,)\n",
    "def linear_combination(X:np.ndarray, w:np.ndarray) -> np.ndarray:\n",
    "    return X@w"
   ],
   "metadata": {
    "collapsed": false,
    "pycharm": {
     "name": "#%%\n"
    }
   }
  },
  {
   "cell_type": "code",
   "execution_count": 3,
   "outputs": [],
   "source": [
    "#implement sigmoid function, it calculates sigmoid of lin combi of features z\n",
    "def sigmoid(z:np.ndarray) ->np.ndarray:\n",
    "    return 1/(1+np.exp(-z))"
   ],
   "metadata": {
    "collapsed": false,
    "pycharm": {
     "name": "#%%\n"
    }
   }
  },
  {
   "cell_type": "markdown",
   "source": [
    "further we apply vectorized predition or inference function on activations to obtain a class label. Specifically, if activaition or probability > threshhold, then we label the sample with class 1 or 0."
   ],
   "metadata": {
    "collapsed": false,
    "pycharm": {
     "name": "#%% md\n"
    }
   }
  },
  {
   "cell_type": "code",
   "execution_count": 4,
   "outputs": [],
   "source": [
    "def predict(X,w,threshold):\n",
    "    return np.where(sigmoid(linear_combination(X,w))>threshold,1,0)"
   ],
   "metadata": {
    "collapsed": false,
    "pycharm": {
     "name": "#%%\n"
    }
   }
  },
  {
   "cell_type": "code",
   "execution_count": 5,
   "outputs": [],
   "source": [
    "def loss(y, sigmoid_vector, weight_vector, l1_reg_rate, l2_reg_rate):\n",
    "    return (-1 * (np.sum(y * np.log(sigmoid_vector) + (1-y) * np.log(1- sigmoid_vector)))\n",
    "            + l2_reg_rate * np.dot(np.transpose(weight_vector), weight_vector)\n",
    "            + l1_reg_rate * np.sum(np.abs(weight_vector)))"
   ],
   "metadata": {
    "collapsed": false,
    "pycharm": {
     "name": "#%%\n"
    }
   }
  },
  {
   "cell_type": "code",
   "execution_count": 6,
   "outputs": [],
   "source": [
    "def calculate_gradient(X: np.ndarray, y:np.ndarray, w:np.ndarray):\n",
    "    return np.transpose(X)@(sigmoid(linear_combination(X,w))-y)+reg_rate*w"
   ],
   "metadata": {
    "collapsed": false,
    "pycharm": {
     "name": "#%%\n"
    }
   }
  },
  {
   "cell_type": "markdown",
   "source": [
    "# inside logistic regression class\n",
    "1) self fn\n",
    "2) linear combinaiton fn\n",
    "3) sigmoid fn\n",
    "4) activaiton fn\n",
    "5) predict fn\n",
    "6) loss fn\n",
    "7) calculate_gradient fn\n",
    "8) update_weights fn\n",
    "9) gd fn\n",
    "10) learning_schedule fn\n",
    "11) mbgd fn\n",
    "12) sgd fn"
   ],
   "metadata": {
    "collapsed": false,
    "pycharm": {
     "name": "#%% md\n"
    }
   }
  },
  {
   "cell_type": "code",
   "execution_count": 6,
   "outputs": [],
   "source": [
    "def create_toy_dataset():\n",
    "    x0 = np.random"
   ],
   "metadata": {
    "collapsed": false,
    "pycharm": {
     "name": "#%%\n"
    }
   }
  }
 ],
 "metadata": {
  "kernelspec": {
   "display_name": "Python 3",
   "language": "python",
   "name": "python3"
  },
  "language_info": {
   "codemirror_mode": {
    "name": "ipython",
    "version": 2
   },
   "file_extension": ".py",
   "mimetype": "text/x-python",
   "name": "python",
   "nbconvert_exporter": "python",
   "pygments_lexer": "ipython2",
   "version": "2.7.6"
  }
 },
 "nbformat": 4,
 "nbformat_minor": 0
}