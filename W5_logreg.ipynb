{
 "cells": [
  {
   "cell_type": "raw",
   "source": [],
   "metadata": {
    "collapsed": false,
    "pycharm": {
     "name": ""
    }
   }
  },
  {
   "cell_type": "code",
   "execution_count": 7,
   "outputs": [],
   "source": [
    "class LogisticRegression (object):\n",
    "    '''\n",
    "    Logistic Regression model.\n",
    "    y = sigmoid(X,w)\n",
    "    '''\n",
    "    def __init__(self):\n",
    "        self.t0 = 200\n",
    "        self.t1 = 10000\n",
    "\n",
    "    def set_weight_vector(self, w):\n",
    "        self.w = w\n",
    "\n",
    "    def linear_combination(self, X:np.ndarray) -> np.ndarray:\n",
    "        '''\n",
    "        Calculates linear combination of features.\n",
    "\n",
    "        The linear  combination is calculated  with the following in vectorized form:\n",
    "        z = Xw\n",
    "\n",
    "        Args:\n",
    "        X: feature matrix with shape (n, m)\n",
    "\n",
    "        Returns:\n",
    "            Linear combination of features with shape (n, )\n",
    "        '''\n",
    "        return X @ self.w\n",
    "\n",
    "    def sigmoid(self, z: np.ndarray) -> np.ndarray:\n",
    "        '''\n",
    "        Returns probability of input belonging tp class 1\n",
    "\n",
    "        Args:\n",
    "            z: list of floats (n, ) np.ndarray\n",
    "        Returns:\n",
    "            Sigmoid activation vector (n, ) np.ndarray\n",
    "        '''\n",
    "        return 1 / (1 + np.exp(-z))\n",
    "\n",
    "    def activation(self, X: np.ndarray) -> np.ndarray:\n",
    "        '''\n",
    "        Calulates the sigmoid activation for logistic regression.\n",
    "\n",
    "        The sigmoid activation is calculated with the following vectorized form:\n",
    "            act = sigmoid(Xw)\n",
    "\n",
    "        Args:\n",
    "            X: feature matrix with shape  (n, m)\n",
    "        Returns:\n",
    "            activation vector with shape (n, )\n",
    "        '''\n",
    "        return self.sigmoid(self.linear_combination(X))\n",
    "\n",
    "    def predict(self, X: np.ndarray, threshold: float = 0.5) -> np.ndarray:\n",
    "        '''\n",
    "        Predicts the class label for samples.\n",
    "\n",
    "        The samples are represented with a bunch of features and are presented in the form\n",
    "        of feature matrix X. The class label is predicted  as follows:\n",
    "\n",
    "        * if sigmoid(Xw) > threshold, the sample is labeled with class 1.\n",
    "        * else class 0.\n",
    "\n",
    "        Args:\n",
    "            X: feature matrix of shape (n, m)\n",
    "            threshold: probability threshold for classification\n",
    "        Returns:\n",
    "            A list of class labels of shape (n, )\n",
    "        '''\n",
    "        return np.where(self.activation(X) > threshold, 1, 0).astype(int)\n",
    "\n",
    "    def loss(self, X: np.ndarray, y: np.ndarray, reg_rate: float = 0) -> float:\n",
    "        '''\n",
    "        Calculates the binary cross entropy loss on training set\n",
    "\n",
    "        Args:\n",
    "            X: Feature matrix for training data.\n",
    "            y: Label vector for training data.\n",
    "            reg_rate: regularization rate\n",
    "        Returns:\n",
    "            loss.\n",
    "        '''\n",
    "        predicted_prob = self.activation(X)\n",
    "\n",
    "        return (-1 * (np.sum(y * np.log(predicted_prob) + (1 - y) *\n",
    "                             np.log(1 - predicted_prob))) + reg_rate * np.dot(np.transpose(self.w), self.w))\n",
    "\n",
    "    def calculate_gradient(self, X: np.ndarray, y:np.ndarray, reg_rate:float = 0) -> np.ndarray:\n",
    "        '''\n",
    "        Calculates the gradients of loss function w.r.t weight vector on training set.\n",
    "\n",
    "        The gradient is calculated with the following vectorized operation:\n",
    "            np.transpose(X)(sigmoid(Xw) - y) + \\lambda w\n",
    "        Args:\n",
    "            X: Feature matrix for training data.\n",
    "            y: Label vector for training data\n",
    "            reg_rate: regularization rate\n",
    "        Returns:\n",
    "            A vector of gradients.\n",
    "        '''\n",
    "        return np.transpose(X) @ (self.activation(X) - y) + reg_rate * self.w\n",
    "\n",
    "    def update_weights(self, grad: np.ndarray, lr: float) -> np.ndarray:\n",
    "        '''\n",
    "        Updates the weights based on gradient of loss function.\n",
    "\n",
    "        Weight updates are carried out with the following formula:\n",
    "            w_new = w_old - lr * grad\n",
    "\n",
    "        Args:\n",
    "            grad: gradient of loss w.r.t w\n",
    "            lr: learning rate\n",
    "        Return:\n",
    "            Updated weight vector.\n",
    "        '''\n",
    "        return (self.w - lr * grad)\n",
    "\n",
    "    def gd(self, X: np.ndarray, y: np.ndarray, num_epochs: int, lr: float, reg_rate: float = 0) -> np.ndarray:\n",
    "        '''\n",
    "        Estimates parameters of logistic regression through gradient descent\n",
    "\n",
    "        Args:\n",
    "            X: Feature matrix of training data.\n",
    "            y: Label vector of training data.\n",
    "            num_epochs: Number of training steps\n",
    "            lr: learning rate\n",
    "            reg_rate: regularization rate\n",
    "\n",
    "        Returns:\n",
    "            Weight vector: Final weight vector\n",
    "        '''\n",
    "        self.w = np.zeros(X.shape[1])\n",
    "        self.w_all = []\n",
    "        self.err_all = []\n",
    "        for i in np.arange(0, num_epochs):\n",
    "            dJdw = self.calculate_gradient(X, y, reg_rate)\n",
    "            self.w_all.append(self.w)\n",
    "            self.err_all.append(self.loss(X, y, reg_rate))\n",
    "            self.w = self.update_weights(dJdw, lr)\n",
    "        return self.w\n",
    "\n",
    "    def learning_schedule(self, t):\n",
    "        return self.t0 / (t + self.t1)\n",
    "\n",
    "    def mbgd (self, X:np.ndarray, y:np.ndarray, num_epochs:int, batch_size:int, reg_rate:float = 0) -> np.ndarray:\n",
    "        '''\n",
    "        Estimates the parameters of logistic regression model through gradient descent\n",
    "\n",
    "        Args:\n",
    "            X: Feature matrix for training data\n",
    "            y: Label vector for training data\n",
    "            num_epochs: Number of training steps\n",
    "            batch_size: Number of examples in a batch\n",
    "            re_rate: regularization rate\n",
    "\n",
    "        Returns:\n",
    "            Weight vector: Final weight vector\n",
    "        '''\n",
    "        self.w = np.zeros((X.shape[1]))\n",
    "        self.w_all = []\n",
    "        self.err_all = []\n",
    "        mini_batch_id = 0\n",
    "\n",
    "        for epoch in range(num_epochs):\n",
    "            shuffled_indices = np.random.permutation(X.shape[0])\n",
    "            X_shuffled = X[shuffled_indices]\n",
    "            y_shuffled = y[shuffled_indices]\n",
    "\n",
    "            for i in range(0, X.shape[0], batch_size):\n",
    "                mini_batch_id += 1\n",
    "                xi = X_shuffled[i: i+batch_size]\n",
    "                yi = y_shuffled[i: i+batch_size]\n",
    "                self.w_all.append(self.w)\n",
    "                self.err_all.append(self.loss(xi, yi,reg_rate))\n",
    "\n",
    "                dJdw = 2/batch_size * self.calculate_gradient(xi, yi,reg_rate)\n",
    "                self.w = self.update_weights(dJdw, self.learning_schedule(mini_batch_id))\n",
    "\n",
    "        return self.w\n",
    "\n",
    "    def sgd (self, X: np.ndarray, y:np.ndarray, num_epochs:int, reg_rate:float = 0) -> np.ndarray:\n",
    "        '''\n",
    "        Estimates the parameters of logistic regression model through gradient descent\n",
    "\n",
    "        Args:\n",
    "            X: Feature matrix for training data\n",
    "            y: Label vector for training data\n",
    "            num_epochs: Number of training steps\n",
    "            reg_rate: Regularization rate\n",
    "\n",
    "        Returns:\n",
    "            Weight vector: Final weight vector\n",
    "        '''\n",
    "        self.w = np.zeros((X.shape[1]))\n",
    "        self.w_all = []\n",
    "        self.err_all = []\n",
    "\n",
    "        for epoch in range(num_epochs):\n",
    "            for i in range(X.shape[0]):\n",
    "                random_index = np.random.randint(X.shape[0])\n",
    "                xi = X[random_index:random_index+1]\n",
    "                yi = y[random_index:random_index+1]\n",
    "\n",
    "                self.w_all.append(self.w)\n",
    "                self.err_all.append(self.loss(xi,yi,reg_rate))\n",
    "\n",
    "                gradients = 2 * self.calculate_gradient(xi, yi,reg_rate)\n",
    "                lr = self.learning_schedule(epoch * X.shape[0] +i)\n",
    "                self.w = self.update_weights(gradients, lr)\n",
    "\n",
    "        return self.w"
   ],
   "metadata": {
    "collapsed": false,
    "pycharm": {
     "name": "#%%\n"
    }
   }
  },
  {
   "cell_type": "markdown",
   "source": [
    "# demonstartion of logistic regression"
   ],
   "metadata": {
    "collapsed": false,
    "pycharm": {
     "name": "#%% md\n"
    }
   }
  },
  {
   "cell_type": "code",
   "execution_count": 2,
   "outputs": [],
   "source": [
    "import numpy as np"
   ],
   "metadata": {
    "collapsed": false,
    "pycharm": {
     "name": "#%%\n"
    }
   }
  },
  {
   "cell_type": "code",
   "execution_count": 3,
   "outputs": [],
   "source": [
    "# step 1- create a dataset\n",
    "#@title [Toy Data creation]\n",
    "def create_toy_data():\n",
    "    x0 = np.random.normal(size = 50).reshape(-1, 2) - 1\n",
    "    x1 = np.random.normal(size = 50).reshape(-1, 2) + 1\n",
    "    return np.concatenate([x0, x1]), np.concatenate([np.zeros(25), np.ones(25)]).astype(int)\n",
    "feature_matrix, label_vector = create_toy_data()"
   ],
   "metadata": {
    "collapsed": false,
    "pycharm": {
     "name": "#%%\n"
    }
   }
  },
  {
   "cell_type": "code",
   "execution_count": 4,
   "outputs": [
    {
     "data": {
      "text/plain": "(50, 3)"
     },
     "execution_count": 4,
     "metadata": {},
     "output_type": "execute_result"
    }
   ],
   "source": [
    "# step 2- add a dummy feature with polynomial transformation\n",
    "import itertools\n",
    "import functools\n",
    "\n",
    "def get_combinations (x, degree):\n",
    "    return itertools.combinations_with_replacement(x, degree)\n",
    "\n",
    "def compute_new_features(items):\n",
    "    # reduce (lambda x, y: x*y,[1,2,3,4,5]) calculates ((((1*2)*3)*4)*5)\n",
    "    return functools.reduce(lambda x, y: x*y, items)\n",
    "\n",
    "def polynomial_transform(x, degree, logging=False):\n",
    "    # Converts to feature matrix\n",
    "    if x.ndim == 1:\n",
    "        x = x[:, None]\n",
    "    x_t = x.transpose()\n",
    "    features = [np.ones(len(x))] # Populates 1s as first feature for each example\n",
    "\n",
    "    if logging:\n",
    "        print(\"Input:\", x)\n",
    "    for degree in range(1,degree+1):\n",
    "        for items in get_combinations(x_t, degree):\n",
    "            features.append(compute_new_features(items))\n",
    "            if logging:\n",
    "                print(items, \":\", compute_new_features(items))\n",
    "    if logging:\n",
    "        print(np.asarray(features).transpose())\n",
    "    return np.asarray(features).transpose()\n",
    "feature_matrix_bias = polynomial_transform(feature_matrix, degree=1)\n",
    "feature_matrix_bias.shape"
   ],
   "metadata": {
    "collapsed": false,
    "pycharm": {
     "name": "#%%\n"
    }
   }
  },
  {
   "cell_type": "code",
   "execution_count": 5,
   "outputs": [],
   "source": [
    "#step 3 - train_test_split\n",
    "from sklearn.model_selection import train_test_split\n",
    "x_train, x_test, y_train,y_test = train_test_split(feature_matrix_bias,label_vector)"
   ],
   "metadata": {
    "collapsed": false,
    "pycharm": {
     "name": "#%%\n"
    }
   }
  },
  {
   "cell_type": "code",
   "execution_count": 6,
   "outputs": [
    {
     "data": {
      "text/plain": "<Figure size 576x576 with 1 Axes>",
      "image/png": "[encoded data removed]"
     },
     "metadata": {},
     "output_type": "display_data"
    }
   ],
   "source": [
    "# visualize the dataset to get an idea of the distribution\n",
    "import seaborn as sns\n",
    "import matplotlib.pyplot as plt\n",
    "%matplotlib inline\n",
    "sns.set_style('white')\n",
    "f = plt.figure(figsize=(8,8))\n",
    "sns.set_context('notebook', font_scale=1.5, rc={'lines.linewidth':2.5})\n",
    "\n",
    "sns.scatterplot(data=x_train, x=x_train[:,-2], y=x_train[:,-1],hue=y_train)\n",
    "plt.xlabel('$x_1$')\n",
    "plt.ylabel('$x_2$')\n",
    "plt.show()"
   ],
   "metadata": {
    "collapsed": false,
    "pycharm": {
     "name": "#%%\n"
    }
   }
  },
  {
   "cell_type": "markdown",
   "source": [
    "the two classes are linearly separabe"
   ],
   "metadata": {
    "collapsed": false,
    "pycharm": {
     "name": "#%% md\n"
    }
   }
  },
  {
   "cell_type": "code",
   "execution_count": 11,
   "outputs": [
    {
     "data": {
      "text/plain": "<Figure size 432x288 with 1 Axes>",
      "image/png": "[encoded data removed]"
     },
     "metadata": {},
     "output_type": "display_data"
    }
   ],
   "source": [
    "#step 5 : train logistic regression\n",
    "log_reg = LogisticRegression()\n",
    "log_reg.gd(x_train, y_train, num_epochs=100, reg_rate=0, lr=1e-2)"
   ],
   "metadata": {
    "collapsed": false,
    "pycharm": {
     "name": "#%%\n"
    }
   }
  },
  {
   "cell_type": "code",
   "execution_count": 10,
   "outputs": [],
   "source": [
    "# step 6: lets see the learning curve and see if our model has learned well or not.\n",
    "#for this we need to check if the loss has decreased or not in gradient descent\n",
    "def plot_learning_curve(err_all):\n",
    "    plt.plot(np.arange(len(err_all)), err_all, 'r-')\n",
    "    plt.xlabel('Iter #')\n",
    "    plt.ylabel('$\\mathbf{J(w)}$')\n",
    "plot_learning_curve(log_reg.err_all)"
   ],
   "metadata": {
    "collapsed": false,
    "pycharm": {
     "name": "#%%\n"
    }
   }
  },
  {
   "cell_type": "code",
   "execution_count": 10,
   "outputs": [],
   "source": [],
   "metadata": {
    "collapsed": false,
    "pycharm": {
     "name": "#%%\n"
    }
   }
  },
  {
   "cell_type": "code",
   "execution_count": 10,
   "outputs": [],
   "source": [],
   "metadata": {
    "collapsed": false,
    "pycharm": {
     "name": "#%%\n"
    }
   }
  },
  {
   "cell_type": "code",
   "execution_count": 10,
   "outputs": [],
   "source": [],
   "metadata": {
    "collapsed": false,
    "pycharm": {
     "name": "#%%\n"
    }
   }
  },
  {
   "cell_type": "code",
   "execution_count": 10,
   "outputs": [],
   "source": [],
   "metadata": {
    "collapsed": false,
    "pycharm": {
     "name": "#%%\n"
    }
   }
  },
  {
   "cell_type": "code",
   "execution_count": 10,
   "outputs": [],
   "source": [],
   "metadata": {
    "collapsed": false,
    "pycharm": {
     "name": "#%%\n"
    }
   }
  },
  {
   "cell_type": "code",
   "execution_count": null,
   "outputs": [],
   "source": [],
   "metadata": {
    "collapsed": false,
    "pycharm": {
     "name": "#%%\n"
    }
   }
  }
 ],
 "metadata": {
  "kernelspec": {
   "display_name": "Python 3",
   "language": "python",
   "name": "python3"
  },
  "language_info": {
   "codemirror_mode": {
    "name": "ipython",
    "version": 2
   },
   "file_extension": ".py",
   "mimetype": "text/x-python",
   "name": "python",
   "nbconvert_exporter": "python",
   "pygments_lexer": "ipython2",
   "version": "2.7.6"
  }
 },
 "nbformat": 4,
 "nbformat_minor": 0
}