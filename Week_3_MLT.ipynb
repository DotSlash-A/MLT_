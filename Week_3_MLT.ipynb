{
  "nbformat": 4,
  "nbformat_minor": 0,
  "metadata": {
    "colab": {
      "name": "Week 3_MLT.ipynb",
      "provenance": [],
      "collapsed_sections": [],
      "include_colab_link": true
    },
    "kernelspec": {
      "name": "python3",
      "display_name": "Python 3"
    },
    "language_info": {
      "name": "python"
    }
  },
  "cells": [
    {
      "cell_type": "markdown",
      "metadata": {
        "id": "view-in-github",
        "colab_type": "text"
      },
      "source": [
        "<a href=\"https://colab.research.google.com/github/michuii-hu36/MLT_/blob/main/Week_3_MLT.ipynb\" target=\"_parent\"><img src=\"https://colab.research.google.com/assets/colab-badge.svg\" alt=\"Open In Colab\"/></a>"
      ]
    },
    {
      "cell_type": "markdown",
      "source": [
        "#Polynomial Regression\n",
        "\n",
        "Features --> Polynomial transformation --> Linear regression --> Label\n",
        "\n",
        "We will use Linear regression class that implements Linear regression model"
      ],
      "metadata": {
        "id": "I3cqwDVO25sn"
      }
    },
    {
      "cell_type": "code",
      "source": [
        "#Import Libraries\n",
        "import numpy as np\n",
        "import matplotlib.pyplot as plt\n",
        "import seaborn as sns\n",
        "from IPython.display import display, Math, Latex"
      ],
      "metadata": {
        "id": "D9wer-MW3OWA"
      },
      "execution_count": null,
      "outputs": []
    },
    {
      "cell_type": "code",
      "source": [
        "a = np.zeros((15,))\n",
        "a[::2] = 1\n",
        "a[1::2] = 0\n",
        "a"
      ],
      "metadata": {
        "colab": {
          "base_uri": "https://localhost:8080/"
        },
        "id": "twO0sovAzzhg",
        "outputId": "c94aa1a0-de73-4211-e2bc-418ba86ea7f1"
      },
      "execution_count": null,
      "outputs": [
        {
          "output_type": "execute_result",
          "data": {
            "text/plain": [
              "array([1., 0., 1., 0., 1., 0., 1., 0., 1., 0., 1., 0., 1., 0., 1.])"
            ]
          },
          "metadata": {},
          "execution_count": 2
        }
      ]
    },
    {
      "cell_type": "markdown",
      "source": [
        "#Linear Regression class"
      ],
      "metadata": {
        "id": "DOQp1reTGcrK"
      }
    },
    {
      "cell_type": "code",
      "source": [
        "class LinReg(object):\n",
        "  \"\"\"\n",
        "  y = X@w\n",
        "  X: A feature matrix\n",
        "  w : weight vector\n",
        "  y: label vector\n",
        "\n",
        "  \"\"\"\n",
        "  def __init__(self):\n",
        "    self.t0 = 20\n",
        "    self.t1 = 100000\n",
        "\n",
        "  def predict(self,X:np.ndarray):\n",
        "    y = X @ self.w\n",
        "    return y\n",
        "  \n",
        "  def loss(self, X:np.ndarray, y:np.ndarray):\n",
        "    e = y - self.predict(X)\n",
        "    return ((1/2)*(np.transpose(e) @ e))\n",
        "\n",
        "  def rmse (self, X:np.ndarray, y:np.ndarray):\n",
        "    return np.sqrt((2/X.shape[0]) * self.loss(X,y)) #2/n * loss\n",
        "  \n",
        "  def fit (self, X:np.ndarray, y:np.ndarray):\n",
        "    self.w = np.linalg.pinv(X) @ y\n",
        "    return self.w\n",
        "  \n",
        "  def calculate_gradient(self, X:np.ndarray, y:np.ndarray):\n",
        "    return(np.transpose(X) @ (self.predict(X)-y))\n",
        "  \n",
        "  def update_weights(self, grad:np.ndarray, lr:float):\n",
        "    return(self.w - lr*grad)\n",
        "\n",
        "  def learning_schedule(self,t):\n",
        "    return self.t0 / (t*self.t1)\n",
        "\n",
        "  def gd(self, X:np.ndarray, y:np.ndarray, num_epochs:int, lr:float):\n",
        "    self.w = np.zeros((X.shape[1]))\n",
        "    self.w_all = []\n",
        "    self.err_all = []\n",
        "    for i in np.arange(0,num_epochs):\n",
        "      self.w_all.append(self.w)\n",
        "      self.err_all.append(self.loss(X,y))\n",
        "      djdw = self.calculate_gradient(X,y)\n",
        "      self.w = self.update_weights(djdw,lr)\n",
        "    return self.w\n",
        "\n",
        "  def mbgd(self, X:np.ndarray, y:np.ndarray, num_epochs:int, batch_size:int):\n",
        "    self.w = np.zeros((X.shape[1]))\n",
        "    self.w_all = []\n",
        "    self.err_all = []\n",
        "    mini_batch_id = 0\n",
        "\n",
        "    for epoch in range(num_epochs):\n",
        "      shuffled_indices = np.random.permutation(X.shape[0])\n",
        "      X_shuffled = X[shuffled_indices]\n",
        "      y_shuffled = y[shuffled_indices]\n",
        "      for i in range(0,X.shape[0],batch_size):\n",
        "        mini_batch_id += 1\n",
        "        xi = X_shuffled[i:i+batch_size]\n",
        "        yi = y_shuffled[i:i+batch_size]\n",
        "        self.w_all.append(self.w)\n",
        "        self.err_all.append(self.loss(xi,yi))\n",
        "        djdw = 2/batch_size * self.calculate_gradient(xi,yi)\n",
        "        self.w = self.update_weights(djdw,self.learning_schedule(mini_batch_id))\n",
        "    return self.w\n",
        "\n",
        "  def sgd(self, X:np.ndarray, y:np.ndarray, num_epochs:int):\n",
        "    self.w = np.zeros((X.shape[1]))\n",
        "    self.w_all = []\n",
        "    self.err_all = []\n",
        "    mini_batch_id = 0\n",
        "\n",
        "    for epoch in range(num_epochs):\n",
        "      for i in range(X.shape[0]):\n",
        "        random_index = np.random.randint(X.shape[0])\n",
        "        xi = X[random_index]\n",
        "        yi = y[random_index]\n",
        "        self.w_all.append(self.w)\n",
        "        self.err_all.append(self.loss(xi,yi))\n",
        "        djdw = 2 * self.calculate_gradient(xi,yi)\n",
        "        self.w = self.update_weights(djdw,self.learning_schedule(epoch * X.shape[0] + i))\n",
        "    return self.w"
      ],
      "metadata": {
        "id": "vb2dbnxrCdQs"
      },
      "execution_count": null,
      "outputs": []
    },
    {
      "cell_type": "markdown",
      "source": [
        "# Generate Training Data"
      ],
      "metadata": {
        "id": "i0UEggkqH3pn"
      }
    },
    {
      "cell_type": "code",
      "source": [
        "def generate_data(n):\n",
        "  w1 = 3\n",
        "  w0 = 4\n",
        "  X = 10 * np.random.rand(n,)\n",
        "  y = w0 + w1 * X + np.random.randn(n,)\n",
        "  return (X, y)\n",
        "\n",
        "X, y = generate_data(100)\n"
      ],
      "metadata": {
        "id": "FpVmHnA-H1Tb"
      },
      "execution_count": null,
      "outputs": []
    },
    {
      "cell_type": "markdown",
      "source": [
        "#Preprocess data"
      ],
      "metadata": {
        "id": "HjAdQlSqH2Sw"
      }
    },
    {
      "cell_type": "code",
      "source": [
        "def preprocess(X,y):\n",
        "  from sklearn.model_selection import train_test_split\n",
        "  X_train, X_test, y_train, y_test = train_test_split(X,y,test_size = 0.20,random_state = 42)\n",
        "  return(X_train, X_test, y_train, y_test)\n",
        "\n",
        "X_train, X_test, y_train, y_test = preprocess (X, y)\n",
        "\n",
        "def add_dummy_feature(X):\n",
        "  return np.column_stack((np.ones(X.shape[0]), X))\n",
        "X_train = add_dummy_feature(X_train)\n",
        "X_train[:5]"
      ],
      "metadata": {
        "id": "WdAVVpbNIn1p",
        "colab": {
          "base_uri": "https://localhost:8080/"
        },
        "outputId": "30bd3775-47f5-4883-941d-71419de636c8"
      },
      "execution_count": null,
      "outputs": [
        {
          "output_type": "execute_result",
          "data": {
            "text/plain": [
              "array([[1.        , 8.77577069],\n",
              "       [1.        , 9.24560947],\n",
              "       [1.        , 7.07075719],\n",
              "       [1.        , 7.94418755],\n",
              "       [1.        , 1.17672121]])"
            ]
          },
          "metadata": {},
          "execution_count": 5
        }
      ]
    },
    {
      "cell_type": "markdown",
      "source": [
        ""
      ],
      "metadata": {
        "id": "TNb3zf4oJ2O2"
      }
    },
    {
      "cell_type": "markdown",
      "source": [
        "#Run Linear Regression class"
      ],
      "metadata": {
        "id": "w9ecwOPFJYjE"
      }
    },
    {
      "cell_type": "code",
      "source": [
        "lin_reg = LinReg()\n",
        "lin_reg.fit(X_train, y_train)\n",
        "print(\"Weight vector(Normal equation):\", lin_reg.w)"
      ],
      "metadata": {
        "colab": {
          "base_uri": "https://localhost:8080/"
        },
        "id": "hL5vBoXPJep-",
        "outputId": "d723dd13-4021-4d97-a8a8-f53811745c4f"
      },
      "execution_count": null,
      "outputs": [
        {
          "output_type": "stream",
          "name": "stdout",
          "text": [
            "Weight vector(Normal equation): [3.91575945 3.02656151]\n"
          ]
        }
      ]
    },
    {
      "cell_type": "code",
      "source": [
        "lin_reg = LinReg()\n",
        "lin_reg.gd(X_train, y_train,1000,lr=1e-4)\n",
        "print(\"Weight vector(Gradient equation):\", lin_reg.w)\n",
        "print(lin_reg.calculate_gradient(X_train,y_train))"
      ],
      "metadata": {
        "colab": {
          "base_uri": "https://localhost:8080/"
        },
        "id": "OckxTD12MeCM",
        "outputId": "6d50ae2f-1bda-4054-eb10-666d44f5ceb3"
      },
      "execution_count": null,
      "outputs": [
        {
          "output_type": "stream",
          "name": "stdout",
          "text": [
            "Weight vector(Gradient equation): [3.48340405 3.08652066]\n",
            "[-8.94519122  1.24052125]\n"
          ]
        }
      ]
    },
    {
      "cell_type": "markdown",
      "source": [
        "#Polynomial transformation\n",
        "\n",
        "Steps for generatung polynomial transformation of degree M\n",
        "  1. Generate combination of input features of length = 0, 1, .....M.\n",
        "  2. Perform multipication operation between to obtain the new features\n",
        "\n",
        "For example: \n",
        "\n",
        "* For a single feature $\\ x_1, \\phi_{m} = [ 1 , x_{1}^{1}, x_{1}^{2},....x_{1}^{m}] $\n",
        "    * Generate combinations of {$\\ 1, x_{1}, (x_{1}, x_{1}),(x_{1}, x_{1}, x_{1}),.......(x_{1},x_{1},.......(m times)$}\n",
        "       * 0-th degree: 1\n",
        "       * 1-st degree : $x_{1}$\n",
        "       * 2-nd degree : ($x_{1}$, $x_{1}$)\n",
        "       * m-th degree : ($x_{1}$, $x_{1}$, $x_{1}$,......$m$ times)\n",
        "\n",
        "\n",
        "* For two features say $\\ (x_{1}, x_{2}) $, obtain $ \\phi_{2} (x_{1}, x_{2}) $:\n",
        "\n",
        "  * Generate combinations of $\\ (1, x_{1}, x_{2}, (x_{1}, x_{1}), (x_{2}, x_{2}), (x_{1}, x_{2})]  $\n",
        "\n",
        "* For two features say $\\ (x_{1}, x_{2}) $, obtain $ \\phi_{3} (x_{1}, x_{2}) $:\n",
        "\n",
        "  * Generate combinations of $\\ (1, x_{1}, x_{2},x_{1}^{2} , x_{2}^{2}, x_{1}^{3},x_{2}^{3},  x_{1}^{2}x_{1},x_{1}x_{2}^{2}]  $"
      ],
      "metadata": {
        "id": "1KiwVeOGN1xq"
      }
    },
    {
      "cell_type": "code",
      "source": [
        "import itertools\n",
        "import functools\n",
        "\n",
        "def get_combinations(x,degree):\n",
        "  return itertools.combinations_with_replacement(x, degree)\n",
        "\n",
        "def compute_new_feature(items):\n",
        "  #reduce (lambda x, y: x* y , [1,2,3,4,5]) calculates ((((1*2)*3)*4)*5)\n",
        "  return functools.reduce(lambda x, y: x * y, items)"
      ],
      "metadata": {
        "id": "7GeZJmkPQUe2"
      },
      "execution_count": null,
      "outputs": []
    },
    {
      "cell_type": "code",
      "source": [
        "{items: compute_new_feature(items) for items in get_combinations([1],3)}"
      ],
      "metadata": {
        "colab": {
          "base_uri": "https://localhost:8080/"
        },
        "id": "9i-pYxRUpeM-",
        "outputId": "71c38da2-2914-495d-d565-d24a6d6806d2"
      },
      "execution_count": null,
      "outputs": [
        {
          "output_type": "execute_result",
          "data": {
            "text/plain": [
              "{(1, 1, 1): 1}"
            ]
          },
          "metadata": {},
          "execution_count": 9
        }
      ]
    },
    {
      "cell_type": "code",
      "source": [
        "{items: compute_new_feature(items) for items in get_combinations([2,3],2)}"
      ],
      "metadata": {
        "colab": {
          "base_uri": "https://localhost:8080/"
        },
        "id": "Zlqhy0dfqGnw",
        "outputId": "6b3667bf-318c-4b68-a629-1fc3b4ec261c"
      },
      "execution_count": null,
      "outputs": [
        {
          "output_type": "execute_result",
          "data": {
            "text/plain": [
              "{(2, 2): 4, (2, 3): 6, (3, 3): 9}"
            ]
          },
          "metadata": {},
          "execution_count": 10
        }
      ]
    },
    {
      "cell_type": "code",
      "source": [
        "{items: compute_new_feature(items) for items in get_combinations([1,4],4)}"
      ],
      "metadata": {
        "colab": {
          "base_uri": "https://localhost:8080/"
        },
        "id": "kUznWgo2q3YK",
        "outputId": "9ca15628-30f1-4ad8-9cd7-afaed55e3012"
      },
      "execution_count": null,
      "outputs": [
        {
          "output_type": "execute_result",
          "data": {
            "text/plain": [
              "{(1, 1, 1, 1): 1,\n",
              " (1, 1, 1, 4): 4,\n",
              " (1, 1, 4, 4): 16,\n",
              " (1, 4, 4, 4): 64,\n",
              " (4, 4, 4, 4): 256}"
            ]
          },
          "metadata": {},
          "execution_count": 11
        }
      ]
    },
    {
      "cell_type": "code",
      "source": [
        "import numpy as np\n",
        "import itertools\n",
        "import functools\n",
        "\n",
        "def polynomial_transform(x, degree, logging=False): #X: feature vector, degree:desired degree , flag for logging\n",
        "  if x.ndim == 1:\n",
        "    x = x[:,None]\n",
        "  \n",
        "  x_t = x.transpose() #transposes the feature matrix\n",
        "  features = [np.ones(len(x))]\n",
        "\n",
        "  if logging:\n",
        "    print(\"Input:\", x)\n",
        "  \n",
        "  for degree in range(1 , degree + 1):\n",
        "    for items in get_combinations(x_t, degree): #generate combinations\n",
        "      features.append(compute_new_feature(items))\n",
        "      if logging:\n",
        "        print(items, \":\", compute_new_feature(items))\n",
        "\n",
        "  if logging:\n",
        "    print(np.asarray(features).transpose())\n",
        "  return(np.asarray(features).transpose())\n",
        "\n"
      ],
      "metadata": {
        "id": "JSrtwgNIwe3i"
      },
      "execution_count": null,
      "outputs": []
    },
    {
      "cell_type": "code",
      "source": [
        "polynomial_transform(np.array([2]),3,logging=True)"
      ],
      "metadata": {
        "colab": {
          "base_uri": "https://localhost:8080/"
        },
        "id": "ucvoXnWYyPdk",
        "outputId": "b5350931-9942-4202-9ceb-1de9854e6b3d"
      },
      "execution_count": null,
      "outputs": [
        {
          "output_type": "stream",
          "name": "stdout",
          "text": [
            "Input: [[2]]\n",
            "(array([2]),) : [2]\n",
            "(array([2]), array([2])) : [4]\n",
            "(array([2]), array([2]), array([2])) : [8]\n",
            "[[1. 2. 4. 8.]]\n"
          ]
        },
        {
          "output_type": "execute_result",
          "data": {
            "text/plain": [
              "array([[1., 2., 4., 8.]])"
            ]
          },
          "metadata": {},
          "execution_count": 17
        }
      ]
    },
    {
      "cell_type": "code",
      "source": [
        "polynomial_transform(np.array([[1,2,3,4,5]]),4,logging=True)"
      ],
      "metadata": {
        "colab": {
          "base_uri": "https://localhost:8080/"
        },
        "id": "8FHmThMdzFAu",
        "outputId": "823b0e38-c3b3-4672-cd9f-ad4a5569db0a"
      },
      "execution_count": null,
      "outputs": [
        {
          "output_type": "stream",
          "name": "stdout",
          "text": [
            "Input: [[1 2 3 4 5]]\n",
            "(array([1]),) : [1]\n",
            "(array([2]),) : [2]\n",
            "(array([3]),) : [3]\n",
            "(array([4]),) : [4]\n",
            "(array([5]),) : [5]\n",
            "(array([1]), array([1])) : [1]\n",
            "(array([1]), array([2])) : [2]\n",
            "(array([1]), array([3])) : [3]\n",
            "(array([1]), array([4])) : [4]\n",
            "(array([1]), array([5])) : [5]\n",
            "(array([2]), array([2])) : [4]\n",
            "(array([2]), array([3])) : [6]\n",
            "(array([2]), array([4])) : [8]\n",
            "(array([2]), array([5])) : [10]\n",
            "(array([3]), array([3])) : [9]\n",
            "(array([3]), array([4])) : [12]\n",
            "(array([3]), array([5])) : [15]\n",
            "(array([4]), array([4])) : [16]\n",
            "(array([4]), array([5])) : [20]\n",
            "(array([5]), array([5])) : [25]\n",
            "(array([1]), array([1]), array([1])) : [1]\n",
            "(array([1]), array([1]), array([2])) : [2]\n",
            "(array([1]), array([1]), array([3])) : [3]\n",
            "(array([1]), array([1]), array([4])) : [4]\n",
            "(array([1]), array([1]), array([5])) : [5]\n",
            "(array([1]), array([2]), array([2])) : [4]\n",
            "(array([1]), array([2]), array([3])) : [6]\n",
            "(array([1]), array([2]), array([4])) : [8]\n",
            "(array([1]), array([2]), array([5])) : [10]\n",
            "(array([1]), array([3]), array([3])) : [9]\n",
            "(array([1]), array([3]), array([4])) : [12]\n",
            "(array([1]), array([3]), array([5])) : [15]\n",
            "(array([1]), array([4]), array([4])) : [16]\n",
            "(array([1]), array([4]), array([5])) : [20]\n",
            "(array([1]), array([5]), array([5])) : [25]\n",
            "(array([2]), array([2]), array([2])) : [8]\n",
            "(array([2]), array([2]), array([3])) : [12]\n",
            "(array([2]), array([2]), array([4])) : [16]\n",
            "(array([2]), array([2]), array([5])) : [20]\n",
            "(array([2]), array([3]), array([3])) : [18]\n",
            "(array([2]), array([3]), array([4])) : [24]\n",
            "(array([2]), array([3]), array([5])) : [30]\n",
            "(array([2]), array([4]), array([4])) : [32]\n",
            "(array([2]), array([4]), array([5])) : [40]\n",
            "(array([2]), array([5]), array([5])) : [50]\n",
            "(array([3]), array([3]), array([3])) : [27]\n",
            "(array([3]), array([3]), array([4])) : [36]\n",
            "(array([3]), array([3]), array([5])) : [45]\n",
            "(array([3]), array([4]), array([4])) : [48]\n",
            "(array([3]), array([4]), array([5])) : [60]\n",
            "(array([3]), array([5]), array([5])) : [75]\n",
            "(array([4]), array([4]), array([4])) : [64]\n",
            "(array([4]), array([4]), array([5])) : [80]\n",
            "(array([4]), array([5]), array([5])) : [100]\n",
            "(array([5]), array([5]), array([5])) : [125]\n",
            "(array([1]), array([1]), array([1]), array([1])) : [1]\n",
            "(array([1]), array([1]), array([1]), array([2])) : [2]\n",
            "(array([1]), array([1]), array([1]), array([3])) : [3]\n",
            "(array([1]), array([1]), array([1]), array([4])) : [4]\n",
            "(array([1]), array([1]), array([1]), array([5])) : [5]\n",
            "(array([1]), array([1]), array([2]), array([2])) : [4]\n",
            "(array([1]), array([1]), array([2]), array([3])) : [6]\n",
            "(array([1]), array([1]), array([2]), array([4])) : [8]\n",
            "(array([1]), array([1]), array([2]), array([5])) : [10]\n",
            "(array([1]), array([1]), array([3]), array([3])) : [9]\n",
            "(array([1]), array([1]), array([3]), array([4])) : [12]\n",
            "(array([1]), array([1]), array([3]), array([5])) : [15]\n",
            "(array([1]), array([1]), array([4]), array([4])) : [16]\n",
            "(array([1]), array([1]), array([4]), array([5])) : [20]\n",
            "(array([1]), array([1]), array([5]), array([5])) : [25]\n",
            "(array([1]), array([2]), array([2]), array([2])) : [8]\n",
            "(array([1]), array([2]), array([2]), array([3])) : [12]\n",
            "(array([1]), array([2]), array([2]), array([4])) : [16]\n",
            "(array([1]), array([2]), array([2]), array([5])) : [20]\n",
            "(array([1]), array([2]), array([3]), array([3])) : [18]\n",
            "(array([1]), array([2]), array([3]), array([4])) : [24]\n",
            "(array([1]), array([2]), array([3]), array([5])) : [30]\n",
            "(array([1]), array([2]), array([4]), array([4])) : [32]\n",
            "(array([1]), array([2]), array([4]), array([5])) : [40]\n",
            "(array([1]), array([2]), array([5]), array([5])) : [50]\n",
            "(array([1]), array([3]), array([3]), array([3])) : [27]\n",
            "(array([1]), array([3]), array([3]), array([4])) : [36]\n",
            "(array([1]), array([3]), array([3]), array([5])) : [45]\n",
            "(array([1]), array([3]), array([4]), array([4])) : [48]\n",
            "(array([1]), array([3]), array([4]), array([5])) : [60]\n",
            "(array([1]), array([3]), array([5]), array([5])) : [75]\n",
            "(array([1]), array([4]), array([4]), array([4])) : [64]\n",
            "(array([1]), array([4]), array([4]), array([5])) : [80]\n",
            "(array([1]), array([4]), array([5]), array([5])) : [100]\n",
            "(array([1]), array([5]), array([5]), array([5])) : [125]\n",
            "(array([2]), array([2]), array([2]), array([2])) : [16]\n",
            "(array([2]), array([2]), array([2]), array([3])) : [24]\n",
            "(array([2]), array([2]), array([2]), array([4])) : [32]\n",
            "(array([2]), array([2]), array([2]), array([5])) : [40]\n",
            "(array([2]), array([2]), array([3]), array([3])) : [36]\n",
            "(array([2]), array([2]), array([3]), array([4])) : [48]\n",
            "(array([2]), array([2]), array([3]), array([5])) : [60]\n",
            "(array([2]), array([2]), array([4]), array([4])) : [64]\n",
            "(array([2]), array([2]), array([4]), array([5])) : [80]\n",
            "(array([2]), array([2]), array([5]), array([5])) : [100]\n",
            "(array([2]), array([3]), array([3]), array([3])) : [54]\n",
            "(array([2]), array([3]), array([3]), array([4])) : [72]\n",
            "(array([2]), array([3]), array([3]), array([5])) : [90]\n",
            "(array([2]), array([3]), array([4]), array([4])) : [96]\n",
            "(array([2]), array([3]), array([4]), array([5])) : [120]\n",
            "(array([2]), array([3]), array([5]), array([5])) : [150]\n",
            "(array([2]), array([4]), array([4]), array([4])) : [128]\n",
            "(array([2]), array([4]), array([4]), array([5])) : [160]\n",
            "(array([2]), array([4]), array([5]), array([5])) : [200]\n",
            "(array([2]), array([5]), array([5]), array([5])) : [250]\n",
            "(array([3]), array([3]), array([3]), array([3])) : [81]\n",
            "(array([3]), array([3]), array([3]), array([4])) : [108]\n",
            "(array([3]), array([3]), array([3]), array([5])) : [135]\n",
            "(array([3]), array([3]), array([4]), array([4])) : [144]\n",
            "(array([3]), array([3]), array([4]), array([5])) : [180]\n",
            "(array([3]), array([3]), array([5]), array([5])) : [225]\n",
            "(array([3]), array([4]), array([4]), array([4])) : [192]\n",
            "(array([3]), array([4]), array([4]), array([5])) : [240]\n",
            "(array([3]), array([4]), array([5]), array([5])) : [300]\n",
            "(array([3]), array([5]), array([5]), array([5])) : [375]\n",
            "(array([4]), array([4]), array([4]), array([4])) : [256]\n",
            "(array([4]), array([4]), array([4]), array([5])) : [320]\n",
            "(array([4]), array([4]), array([5]), array([5])) : [400]\n",
            "(array([4]), array([5]), array([5]), array([5])) : [500]\n",
            "(array([5]), array([5]), array([5]), array([5])) : [625]\n",
            "[[  1.   1.   2.   3.   4.   5.   1.   2.   3.   4.   5.   4.   6.   8.\n",
            "   10.   9.  12.  15.  16.  20.  25.   1.   2.   3.   4.   5.   4.   6.\n",
            "    8.  10.   9.  12.  15.  16.  20.  25.   8.  12.  16.  20.  18.  24.\n",
            "   30.  32.  40.  50.  27.  36.  45.  48.  60.  75.  64.  80. 100. 125.\n",
            "    1.   2.   3.   4.   5.   4.   6.   8.  10.   9.  12.  15.  16.  20.\n",
            "   25.   8.  12.  16.  20.  18.  24.  30.  32.  40.  50.  27.  36.  45.\n",
            "   48.  60.  75.  64.  80. 100. 125.  16.  24.  32.  40.  36.  48.  60.\n",
            "   64.  80. 100.  54.  72.  90.  96. 120. 150. 128. 160. 200. 250.  81.\n",
            "  108. 135. 144. 180. 225. 192. 240. 300. 375. 256. 320. 400. 500. 625.]]\n"
          ]
        },
        {
          "output_type": "execute_result",
          "data": {
            "text/plain": [
              "array([[  1.,   1.,   2.,   3.,   4.,   5.,   1.,   2.,   3.,   4.,   5.,\n",
              "          4.,   6.,   8.,  10.,   9.,  12.,  15.,  16.,  20.,  25.,   1.,\n",
              "          2.,   3.,   4.,   5.,   4.,   6.,   8.,  10.,   9.,  12.,  15.,\n",
              "         16.,  20.,  25.,   8.,  12.,  16.,  20.,  18.,  24.,  30.,  32.,\n",
              "         40.,  50.,  27.,  36.,  45.,  48.,  60.,  75.,  64.,  80., 100.,\n",
              "        125.,   1.,   2.,   3.,   4.,   5.,   4.,   6.,   8.,  10.,   9.,\n",
              "         12.,  15.,  16.,  20.,  25.,   8.,  12.,  16.,  20.,  18.,  24.,\n",
              "         30.,  32.,  40.,  50.,  27.,  36.,  45.,  48.,  60.,  75.,  64.,\n",
              "         80., 100., 125.,  16.,  24.,  32.,  40.,  36.,  48.,  60.,  64.,\n",
              "         80., 100.,  54.,  72.,  90.,  96., 120., 150., 128., 160., 200.,\n",
              "        250.,  81., 108., 135., 144., 180., 225., 192., 240., 300., 375.,\n",
              "        256., 320., 400., 500., 625.]])"
            ]
          },
          "metadata": {},
          "execution_count": 35
        }
      ]
    },
    {
      "cell_type": "code",
      "source": [
        "polynomial_transform(np.array([[2,3],[4,5]]),3,logging=True)"
      ],
      "metadata": {
        "colab": {
          "base_uri": "https://localhost:8080/"
        },
        "id": "973s4iNEz4hC",
        "outputId": "9d5dfe22-611e-4300-84a1-4a24a8dbf3ce"
      },
      "execution_count": null,
      "outputs": [
        {
          "output_type": "stream",
          "name": "stdout",
          "text": [
            "Input: [[2 3]\n",
            " [4 5]]\n",
            "(array([2, 4]),) : [2 4]\n",
            "(array([3, 5]),) : [3 5]\n",
            "(array([2, 4]), array([2, 4])) : [ 4 16]\n",
            "(array([2, 4]), array([3, 5])) : [ 6 20]\n",
            "(array([3, 5]), array([3, 5])) : [ 9 25]\n",
            "(array([2, 4]), array([2, 4]), array([2, 4])) : [ 8 64]\n",
            "(array([2, 4]), array([2, 4]), array([3, 5])) : [12 80]\n",
            "(array([2, 4]), array([3, 5]), array([3, 5])) : [ 18 100]\n",
            "(array([3, 5]), array([3, 5]), array([3, 5])) : [ 27 125]\n",
            "[[  1.   2.   3.   4.   6.   9.   8.  12.  18.  27.]\n",
            " [  1.   4.   5.  16.  20.  25.  64.  80. 100. 125.]]\n"
          ]
        },
        {
          "output_type": "execute_result",
          "data": {
            "text/plain": [
              "array([[  1.,   2.,   3.,   4.,   6.,   9.,   8.,  12.,  18.,  27.],\n",
              "       [  1.,   4.,   5.,  16.,  20.,  25.,  64.,  80., 100., 125.]])"
            ]
          },
          "metadata": {},
          "execution_count": 14
        }
      ]
    },
    {
      "cell_type": "code",
      "source": [
        "polynomial_transform(np.array([[2,3],[4,5]]),2,logging=True)"
      ],
      "metadata": {
        "colab": {
          "base_uri": "https://localhost:8080/"
        },
        "id": "cy4Jz0pD0chV",
        "outputId": "f7f35448-6b9b-4985-beaf-8b1ecaa2bfec"
      },
      "execution_count": null,
      "outputs": [
        {
          "output_type": "stream",
          "name": "stdout",
          "text": [
            "Input: [[2 3]\n",
            " [4 5]]\n",
            "(array([2, 4]),) : [2 4]\n",
            "(array([3, 5]),) : [3 5]\n",
            "(array([2, 4]), array([2, 4])) : [ 4 16]\n",
            "(array([2, 4]), array([3, 5])) : [ 6 20]\n",
            "(array([3, 5]), array([3, 5])) : [ 9 25]\n",
            "[[ 1.  2.  3.  4.  6.  9.]\n",
            " [ 1.  4.  5. 16. 20. 25.]]\n"
          ]
        },
        {
          "output_type": "execute_result",
          "data": {
            "text/plain": [
              "array([[ 1.,  2.,  3.,  4.,  6.,  9.],\n",
              "       [ 1.,  4.,  5., 16., 20., 25.]])"
            ]
          },
          "metadata": {},
          "execution_count": 15
        }
      ]
    },
    {
      "cell_type": "code",
      "source": [
        "polynomial_transform(np.array([2]),0,logging=True)"
      ],
      "metadata": {
        "colab": {
          "base_uri": "https://localhost:8080/"
        },
        "id": "bO_CPlBy0g_q",
        "outputId": "f3ccacdf-21fc-49c1-89fc-7f0e6bff74cf"
      },
      "execution_count": null,
      "outputs": [
        {
          "output_type": "stream",
          "name": "stdout",
          "text": [
            "Input: [[2]]\n",
            "[[1.]]\n"
          ]
        },
        {
          "output_type": "execute_result",
          "data": {
            "text/plain": [
              "array([[1.]])"
            ]
          },
          "metadata": {},
          "execution_count": 29
        }
      ]
    },
    {
      "cell_type": "markdown",
      "source": [
        "#Non-Linear Training data generation\n",
        "\n",
        "We generate traininig data with a single feature $x_{1}$ and lavel $y$ = $sin(2π x_{1}) + noise $"
      ],
      "metadata": {
        "id": "eJRUTvqg0q47"
      }
    },
    {
      "cell_type": "code",
      "source": [
        "from matplotlib.font_manager import X11FontDirectories\n",
        "#Creates a training set where the output label is obtained by first\n",
        "#Calculating sin(2*pi*x) and then adding a small random noise having\n",
        "# a gaussian distribution\n",
        "\n",
        "def create_nonlin_training_set(func, sample_size, std):\n",
        "  X = np.linspace(0,1,sample_size)\n",
        "  y = func(X) + np.random.normal(scale = std, size = X.shape)\n",
        "  return (X, y)\n",
        "  \n",
        "def nonlin(X):\n",
        "  return np.sin(2 * np.pi * X)"
      ],
      "metadata": {
        "id": "-nmYyAOk1VM0"
      },
      "execution_count": null,
      "outputs": []
    },
    {
      "cell_type": "markdown",
      "source": [
        "#Visulization of training data and model fitment"
      ],
      "metadata": {
        "id": "IMfV-D4e3lzo"
      }
    },
    {
      "cell_type": "code",
      "source": [
        "def visualize_training_data(X_train, y_train):\n",
        "  points = np.linspace(0,1,100)\n",
        "  output = nonlin(points)\n",
        "  \n",
        "  plt.scatter(X_train,y_train, facecolor=\"none\",  edgecolor = 'face', c = \"r\", s = 50, label=\"training data\")\n",
        "  plt.plot(points, output, c =\"g\", label = \"$\\sin(2\\pi x)$\")\n",
        "  plt.xlabel('$x_1$')\n",
        "  plt.ylabel('y')\n",
        "  plt.legend()\n",
        "  plt.show()\n",
        "\n",
        "def visualize_model_fit(X, y, lin_reg, degree):\n",
        "  points = np.linspace(0,1,100)\n",
        "  output = nonlin(points)\n",
        "\n",
        "  if degree < 0:\n",
        "     plt.scatter(X ,y, facecolor=\"none\", edgecolor = 'face', c = 'r', s=50, label=\"training data\")\n",
        "  plt.plot(points, output, c='g', label = \"$\\sin(2\\pi x)$\")\n",
        "  y_hat = lin_reg.predict(polynomial_transform(points, degree, logging = False))\n",
        "  plt.plot(points, y_hat, c='r', label = \"$h_\\mathbf{w} (x)$\")\n",
        "  plt.xlabel('$x_1$')\n",
        "  plt.ylabel('y')\n",
        "  plt.ylim(-1.5,1.5)\n",
        "  plt.title(\"M={}\".format(degree)) #xy = (-0.15, 1)"
      ],
      "metadata": {
        "id": "BrPLYb5W3qqh"
      },
      "execution_count": null,
      "outputs": []
    },
    {
      "cell_type": "code",
      "source": [
        "num_samples = 10\n",
        "X, y = create_nonlin_training_set(nonlin, num_samples, 0.2) #try 0.001, 0.01, 0.1, 1, 10 and check the effect on data\n",
        "visualize_training_data(X, y)\n"
      ],
      "metadata": {
        "colab": {
          "base_uri": "https://localhost:8080/",
          "height": 284
        },
        "id": "1kIHkelj5sLf",
        "outputId": "cebfd4c0-e2b8-49aa-d8b1-ad7e094b7238"
      },
      "execution_count": null,
      "outputs": [
        {
          "output_type": "display_data",
          "data": {
            "text/plain": [
              "<Figure size 432x288 with 1 Axes>"
            ],
            "image/png": "[encoded data removed]"
          },
          "metadata": {
            "needs_background": "light"
          }
        }
      ]
    },
    {
      "cell_type": "markdown",
      "source": [
        "Lets train multiple polynomial regression models with different degrees"
      ],
      "metadata": {
        "id": "Z-Q0xLH6Cxdo"
      }
    },
    {
      "cell_type": "code",
      "source": [
        "degree = 9\n",
        "X_transform = polynomial_transform(X, degree)\n",
        "lin_reg = LinReg()\n",
        "lin_reg.fit(X_transform, y)\n",
        "visualize_model_fit(X,y,lin_reg,degree)"
      ],
      "metadata": {
        "id": "wOxhV_PLC2V2",
        "colab": {
          "base_uri": "https://localhost:8080/",
          "height": 297
        },
        "outputId": "6bc0d1ff-5a07-4919-abbe-c6eca4884fa2"
      },
      "execution_count": null,
      "outputs": [
        {
          "output_type": "display_data",
          "data": {
            "text/plain": [
              "<Figure size 432x288 with 1 Axes>"
            ],
            "image/png": "[encoded data removed]"
          },
          "metadata": {
            "needs_background": "light"
          }
        }
      ]
    },
    {
      "cell_type": "code",
      "source": [
        "X_transform[:5]"
      ],
      "metadata": {
        "colab": {
          "base_uri": "https://localhost:8080/"
        },
        "id": "S7mrwERYe34W",
        "outputId": "e60097fd-2fab-420f-fe4e-ab397cae292c"
      },
      "execution_count": null,
      "outputs": [
        {
          "output_type": "execute_result",
          "data": {
            "text/plain": [
              "array([[1.00000000e+00, 0.00000000e+00, 0.00000000e+00, 0.00000000e+00,\n",
              "        0.00000000e+00, 0.00000000e+00, 0.00000000e+00, 0.00000000e+00,\n",
              "        0.00000000e+00, 0.00000000e+00],\n",
              "       [1.00000000e+00, 1.11111111e-01, 1.23456790e-02, 1.37174211e-03,\n",
              "        1.52415790e-04, 1.69350878e-05, 1.88167642e-06, 2.09075158e-07,\n",
              "        2.32305731e-08, 2.58117479e-09],\n",
              "       [1.00000000e+00, 2.22222222e-01, 4.93827160e-02, 1.09739369e-02,\n",
              "        2.43865264e-03, 5.41922810e-04, 1.20427291e-04, 2.67616202e-05,\n",
              "        5.94702672e-06, 1.32156149e-06],\n",
              "       [1.00000000e+00, 3.33333333e-01, 1.11111111e-01, 3.70370370e-02,\n",
              "        1.23456790e-02, 4.11522634e-03, 1.37174211e-03, 4.57247371e-04,\n",
              "        1.52415790e-04, 5.08052634e-05],\n",
              "       [1.00000000e+00, 4.44444444e-01, 1.97530864e-01, 8.77914952e-02,\n",
              "        3.90184423e-02, 1.73415299e-02, 7.70734663e-03, 3.42548739e-03,\n",
              "        1.52243884e-03, 6.76639485e-04]])"
            ]
          },
          "metadata": {},
          "execution_count": 32
        }
      ]
    },
    {
      "cell_type": "code",
      "source": [
        "f = plt.figure(figsize=(12,8))\n",
        "sns.set_context(\"notebook\", font_scale = 1.5, rc = {\"lines.linewidth\":2.5 })\n",
        "\n",
        "for i, degree in enumerate([0, 1, 3, 5, 7, 9, 10, 12, 20]):\n",
        "  plt.subplot(3, 3, i + 1)\n",
        "  X_transform = polynomial_transform(X, degree)\n",
        "  lin_reg = LinReg()\n",
        "  lin_reg.fit(X_transform, y)\n",
        "  visualize_model_fit(X, y, lin_reg, degree)\n",
        "\n",
        "f.tight_layout()\n",
        "plt.legend(bbox_to_anchor=(1.05,0.64), loc = 2, borderaxespad = 0.)\n",
        "plt.show()"
      ],
      "metadata": {
        "id": "E9GtGJYCEHPB",
        "colab": {
          "base_uri": "https://localhost:8080/",
          "height": 568
        },
        "outputId": "9c5688b7-fa70-4930-eaa7-e7a22ea73dce"
      },
      "execution_count": null,
      "outputs": [
        {
          "output_type": "display_data",
          "data": {
            "text/plain": [
              "<Figure size 864x576 with 9 Axes>"
            ],
            "image/png": "[encoded data removed]"
          },
          "metadata": {
            "needs_background": "light"
          }
        }
      ]
    },
    {
      "cell_type": "markdown",
      "source": [
        "#Model selection\n",
        "\n",
        "* One polynomial model per degree. Which one to select ?\n",
        "* Process\n",
        "  * Fix the list of degrees that you want to experiment with\n",
        "  * Divide the training data into training, validation and test.\n",
        "  * For each degree m:\n",
        "    * Training polynomial regression model with training data\n",
        "    * Calculate training and validation errors on the trained model.\n",
        "* Select the model with lowest training and validation loss among all models\n"
      ],
      "metadata": {
        "id": "Zq64vDvAFdi6"
      }
    },
    {
      "cell_type": "code",
      "source": [
        "#Model selection helpers\n",
        "import pandas as pd\n",
        "\n",
        "def convert_dict_to_df(w_dict, degree):\n",
        "  poly_w_dict = {i:np.array(np.zeros(degree)) for i in range(degree)}\n",
        "  for deg in poly_w_dict:\n",
        "    weight_vec = w_dict[deg]\n",
        "    for i in range(len(weight_vec)):\n",
        "      poly_w_dict[deg][i] = weight_vec[i]\n",
        "  \n",
        "  poly_w_df = pd.DataFrame(poly_w_dict)\n",
        "  poly_w_df.columns = ['w_' +str(i) for i in range(degree)]\n",
        "  return poly_w_df\n",
        "\n",
        "def plot_model_selection(traininig_errors, val_errors):\n",
        "  plt.plot(traininig_errors, 'o-', mfc= 'none', mec = \"b\", ms =10, c='g',label = \"$Training Erros$\")\n",
        "  plt.plot(val_errors, 'o-', mfc= 'none', mec = \"r\", ms =10, c='r',label = \"$Validation Erros$\")\n",
        "  plt.legend()\n",
        "  plt.xlabel(\"degree\")\n",
        "  plt.ylabel(\"RMSE\")\n",
        "  plt.show()\n"
      ],
      "metadata": {
        "id": "mAISUB6jGDbS"
      },
      "execution_count": null,
      "outputs": []
    },
    {
      "cell_type": "code",
      "source": [
        "training_errors = []\n",
        "val_errors = []\n",
        "w_dict = {}\n",
        "\n",
        "X_val = np.linspace(0, 1 , 100)\n",
        "y_val = nonlin(X_val)\n",
        "\n",
        "for i in range(10):\n",
        "  X_transform = polynomial_transform(X, i)\n",
        "  X_val_transform = polynomial_transform(X_val, i)\n",
        "  lin_reg = LinReg()\n",
        "  lin_reg.fit (X_transform, y)\n",
        "\n",
        "  w_dict[i]= lin_reg.w\n",
        "  training_errors.append(lin_reg.rmse(X_transform, y))\n",
        "  val_errors.append(lin_reg.rmse(X_val_transform, y_val + np.random.normal(scale=0.25, size = len(y_val))))\n",
        "\n",
        "plot_model_selection(training_errors, val_errors)\n",
        "convert_dict_to_df(w_dict, 10)\n"
      ],
      "metadata": {
        "colab": {
          "base_uri": "https://localhost:8080/",
          "height": 644
        },
        "id": "n1gwK5WlNb2J",
        "outputId": "e84feceb-f4d2-4ed2-9029-81f4ae697062"
      },
      "execution_count": null,
      "outputs": [
        {
          "output_type": "display_data",
          "data": {
            "text/plain": [
              "<Figure size 432x288 with 1 Axes>"
            ],
            "image/png": "[encoded data removed]"
          },
          "metadata": {
            "needs_background": "light"
          }
        },
        {
          "output_type": "execute_result",
          "data": {
            "text/plain": [
              "        w_0       w_1       w_2        w_3        w_4        w_5         w_6  \\\n",
              "0  0.065332  0.648198  0.726254  -0.029259   0.033715   0.051682    0.057031   \n",
              "1  0.000000 -1.165734 -1.692611  10.746379   8.384844   6.748033    5.320780   \n",
              "2  0.000000  0.000000  0.526877 -32.257011 -20.331259  -6.687428   10.920981   \n",
              "3  0.000000  0.000000  0.000000  21.855925   2.727492 -35.839070 -111.627313   \n",
              "4  0.000000  0.000000  0.000000   0.000000   9.564217  53.770229  200.229180   \n",
              "5  0.000000  0.000000  0.000000   0.000000   0.000000 -17.682405 -147.960201   \n",
              "6  0.000000  0.000000  0.000000   0.000000   0.000000   0.000000   43.425932   \n",
              "7  0.000000  0.000000  0.000000   0.000000   0.000000   0.000000    0.000000   \n",
              "8  0.000000  0.000000  0.000000   0.000000   0.000000   0.000000    0.000000   \n",
              "9  0.000000  0.000000  0.000000   0.000000   0.000000   0.000000    0.000000   \n",
              "\n",
              "           w_7           w_8            w_9  \n",
              "0     0.043420      0.052306       0.052916  \n",
              "1    20.039504    -43.556038    -107.146784  \n",
              "2  -231.949495   1050.545701    2519.381168  \n",
              "3  1328.622355  -8344.699675  -21575.040865  \n",
              "4 -3872.164641  32619.908280   94774.287385  \n",
              "5  5790.776919 -70182.211655 -239513.826843  \n",
              "6 -4266.353659  84368.799676  361639.065161  \n",
              "7  1231.365598 -53035.054812 -321969.990576  \n",
              "8     0.000000  13566.605102  155852.750035  \n",
              "9     0.000000      0.000000  -31619.143318  "
            ],
            "text/html": [
              "\n",
              "  <div id=\"df-1b99845f-5ee8-4546-b1d9-dedb3a4d23e6\">\n",
              "    <div class=\"colab-df-container\">\n",
              "      <div>\n",
              "<style scoped>\n",
              "    .dataframe tbody tr th:only-of-type {\n",
              "        vertical-align: middle;\n",
              "    }\n",
              "\n",
              "    .dataframe tbody tr th {\n",
              "        vertical-align: top;\n",
              "    }\n",
              "\n",
              "    .dataframe thead th {\n",
              "        text-align: right;\n",
              "    }\n",
              "</style>\n",
              "<table border=\"1\" class=\"dataframe\">\n",
              "  <thead>\n",
              "    <tr style=\"text-align: right;\">\n",
              "      <th></th>\n",
              "      <th>w_0</th>\n",
              "      <th>w_1</th>\n",
              "      <th>w_2</th>\n",
              "      <th>w_3</th>\n",
              "      <th>w_4</th>\n",
              "      <th>w_5</th>\n",
              "      <th>w_6</th>\n",
              "      <th>w_7</th>\n",
              "      <th>w_8</th>\n",
              "      <th>w_9</th>\n",
              "    </tr>\n",
              "  </thead>\n",
              "  <tbody>\n",
              "    <tr>\n",
              "      <th>0</th>\n",
              "      <td>0.065332</td>\n",
              "      <td>0.648198</td>\n",
              "      <td>0.726254</td>\n",
              "      <td>-0.029259</td>\n",
              "      <td>0.033715</td>\n",
              "      <td>0.051682</td>\n",
              "      <td>0.057031</td>\n",
              "      <td>0.043420</td>\n",
              "      <td>0.052306</td>\n",
              "      <td>0.052916</td>\n",
              "    </tr>\n",
              "    <tr>\n",
              "      <th>1</th>\n",
              "      <td>0.000000</td>\n",
              "      <td>-1.165734</td>\n",
              "      <td>-1.692611</td>\n",
              "      <td>10.746379</td>\n",
              "      <td>8.384844</td>\n",
              "      <td>6.748033</td>\n",
              "      <td>5.320780</td>\n",
              "      <td>20.039504</td>\n",
              "      <td>-43.556038</td>\n",
              "      <td>-107.146784</td>\n",
              "    </tr>\n",
              "    <tr>\n",
              "      <th>2</th>\n",
              "      <td>0.000000</td>\n",
              "      <td>0.000000</td>\n",
              "      <td>0.526877</td>\n",
              "      <td>-32.257011</td>\n",
              "      <td>-20.331259</td>\n",
              "      <td>-6.687428</td>\n",
              "      <td>10.920981</td>\n",
              "      <td>-231.949495</td>\n",
              "      <td>1050.545701</td>\n",
              "      <td>2519.381168</td>\n",
              "    </tr>\n",
              "    <tr>\n",
              "      <th>3</th>\n",
              "      <td>0.000000</td>\n",
              "      <td>0.000000</td>\n",
              "      <td>0.000000</td>\n",
              "      <td>21.855925</td>\n",
              "      <td>2.727492</td>\n",
              "      <td>-35.839070</td>\n",
              "      <td>-111.627313</td>\n",
              "      <td>1328.622355</td>\n",
              "      <td>-8344.699675</td>\n",
              "      <td>-21575.040865</td>\n",
              "    </tr>\n",
              "    <tr>\n",
              "      <th>4</th>\n",
              "      <td>0.000000</td>\n",
              "      <td>0.000000</td>\n",
              "      <td>0.000000</td>\n",
              "      <td>0.000000</td>\n",
              "      <td>9.564217</td>\n",
              "      <td>53.770229</td>\n",
              "      <td>200.229180</td>\n",
              "      <td>-3872.164641</td>\n",
              "      <td>32619.908280</td>\n",
              "      <td>94774.287385</td>\n",
              "    </tr>\n",
              "    <tr>\n",
              "      <th>5</th>\n",
              "      <td>0.000000</td>\n",
              "      <td>0.000000</td>\n",
              "      <td>0.000000</td>\n",
              "      <td>0.000000</td>\n",
              "      <td>0.000000</td>\n",
              "      <td>-17.682405</td>\n",
              "      <td>-147.960201</td>\n",
              "      <td>5790.776919</td>\n",
              "      <td>-70182.211655</td>\n",
              "      <td>-239513.826843</td>\n",
              "    </tr>\n",
              "    <tr>\n",
              "      <th>6</th>\n",
              "      <td>0.000000</td>\n",
              "      <td>0.000000</td>\n",
              "      <td>0.000000</td>\n",
              "      <td>0.000000</td>\n",
              "      <td>0.000000</td>\n",
              "      <td>0.000000</td>\n",
              "      <td>43.425932</td>\n",
              "      <td>-4266.353659</td>\n",
              "      <td>84368.799676</td>\n",
              "      <td>361639.065161</td>\n",
              "    </tr>\n",
              "    <tr>\n",
              "      <th>7</th>\n",
              "      <td>0.000000</td>\n",
              "      <td>0.000000</td>\n",
              "      <td>0.000000</td>\n",
              "      <td>0.000000</td>\n",
              "      <td>0.000000</td>\n",
              "      <td>0.000000</td>\n",
              "      <td>0.000000</td>\n",
              "      <td>1231.365598</td>\n",
              "      <td>-53035.054812</td>\n",
              "      <td>-321969.990576</td>\n",
              "    </tr>\n",
              "    <tr>\n",
              "      <th>8</th>\n",
              "      <td>0.000000</td>\n",
              "      <td>0.000000</td>\n",
              "      <td>0.000000</td>\n",
              "      <td>0.000000</td>\n",
              "      <td>0.000000</td>\n",
              "      <td>0.000000</td>\n",
              "      <td>0.000000</td>\n",
              "      <td>0.000000</td>\n",
              "      <td>13566.605102</td>\n",
              "      <td>155852.750035</td>\n",
              "    </tr>\n",
              "    <tr>\n",
              "      <th>9</th>\n",
              "      <td>0.000000</td>\n",
              "      <td>0.000000</td>\n",
              "      <td>0.000000</td>\n",
              "      <td>0.000000</td>\n",
              "      <td>0.000000</td>\n",
              "      <td>0.000000</td>\n",
              "      <td>0.000000</td>\n",
              "      <td>0.000000</td>\n",
              "      <td>0.000000</td>\n",
              "      <td>-31619.143318</td>\n",
              "    </tr>\n",
              "  </tbody>\n",
              "</table>\n",
              "</div>\n",
              "      <button class=\"colab-df-convert\" onclick=\"convertToInteractive('df-1b99845f-5ee8-4546-b1d9-dedb3a4d23e6')\"\n",
              "              title=\"Convert this dataframe to an interactive table.\"\n",
              "              style=\"display:none;\">\n",
              "        \n",
              "  <svg xmlns=\"http://www.w3.org/2000/svg\" height=\"24px\"viewBox=\"0 0 24 24\"\n",
              "       width=\"24px\">\n",
              "    <path d=\"M0 0h24v24H0V0z\" fill=\"none\"/>\n",
              "    <path d=\"M18.56 5.44l.94 2.06.94-2.06 2.06-.94-2.06-.94-.94-2.06-.94 2.06-2.06.94zm-11 1L8.5 8.5l.94-2.06 2.06-.94-2.06-.94L8.5 2.5l-.94 2.06-2.06.94zm10 10l.94 2.06.94-2.06 2.06-.94-2.06-.94-.94-2.06-.94 2.06-2.06.94z\"/><path d=\"M17.41 7.96l-1.37-1.37c-.4-.4-.92-.59-1.43-.59-.52 0-1.04.2-1.43.59L10.3 9.45l-7.72 7.72c-.78.78-.78 2.05 0 2.83L4 21.41c.39.39.9.59 1.41.59.51 0 1.02-.2 1.41-.59l7.78-7.78 2.81-2.81c.8-.78.8-2.07 0-2.86zM5.41 20L4 18.59l7.72-7.72 1.47 1.35L5.41 20z\"/>\n",
              "  </svg>\n",
              "      </button>\n",
              "      \n",
              "  <style>\n",
              "    .colab-df-container {\n",
              "      display:flex;\n",
              "      flex-wrap:wrap;\n",
              "      gap: 12px;\n",
              "    }\n",
              "\n",
              "    .colab-df-convert {\n",
              "      background-color: #E8F0FE;\n",
              "      border: none;\n",
              "      border-radius: 50%;\n",
              "      cursor: pointer;\n",
              "      display: none;\n",
              "      fill: #1967D2;\n",
              "      height: 32px;\n",
              "      padding: 0 0 0 0;\n",
              "      width: 32px;\n",
              "    }\n",
              "\n",
              "    .colab-df-convert:hover {\n",
              "      background-color: #E2EBFA;\n",
              "      box-shadow: 0px 1px 2px rgba(60, 64, 67, 0.3), 0px 1px 3px 1px rgba(60, 64, 67, 0.15);\n",
              "      fill: #174EA6;\n",
              "    }\n",
              "\n",
              "    [theme=dark] .colab-df-convert {\n",
              "      background-color: #3B4455;\n",
              "      fill: #D2E3FC;\n",
              "    }\n",
              "\n",
              "    [theme=dark] .colab-df-convert:hover {\n",
              "      background-color: #434B5C;\n",
              "      box-shadow: 0px 1px 3px 1px rgba(0, 0, 0, 0.15);\n",
              "      filter: drop-shadow(0px 1px 2px rgba(0, 0, 0, 0.3));\n",
              "      fill: #FFFFFF;\n",
              "    }\n",
              "  </style>\n",
              "\n",
              "      <script>\n",
              "        const buttonEl =\n",
              "          document.querySelector('#df-1b99845f-5ee8-4546-b1d9-dedb3a4d23e6 button.colab-df-convert');\n",
              "        buttonEl.style.display =\n",
              "          google.colab.kernel.accessAllowed ? 'block' : 'none';\n",
              "\n",
              "        async function convertToInteractive(key) {\n",
              "          const element = document.querySelector('#df-1b99845f-5ee8-4546-b1d9-dedb3a4d23e6');\n",
              "          const dataTable =\n",
              "            await google.colab.kernel.invokeFunction('convertToInteractive',\n",
              "                                                     [key], {});\n",
              "          if (!dataTable) return;\n",
              "\n",
              "          const docLinkHtml = 'Like what you see? Visit the ' +\n",
              "            '<a target=\"_blank\" href=https://colab.research.google.com/notebooks/data_table.ipynb>data table notebook</a>'\n",
              "            + ' to learn more about interactive tables.';\n",
              "          element.innerHTML = '';\n",
              "          dataTable['output_type'] = 'display_data';\n",
              "          await google.colab.output.renderOutput(dataTable, element);\n",
              "          const docLink = document.createElement('div');\n",
              "          docLink.innerHTML = docLinkHtml;\n",
              "          element.appendChild(docLink);\n",
              "        }\n",
              "      </script>\n",
              "    </div>\n",
              "  </div>\n",
              "  "
            ]
          },
          "metadata": {},
          "execution_count": 24
        }
      ]
    },
    {
      "cell_type": "code",
      "source": [
        "w_dict\n",
        "df = pd.DataFrame.from_dict(w_dict,orient='index')\n",
        "df.transpose()"
      ],
      "metadata": {
        "colab": {
          "base_uri": "https://localhost:8080/",
          "height": 363
        },
        "id": "6PskoxZyAf3f",
        "outputId": "e904799e-f8ac-4859-e9c9-7311e82bf411"
      },
      "execution_count": null,
      "outputs": [
        {
          "output_type": "execute_result",
          "data": {
            "text/plain": [
              "          0         1         2          3          4          5           6  \\\n",
              "0  0.065332  0.648198  0.726254  -0.029259   0.033715   0.051682    0.057031   \n",
              "1       NaN -1.165734 -1.692611  10.746379   8.384844   6.748033    5.320780   \n",
              "2       NaN       NaN  0.526877 -32.257011 -20.331259  -6.687428   10.920981   \n",
              "3       NaN       NaN       NaN  21.855925   2.727492 -35.839070 -111.627313   \n",
              "4       NaN       NaN       NaN        NaN   9.564217  53.770229  200.229180   \n",
              "5       NaN       NaN       NaN        NaN        NaN -17.682405 -147.960201   \n",
              "6       NaN       NaN       NaN        NaN        NaN        NaN   43.425932   \n",
              "7       NaN       NaN       NaN        NaN        NaN        NaN         NaN   \n",
              "8       NaN       NaN       NaN        NaN        NaN        NaN         NaN   \n",
              "9       NaN       NaN       NaN        NaN        NaN        NaN         NaN   \n",
              "\n",
              "             7             8              9  \n",
              "0     0.043420      0.052306       0.052916  \n",
              "1    20.039504    -43.556038    -107.146784  \n",
              "2  -231.949495   1050.545701    2519.381168  \n",
              "3  1328.622355  -8344.699675  -21575.040865  \n",
              "4 -3872.164641  32619.908280   94774.287385  \n",
              "5  5790.776919 -70182.211655 -239513.826843  \n",
              "6 -4266.353659  84368.799676  361639.065161  \n",
              "7  1231.365598 -53035.054812 -321969.990576  \n",
              "8          NaN  13566.605102  155852.750035  \n",
              "9          NaN           NaN  -31619.143318  "
            ],
            "text/html": [
              "\n",
              "  <div id=\"df-dfac5d8e-35ca-426e-9d57-6efbf2d5ff20\">\n",
              "    <div class=\"colab-df-container\">\n",
              "      <div>\n",
              "<style scoped>\n",
              "    .dataframe tbody tr th:only-of-type {\n",
              "        vertical-align: middle;\n",
              "    }\n",
              "\n",
              "    .dataframe tbody tr th {\n",
              "        vertical-align: top;\n",
              "    }\n",
              "\n",
              "    .dataframe thead th {\n",
              "        text-align: right;\n",
              "    }\n",
              "</style>\n",
              "<table border=\"1\" class=\"dataframe\">\n",
              "  <thead>\n",
              "    <tr style=\"text-align: right;\">\n",
              "      <th></th>\n",
              "      <th>0</th>\n",
              "      <th>1</th>\n",
              "      <th>2</th>\n",
              "      <th>3</th>\n",
              "      <th>4</th>\n",
              "      <th>5</th>\n",
              "      <th>6</th>\n",
              "      <th>7</th>\n",
              "      <th>8</th>\n",
              "      <th>9</th>\n",
              "    </tr>\n",
              "  </thead>\n",
              "  <tbody>\n",
              "    <tr>\n",
              "      <th>0</th>\n",
              "      <td>0.065332</td>\n",
              "      <td>0.648198</td>\n",
              "      <td>0.726254</td>\n",
              "      <td>-0.029259</td>\n",
              "      <td>0.033715</td>\n",
              "      <td>0.051682</td>\n",
              "      <td>0.057031</td>\n",
              "      <td>0.043420</td>\n",
              "      <td>0.052306</td>\n",
              "      <td>0.052916</td>\n",
              "    </tr>\n",
              "    <tr>\n",
              "      <th>1</th>\n",
              "      <td>NaN</td>\n",
              "      <td>-1.165734</td>\n",
              "      <td>-1.692611</td>\n",
              "      <td>10.746379</td>\n",
              "      <td>8.384844</td>\n",
              "      <td>6.748033</td>\n",
              "      <td>5.320780</td>\n",
              "      <td>20.039504</td>\n",
              "      <td>-43.556038</td>\n",
              "      <td>-107.146784</td>\n",
              "    </tr>\n",
              "    <tr>\n",
              "      <th>2</th>\n",
              "      <td>NaN</td>\n",
              "      <td>NaN</td>\n",
              "      <td>0.526877</td>\n",
              "      <td>-32.257011</td>\n",
              "      <td>-20.331259</td>\n",
              "      <td>-6.687428</td>\n",
              "      <td>10.920981</td>\n",
              "      <td>-231.949495</td>\n",
              "      <td>1050.545701</td>\n",
              "      <td>2519.381168</td>\n",
              "    </tr>\n",
              "    <tr>\n",
              "      <th>3</th>\n",
              "      <td>NaN</td>\n",
              "      <td>NaN</td>\n",
              "      <td>NaN</td>\n",
              "      <td>21.855925</td>\n",
              "      <td>2.727492</td>\n",
              "      <td>-35.839070</td>\n",
              "      <td>-111.627313</td>\n",
              "      <td>1328.622355</td>\n",
              "      <td>-8344.699675</td>\n",
              "      <td>-21575.040865</td>\n",
              "    </tr>\n",
              "    <tr>\n",
              "      <th>4</th>\n",
              "      <td>NaN</td>\n",
              "      <td>NaN</td>\n",
              "      <td>NaN</td>\n",
              "      <td>NaN</td>\n",
              "      <td>9.564217</td>\n",
              "      <td>53.770229</td>\n",
              "      <td>200.229180</td>\n",
              "      <td>-3872.164641</td>\n",
              "      <td>32619.908280</td>\n",
              "      <td>94774.287385</td>\n",
              "    </tr>\n",
              "    <tr>\n",
              "      <th>5</th>\n",
              "      <td>NaN</td>\n",
              "      <td>NaN</td>\n",
              "      <td>NaN</td>\n",
              "      <td>NaN</td>\n",
              "      <td>NaN</td>\n",
              "      <td>-17.682405</td>\n",
              "      <td>-147.960201</td>\n",
              "      <td>5790.776919</td>\n",
              "      <td>-70182.211655</td>\n",
              "      <td>-239513.826843</td>\n",
              "    </tr>\n",
              "    <tr>\n",
              "      <th>6</th>\n",
              "      <td>NaN</td>\n",
              "      <td>NaN</td>\n",
              "      <td>NaN</td>\n",
              "      <td>NaN</td>\n",
              "      <td>NaN</td>\n",
              "      <td>NaN</td>\n",
              "      <td>43.425932</td>\n",
              "      <td>-4266.353659</td>\n",
              "      <td>84368.799676</td>\n",
              "      <td>361639.065161</td>\n",
              "    </tr>\n",
              "    <tr>\n",
              "      <th>7</th>\n",
              "      <td>NaN</td>\n",
              "      <td>NaN</td>\n",
              "      <td>NaN</td>\n",
              "      <td>NaN</td>\n",
              "      <td>NaN</td>\n",
              "      <td>NaN</td>\n",
              "      <td>NaN</td>\n",
              "      <td>1231.365598</td>\n",
              "      <td>-53035.054812</td>\n",
              "      <td>-321969.990576</td>\n",
              "    </tr>\n",
              "    <tr>\n",
              "      <th>8</th>\n",
              "      <td>NaN</td>\n",
              "      <td>NaN</td>\n",
              "      <td>NaN</td>\n",
              "      <td>NaN</td>\n",
              "      <td>NaN</td>\n",
              "      <td>NaN</td>\n",
              "      <td>NaN</td>\n",
              "      <td>NaN</td>\n",
              "      <td>13566.605102</td>\n",
              "      <td>155852.750035</td>\n",
              "    </tr>\n",
              "    <tr>\n",
              "      <th>9</th>\n",
              "      <td>NaN</td>\n",
              "      <td>NaN</td>\n",
              "      <td>NaN</td>\n",
              "      <td>NaN</td>\n",
              "      <td>NaN</td>\n",
              "      <td>NaN</td>\n",
              "      <td>NaN</td>\n",
              "      <td>NaN</td>\n",
              "      <td>NaN</td>\n",
              "      <td>-31619.143318</td>\n",
              "    </tr>\n",
              "  </tbody>\n",
              "</table>\n",
              "</div>\n",
              "      <button class=\"colab-df-convert\" onclick=\"convertToInteractive('df-dfac5d8e-35ca-426e-9d57-6efbf2d5ff20')\"\n",
              "              title=\"Convert this dataframe to an interactive table.\"\n",
              "              style=\"display:none;\">\n",
              "        \n",
              "  <svg xmlns=\"http://www.w3.org/2000/svg\" height=\"24px\"viewBox=\"0 0 24 24\"\n",
              "       width=\"24px\">\n",
              "    <path d=\"M0 0h24v24H0V0z\" fill=\"none\"/>\n",
              "    <path d=\"M18.56 5.44l.94 2.06.94-2.06 2.06-.94-2.06-.94-.94-2.06-.94 2.06-2.06.94zm-11 1L8.5 8.5l.94-2.06 2.06-.94-2.06-.94L8.5 2.5l-.94 2.06-2.06.94zm10 10l.94 2.06.94-2.06 2.06-.94-2.06-.94-.94-2.06-.94 2.06-2.06.94z\"/><path d=\"M17.41 7.96l-1.37-1.37c-.4-.4-.92-.59-1.43-.59-.52 0-1.04.2-1.43.59L10.3 9.45l-7.72 7.72c-.78.78-.78 2.05 0 2.83L4 21.41c.39.39.9.59 1.41.59.51 0 1.02-.2 1.41-.59l7.78-7.78 2.81-2.81c.8-.78.8-2.07 0-2.86zM5.41 20L4 18.59l7.72-7.72 1.47 1.35L5.41 20z\"/>\n",
              "  </svg>\n",
              "      </button>\n",
              "      \n",
              "  <style>\n",
              "    .colab-df-container {\n",
              "      display:flex;\n",
              "      flex-wrap:wrap;\n",
              "      gap: 12px;\n",
              "    }\n",
              "\n",
              "    .colab-df-convert {\n",
              "      background-color: #E8F0FE;\n",
              "      border: none;\n",
              "      border-radius: 50%;\n",
              "      cursor: pointer;\n",
              "      display: none;\n",
              "      fill: #1967D2;\n",
              "      height: 32px;\n",
              "      padding: 0 0 0 0;\n",
              "      width: 32px;\n",
              "    }\n",
              "\n",
              "    .colab-df-convert:hover {\n",
              "      background-color: #E2EBFA;\n",
              "      box-shadow: 0px 1px 2px rgba(60, 64, 67, 0.3), 0px 1px 3px 1px rgba(60, 64, 67, 0.15);\n",
              "      fill: #174EA6;\n",
              "    }\n",
              "\n",
              "    [theme=dark] .colab-df-convert {\n",
              "      background-color: #3B4455;\n",
              "      fill: #D2E3FC;\n",
              "    }\n",
              "\n",
              "    [theme=dark] .colab-df-convert:hover {\n",
              "      background-color: #434B5C;\n",
              "      box-shadow: 0px 1px 3px 1px rgba(0, 0, 0, 0.15);\n",
              "      filter: drop-shadow(0px 1px 2px rgba(0, 0, 0, 0.3));\n",
              "      fill: #FFFFFF;\n",
              "    }\n",
              "  </style>\n",
              "\n",
              "      <script>\n",
              "        const buttonEl =\n",
              "          document.querySelector('#df-dfac5d8e-35ca-426e-9d57-6efbf2d5ff20 button.colab-df-convert');\n",
              "        buttonEl.style.display =\n",
              "          google.colab.kernel.accessAllowed ? 'block' : 'none';\n",
              "\n",
              "        async function convertToInteractive(key) {\n",
              "          const element = document.querySelector('#df-dfac5d8e-35ca-426e-9d57-6efbf2d5ff20');\n",
              "          const dataTable =\n",
              "            await google.colab.kernel.invokeFunction('convertToInteractive',\n",
              "                                                     [key], {});\n",
              "          if (!dataTable) return;\n",
              "\n",
              "          const docLinkHtml = 'Like what you see? Visit the ' +\n",
              "            '<a target=\"_blank\" href=https://colab.research.google.com/notebooks/data_table.ipynb>data table notebook</a>'\n",
              "            + ' to learn more about interactive tables.';\n",
              "          element.innerHTML = '';\n",
              "          dataTable['output_type'] = 'display_data';\n",
              "          await google.colab.output.renderOutput(dataTable, element);\n",
              "          const docLink = document.createElement('div');\n",
              "          docLink.innerHTML = docLinkHtml;\n",
              "          element.appendChild(docLink);\n",
              "        }\n",
              "      </script>\n",
              "    </div>\n",
              "  </div>\n",
              "  "
            ]
          },
          "metadata": {},
          "execution_count": 25
        }
      ]
    },
    {
      "cell_type": "markdown",
      "source": [
        "#Obervations:\n",
        "\n",
        " * Higher order polynomial terms are assigned larger weights. The larger weights are problematic as a small change in the input causes a large change in the output\n",
        "\n",
        " * This is called ' high variance' problem or overfitting problem.\n",
        "\n",
        "   * We can fix the overfitting problem with more data. try running the analysis with number of samples = 100, 1000, 10000 and observe the weights for higher order polynomial models.\n",
        "\n",
        "   * Note down which polynomial model is suitable for different samples size.\n",
        "   "
      ],
      "metadata": {
        "id": "7uGIagLnX6o2"
      }
    },
    {
      "cell_type": "markdown",
      "source": [
        "# We can set the number of samples required and control the noise added to examples through std parameter"
      ],
      "metadata": {
        "id": "EniYhUy1ZB7j"
      }
    },
    {
      "cell_type": "code",
      "source": [
        "num_samples = 10000\n",
        "X, y = create_nonlin_training_set(nonlin, num_samples, 0.2)\n",
        "visualize_training_data(X, y)"
      ],
      "metadata": {
        "colab": {
          "base_uri": "https://localhost:8080/",
          "height": 298
        },
        "id": "Mqkp2sGDZBmu",
        "outputId": "08fa815c-3091-4227-b0aa-673edcc433bc"
      },
      "execution_count": null,
      "outputs": [
        {
          "output_type": "display_data",
          "data": {
            "text/plain": [
              "<Figure size 432x288 with 1 Axes>"
            ],
            "image/png": "[encoded data removed]"
          },
          "metadata": {
            "needs_background": "light"
          }
        }
      ]
    },
    {
      "cell_type": "markdown",
      "source": [
        "#Ridge and Lasso Regression\n",
        "\n",
        "We implement ridge regression from scratch and demonstrate lasso from sklearn library in this colab\n",
        "\n",
        "There are two ways to tackle the problem of overfitting:\n",
        " * Train with more data\n",
        " * Penalize the weight vector through regularization\n",
        "\n",
        "We will focus on point #2.\n",
        " * Regularization leads to change in Linear Regression loss functionm which inturn results in change of gradient calculation.\n",
        " * We plan to demonstrate the use of regularization with polynomial regression model and synthetically generated non-linear data set.\n",
        "\n",
        "Finally we demonstrate ridge and lasso solution path as a function of regularization $λ$."
      ],
      "metadata": {
        "id": "8E7tDFlRbIZr"
      }
    },
    {
      "cell_type": "markdown",
      "source": [
        "1. Loss Function (loss) : $\\ J (w) = \\frac{1}{2} (Xw - y)^{T} (Xw - y) + \\color{blue} {\\frac {λ}{2} w^{T}w} $\n",
        "\n",
        "2. Gradient calculation (calculate_gradient): $\\ \\frac {∂J(w)}{∂w} = X^{T}(Xw-y) + \\color{blue} {λw} $\n",
        "\n",
        "3. Normal equation (fit) : $\\ \\mathbf{w} = (\\mathbf{X}^{T}\\mathbf{X} + \\color{blue}{λI})^{-1} \\mathbf{X}^{T} \\mathbf{y} $"
      ],
      "metadata": {
        "id": "FLsfbS6hb_aX"
      }
    },
    {
      "cell_type": "markdown",
      "source": [
        "# Reuse Linear regression class with additional $λ$ added as noise"
      ],
      "metadata": {
        "id": "9fv3KL4PeiRi"
      }
    },
    {
      "cell_type": "code",
      "source": [
        "class LinReg(object):\n",
        "  def __init__(self):\n",
        "    self.t0 = 20\n",
        "    self.t1 = 100\n",
        "\n",
        "  def predict(self,X:np.ndarray):\n",
        "    y = X @ self.w\n",
        "    return y\n",
        "  \n",
        "  def loss(self, X:np.ndarray, y:np.ndarray, reg_rate:float):\n",
        "    e = y - self.predict(X)\n",
        "    # return ((1/2)*(np.transpose(e) @ e))\n",
        "    return ((1/2) * (np.transpose(e) @ e) + (reg_rate/2) * (np.transpose(self.w)  @ self.w))\n",
        "\n",
        "  def rmse (self, X:np.ndarray, y:np.ndarray):\n",
        "    return np.sqrt((2/X.shape[0]) * self.loss(X,y,0))\n",
        "  \n",
        "  def fit (self, X:np.ndarray, y:np.ndarray, reg_rate:float):\n",
        "    self.w = np.zeros((X.shape[1]))\n",
        "    eye = np.eye(np.size(X, 1))\n",
        "    #self.w = np.linalg.pinv(X) @ y\n",
        "    self.w = np.linalg.solve(reg_rate * eye + (np.transpose(X) @ X), np.transpose(X) @ y,)\n",
        "    return self.w\n",
        "  \n",
        "  def calculate_gradient(self, X:np.ndarray, y:np.ndarray, reg_rate:float):\n",
        "    #return(np.transpose(X) @ (self.predict(X)-y))\n",
        "    return(np.transpose(X) @ (self.predict(X)-y)) + reg_rate *self.w\n",
        "  \n",
        "  def update_weights(self, grad:np.ndarray, lr:float):\n",
        "    return(self.w - lr*grad)\n",
        "\n",
        "  def learning_schedule(self,t):\n",
        "    return self.t0 / (t*self.t1)\n",
        "\n",
        "  def gd(self, X:np.ndarray, y:np.ndarray, num_epochs:int, lr:float,reg_rate:float):\n",
        "    self.w = np.zeros((X.shape[1]))\n",
        "    self.w_all = []\n",
        "    self.err_all = []\n",
        "    for i in np.arange(0,num_epochs):\n",
        "      self.w_all.append(self.w)\n",
        "      self.err_all.append(self.loss(X,y,reg_rate))\n",
        "      djdw = self.calculate_gradient(X,y,reg_rate)\n",
        "      self.w = self.update_weights(djdw,lr)\n",
        "    return self.w\n",
        "\n",
        "  def mbgd(self, X:np.ndarray, y:np.ndarray, num_epochs:int, batch_size:int, reg_rate:float):\n",
        "    self.w = np.zeros((X.shape[1]))\n",
        "    self.w_all = []\n",
        "    self.err_all = []\n",
        "    mini_batch_id = 0\n",
        "\n",
        "    for epoch in range(num_epochs):\n",
        "      shuffled_indices = np.random.permutation(X.shape[0])\n",
        "      X_shuffled = X[shuffled_indices]\n",
        "      y_shuffled = y[shuffled_indices]\n",
        "      for i in range(0,X.shape[0],batch_size):\n",
        "        mini_batch_id += 1\n",
        "        xi = X_shuffled[i:i+batch_size]\n",
        "        yi = y_shuffled[i:i+batch_size]\n",
        "        self.w_all.append(self.w)\n",
        "        self.err_all.append(self.loss(xi,yi))\n",
        "        djdw = 2/batch_size * self.calculate_gradient(xi,yi,reg_rate)\n",
        "        self.w = self.update_weights(djdw,self.learning_schedule(mini_batch_id))\n",
        "    return self.w\n",
        "\n",
        "  def sgd(self, X:np.ndarray, y:np.ndarray, num_epochs:int, reg_rate:float):\n",
        "    self.w = np.zeros((X.shape[1]))\n",
        "    self.w_all = []\n",
        "    self.err_all = []\n",
        "    mini_batch_id = 0\n",
        "\n",
        "    for epoch in range(num_epochs):\n",
        "      for i in range(X.shape[0]):\n",
        "        random_index = np.random.randint(X.shape[0])\n",
        "        xi = X[random_index]\n",
        "        yi = y[random_index]\n",
        "        self.w_all.append(self.w)\n",
        "        self.err_all.append(self.loss(xi,yi))\n",
        "        djdw = 2 * self.calculate_gradient(xi,yi,reg_rate)\n",
        "        self.w = self.update_weights(djdw,self.learning_schedule(epoch * X.hape[0] + i))\n",
        "    return self.w"
      ],
      "metadata": {
        "id": "tYrOCYxgb7yk"
      },
      "execution_count": null,
      "outputs": []
    },
    {
      "cell_type": "code",
      "source": [
        "feature_matrix = np.array([[1,3,2,5],[1,9,4,7]])\n",
        "weight_vector = np.array([1,1,1,1])\n",
        "label_vector = np.array([6,11])\n",
        "reg_rate = 0.01\n",
        "expected_loss = np.array([62.52])\n",
        "\n",
        "lin_reg = LinReg()\n",
        "lin_reg.w = weight_vector\n",
        "loss_value = lin_reg.loss(feature_matrix, label_vector, reg_rate)\n",
        "print(loss_value)"
      ],
      "metadata": {
        "colab": {
          "base_uri": "https://localhost:8080/"
        },
        "id": "JMU_hqTKyFBL",
        "outputId": "5ce692db-d4d3-4feb-cc97-a456fe4a0d76"
      },
      "execution_count": null,
      "outputs": [
        {
          "output_type": "stream",
          "name": "stdout",
          "text": [
            "62.52\n"
          ]
        }
      ]
    },
    {
      "cell_type": "markdown",
      "source": [
        "#Gradient Calculation Test"
      ],
      "metadata": {
        "id": "-MYJcIRv7uWa"
      }
    },
    {
      "cell_type": "code",
      "source": [
        "feature_matrix = np.array([[1,3,2,5],[1,9,4,7]])\n",
        "weight_vector = np.array([1,1,1,1])\n",
        "label_vector = np.array([6,11])\n",
        "reg_rate = 0.01\n",
        "expected_loss = np.array([15.01, 105.01, 50.01, 95.01])\n",
        "\n",
        "lin_reg = LinReg()\n",
        "lin_reg.w = weight_vector\n",
        "loss_value = lin_reg.calculate_gradient(feature_matrix, label_vector, reg_rate)\n",
        "print(loss_value)"
      ],
      "metadata": {
        "colab": {
          "base_uri": "https://localhost:8080/"
        },
        "id": "gKelCYrU7xGP",
        "outputId": "347a07d1-5f4b-4f5a-bc6e-0273dfcf6901"
      },
      "execution_count": null,
      "outputs": [
        {
          "output_type": "stream",
          "name": "stdout",
          "text": [
            "[ 15.01 105.01  50.01  95.01]\n"
          ]
        }
      ]
    },
    {
      "cell_type": "markdown",
      "source": [
        "# Ridge regression for fixing overfitting in polynomial regression"
      ],
      "metadata": {
        "id": "kuiu3zRK8LIm"
      }
    },
    {
      "cell_type": "code",
      "source": [
        "num_samples = 10\n",
        "X, y = create_nonlin_training_set(nonlin, num_samples, 0.2)\n",
        "visualize_training_data(X, y)"
      ],
      "metadata": {
        "colab": {
          "base_uri": "https://localhost:8080/",
          "height": 298
        },
        "id": "xNzzcIUf8Rkj",
        "outputId": "ccacaf80-fbec-4f3d-8078-f05693f050a3"
      },
      "execution_count": null,
      "outputs": [
        {
          "output_type": "display_data",
          "data": {
            "text/plain": [
              "<Figure size 432x288 with 1 Axes>"
            ],
            "image/png": "[encoded data removed]"
          },
          "metadata": {
            "needs_background": "light"
          }
        }
      ]
    },
    {
      "cell_type": "code",
      "source": [
        "#@title [Polynomial regression with ridge regularization]\n",
        "f = plt.figure(figsize = (12,8))\n",
        "sns.set_context(\"notebook\", font_scale=1.5, rc = {\"lines.linewidth\" : 3})\n",
        "\n",
        "for i, degree in enumerate([0, 1, 3, 5, 7, 9]):\n",
        "  plt.subplot(3, 3, i + 1)\n",
        "  X_transform = polynomial_transform(X, degree)\n",
        "  lin_reg = LinReg()\n",
        "  lin_reg.fit(X_transform, y, reg_rate = 0.01)\n",
        "  visualize_model_fit(X, y, lin_reg, degree)\n",
        "\n",
        "f.tight_layout()\n",
        "plt.legend(bbox_to_anchor= (1.05, 0.64), loc = 2, borderaxespad = 0.5)\n",
        "plt.show()"
      ],
      "metadata": {
        "id": "eCkLGV0i9APE",
        "colab": {
          "base_uri": "https://localhost:8080/",
          "height": 415
        },
        "outputId": "0adb43f7-3fe2-4fc4-eefe-87628953c4bc"
      },
      "execution_count": null,
      "outputs": [
        {
          "output_type": "display_data",
          "data": {
            "text/plain": [
              "<Figure size 864x576 with 6 Axes>"
            ],
            "image/png": "[encoded data removed]"
          },
          "metadata": {
            "needs_background": "light"
          }
        }
      ]
    },
    {
      "cell_type": "markdown",
      "source": [
        "Let's run a polynomial regression of degree = 9 with different regularization rate and fixed degree"
      ],
      "metadata": {
        "id": "E6fNs2qFP0fu"
      }
    },
    {
      "cell_type": "code",
      "source": [
        "#@title [Polynomial regression with ridge regularization]\n",
        "f = plt.figure(figsize = (12,8))\n",
        "sns.set_context(\"notebook\", font_scale=1.5, rc = {\"lines.linewidth\" : 3})\n",
        "degree = 9\n",
        "\n",
        "for i, reg_rate in enumerate([1e-3, 1e-2, 1e-1, 0, 1, 10]):\n",
        "  plt.subplot(3, 3, i + 1)\n",
        "  X_transform = polynomial_transform(X, degree)\n",
        "  lin_reg = LinReg()\n",
        "  lin_reg.fit(X_transform, y, reg_rate)\n",
        "  visualize_model_fit(X, y, lin_reg, degree)\n",
        "\n",
        "f.tight_layout()\n",
        "plt.legend(bbox_to_anchor= (1.05, 0.64), loc = 2, borderaxespad = 0.5)\n",
        "plt.show()"
      ],
      "metadata": {
        "id": "riHaM4lUP90q",
        "colab": {
          "base_uri": "https://localhost:8080/",
          "height": 415
        },
        "outputId": "5a4fe8eb-13e6-48d0-ea24-d54147505f8a"
      },
      "execution_count": null,
      "outputs": [
        {
          "output_type": "display_data",
          "data": {
            "text/plain": [
              "<Figure size 864x576 with 6 Axes>"
            ],
            "image/png": "[encoded data removed]"
          },
          "metadata": {
            "needs_background": "light"
          }
        }
      ]
    },
    {
      "cell_type": "markdown",
      "source": [
        "# Model Selection\n",
        "\n",
        "  * One Model per $λ$. Which one to select ?\n",
        "  * Process\n",
        "    * Fix the list of λ that you want to experiment with.\n",
        "    * Divide the training data into training, validation and test.\n",
        "    * For each λ:\n",
        "      * Training ridge regression model with λ for training data.\n",
        "      * Calculate training and validation errors on the trained model.\n",
        "  * Select the model with lowest training and validation loss among the models."
      ],
      "metadata": {
        "id": "VSy7puqbRTWN"
      }
    },
    {
      "cell_type": "code",
      "source": [
        "#title [Model selection helper function]\n",
        "def plot_reg_w(w_df):\n",
        "  ax = plt.gca()\n",
        "  ax.plot(w_df.T)\n",
        "  ax.set_xscale('log')\n",
        "  ax.set_xlim(ax.get_xlim()[::-1])\n",
        "  plt.xlabel('$\\lamda$')\n",
        "  plt.ylabel('$\\mathbf{w}$')\n",
        "  plt.title('Weights as a function of $\\lambda$')\n",
        "  plt.axis('tight')\n",
        "  plt.show()\n",
        "\n",
        "def plot_learning_curve(err_df):\n",
        "  ax = plt.gca()\n",
        "  ax.plot(err_df)\n",
        "  ax.set_xscale('log')\n",
        "  ax.set_xlim(ax.get_xlim()[::-1])\n",
        "  plt.xlabel('$\\lamda$')\n",
        "  plt.ylabel('RMSE')\n",
        "  plt.title('Training and validation losses as a function of')\n",
        "  plt.axis('tight')\n",
        "  plt.legend(['training', 'validation'])\n",
        "  plt.show()"
      ],
      "metadata": {
        "id": "iETKSAg8R_Pi"
      },
      "execution_count": null,
      "outputs": []
    },
    {
      "cell_type": "code",
      "source": [
        "#Model selection fixing degree and changing lamda\n",
        "import pandas as pd\n",
        "training_errors = {}\n",
        "val_errors = {}\n",
        "w_dict = {}\n",
        "degree = 9\n",
        "\n",
        "X_val = np.linspace(0, 1 , 100)\n",
        "y_val = nonlin(X_val)\n",
        "\n",
        "X_transform = polynomial_transform(X, degree)\n",
        "X_val_transform = polynomial_transform(X_val, degree)\n",
        "\n",
        "for reg_rate in [1e-6, 1e-5, 1e-4, 1e-3, 1e-2, 1e-1, 1, 10, 100]:\n",
        "  lin_reg = LinReg()\n",
        "  lin_reg.fit (X_transform, y, reg_rate)\n",
        "\n",
        "  w_dict[reg_rate]= lin_reg.w\n",
        "  training_errors[reg_rate] = lin_reg.rmse(X_transform, y)\n",
        "  val_errors[reg_rate] = lin_reg.rmse(X_val_transform, y_val + np.random.normal(scale=0.25, size = len(y_val)))\n",
        "\n",
        "err_df = pd.DataFrame([training_errors, val_errors]).T\n",
        "w_df = pd.DataFrame(w_dict)"
      ],
      "metadata": {
        "id": "z0riRFhVagjf"
      },
      "execution_count": null,
      "outputs": []
    },
    {
      "cell_type": "code",
      "source": [
        "print(err_df)"
      ],
      "metadata": {
        "colab": {
          "base_uri": "https://localhost:8080/"
        },
        "id": "bIYCpW3ldeqg",
        "outputId": "4719dea9-b8ca-487d-d8cf-89e3608ba16b"
      },
      "execution_count": null,
      "outputs": [
        {
          "output_type": "stream",
          "name": "stdout",
          "text": [
            "                   0         1\n",
            "0.000001    0.175971  0.285973\n",
            "0.000010    0.177627  0.256228\n",
            "0.000100    0.180009  0.241802\n",
            "0.001000    0.219966  0.283012\n",
            "0.010000    0.362324  0.349761\n",
            "0.100000    0.470843  0.429899\n",
            "1.000000    0.603145  0.578712\n",
            "10.000000   0.713601  0.683875\n",
            "100.000000  0.759532  0.727924\n"
          ]
        }
      ]
    },
    {
      "cell_type": "code",
      "source": [
        "print(w_df)"
      ],
      "metadata": {
        "colab": {
          "base_uri": "https://localhost:8080/"
        },
        "id": "d7K96SCLg3Em",
        "outputId": "a62f0141-43f3-4241-fb03-2bb7730ce8cb"
      },
      "execution_count": null,
      "outputs": [
        {
          "output_type": "stream",
          "name": "stdout",
          "text": [
            "   0.000001    0.000010    0.000100    0.001000    0.010000    0.100000    \\\n",
            "0   -0.181232   -0.182762   -0.142825    0.037815    0.389456    0.624393   \n",
            "1   10.294285   10.858963   10.066300    7.168063    2.478780   -0.120150   \n",
            "2  -16.556667  -21.520062  -19.596792  -12.968163   -4.426562   -1.410791   \n",
            "3  -16.127129   -5.939727   -4.664495   -4.920913   -2.809192   -1.104698   \n",
            "4    5.238495    8.928139    5.775344    2.392415   -0.622296   -0.559548   \n",
            "5   29.096766   12.095545    8.381056    5.415979    0.755659   -0.081877   \n",
            "6   15.860925    5.482231    6.081249    5.080843    1.331699    0.280829   \n",
            "7  -17.803484   -3.276699    1.824650    2.724996    1.345050    0.542876   \n",
            "8  -29.641082   -6.723022   -2.395886   -0.643486    1.013017    0.728529   \n",
            "9   19.685221    0.140979   -5.462458   -4.376070    0.491045    0.859115   \n",
            "\n",
            "   1.000000    10.000000   100.000000  \n",
            "0    0.366203    0.066851    0.002545  \n",
            "1   -0.346090   -0.079333   -0.013169  \n",
            "2   -0.439930   -0.092259   -0.014190  \n",
            "3   -0.319735   -0.076840   -0.012320  \n",
            "4   -0.181418   -0.058793   -0.010229  \n",
            "5   -0.064424   -0.043276   -0.008439  \n",
            "6    0.027474   -0.030856   -0.007002  \n",
            "7    0.098261   -0.021092   -0.005864  \n",
            "8    0.152752   -0.013415   -0.004962  \n",
            "9    0.194995   -0.007336   -0.004241  \n"
          ]
        }
      ]
    },
    {
      "cell_type": "code",
      "source": [
        "import matplotlib.pyplot as plt\n",
        "\n",
        "plt.plot([1,2,3,4,5,6,7,8,9],[0.33393,0.56,0.32,0.25,0.22,0.15,0.12,0.08,0.05],\"o-\",c = 'b',label = \"data\")\n",
        "plt.xlabel(\"Hi\")\n",
        "plt.ylabel(\"zero\")\n",
        "plt.legend()\n",
        "plt.show()"
      ],
      "metadata": {
        "colab": {
          "base_uri": "https://localhost:8080/",
          "height": 298
        },
        "id": "mUh6FcoR0YSa",
        "outputId": "3803b917-ebc7-4053-d510-048fa455d0bb"
      },
      "execution_count": null,
      "outputs": [
        {
          "output_type": "display_data",
          "data": {
            "text/plain": [
              "<Figure size 432x288 with 1 Axes>"
            ],
            "image/png": "[encoded data removed]"
          },
          "metadata": {
            "needs_background": "light"
          }
        }
      ]
    },
    {
      "cell_type": "markdown",
      "source": [
        "#Lasso Regression\n",
        "\n",
        "Lasso used $\\ \\mathbf{L}_{1}$ norm of weight vector instead of $\\ \\mathbf{L}_{2} $ as used in ridge regression.\n",
        "\n",
        "Lasso does not have closed form solution and it's loss function is not differentiable at all points. We need to use specialised algorithm to learn lasso parameters. We will use sklearn Lasso implementtaion"
      ],
      "metadata": {
        "id": "ysTczOB6hRhv"
      }
    },
    {
      "cell_type": "code",
      "source": [
        "from sklearn.linear_model import Lasso\n",
        "\n",
        "#Lasso\n",
        "\n",
        "reg_rate = 0.01\n",
        "lasso = Lasso(alpha=reg_rate)\n",
        "lasso.fit(X_transform, y)\n",
        "# X_Transform is a Training set generated from non-linar mapping\n",
        "\n",
        "#Linear regerssion (Ridge regression)\n",
        "lin_reg = LinReg()\n",
        "__ = lin_reg.fit(X_transform, y, 0)"
      ],
      "metadata": {
        "id": "LWv2DLZXhQ9h"
      },
      "execution_count": null,
      "outputs": []
    },
    {
      "cell_type": "code",
      "source": [
        "pd.DataFrame({'LinReg': lin_reg.w, 'Ridge': w_df[0.01], 'Lasso':lasso.coef_})"
      ],
      "metadata": {
        "colab": {
          "base_uri": "https://localhost:8080/",
          "height": 363
        },
        "id": "u6Za8n90kRSY",
        "outputId": "c8edb285-20db-4c5b-8750-af0dd70af841"
      },
      "execution_count": null,
      "outputs": [
        {
          "output_type": "execute_result",
          "data": {
            "text/plain": [
              "         LinReg     Ridge     Lasso\n",
              "0 -1.920279e-01  0.389456  0.000000\n",
              "1  2.331901e+02  2.478780  0.000000\n",
              "2 -5.163664e+03 -4.426562 -2.644546\n",
              "3  4.652299e+04 -2.809192 -0.000000\n",
              "4 -2.201421e+05 -0.622296 -0.000000\n",
              "5  6.051386e+05  0.755659  0.000000\n",
              "6 -1.000678e+06  1.331699  0.000000\n",
              "7  9.805789e+05  1.345050  0.000000\n",
              "8 -5.240981e+05  1.013017  0.000000\n",
              "9  1.176086e+05  0.491045  1.710886"
            ],
            "text/html": [
              "\n",
              "  <div id=\"df-8a99ee14-5f37-4988-9b40-dfbec0675d73\">\n",
              "    <div class=\"colab-df-container\">\n",
              "      <div>\n",
              "<style scoped>\n",
              "    .dataframe tbody tr th:only-of-type {\n",
              "        vertical-align: middle;\n",
              "    }\n",
              "\n",
              "    .dataframe tbody tr th {\n",
              "        vertical-align: top;\n",
              "    }\n",
              "\n",
              "    .dataframe thead th {\n",
              "        text-align: right;\n",
              "    }\n",
              "</style>\n",
              "<table border=\"1\" class=\"dataframe\">\n",
              "  <thead>\n",
              "    <tr style=\"text-align: right;\">\n",
              "      <th></th>\n",
              "      <th>LinReg</th>\n",
              "      <th>Ridge</th>\n",
              "      <th>Lasso</th>\n",
              "    </tr>\n",
              "  </thead>\n",
              "  <tbody>\n",
              "    <tr>\n",
              "      <th>0</th>\n",
              "      <td>-1.920279e-01</td>\n",
              "      <td>0.389456</td>\n",
              "      <td>0.000000</td>\n",
              "    </tr>\n",
              "    <tr>\n",
              "      <th>1</th>\n",
              "      <td>2.331901e+02</td>\n",
              "      <td>2.478780</td>\n",
              "      <td>0.000000</td>\n",
              "    </tr>\n",
              "    <tr>\n",
              "      <th>2</th>\n",
              "      <td>-5.163664e+03</td>\n",
              "      <td>-4.426562</td>\n",
              "      <td>-2.644546</td>\n",
              "    </tr>\n",
              "    <tr>\n",
              "      <th>3</th>\n",
              "      <td>4.652299e+04</td>\n",
              "      <td>-2.809192</td>\n",
              "      <td>-0.000000</td>\n",
              "    </tr>\n",
              "    <tr>\n",
              "      <th>4</th>\n",
              "      <td>-2.201421e+05</td>\n",
              "      <td>-0.622296</td>\n",
              "      <td>-0.000000</td>\n",
              "    </tr>\n",
              "    <tr>\n",
              "      <th>5</th>\n",
              "      <td>6.051386e+05</td>\n",
              "      <td>0.755659</td>\n",
              "      <td>0.000000</td>\n",
              "    </tr>\n",
              "    <tr>\n",
              "      <th>6</th>\n",
              "      <td>-1.000678e+06</td>\n",
              "      <td>1.331699</td>\n",
              "      <td>0.000000</td>\n",
              "    </tr>\n",
              "    <tr>\n",
              "      <th>7</th>\n",
              "      <td>9.805789e+05</td>\n",
              "      <td>1.345050</td>\n",
              "      <td>0.000000</td>\n",
              "    </tr>\n",
              "    <tr>\n",
              "      <th>8</th>\n",
              "      <td>-5.240981e+05</td>\n",
              "      <td>1.013017</td>\n",
              "      <td>0.000000</td>\n",
              "    </tr>\n",
              "    <tr>\n",
              "      <th>9</th>\n",
              "      <td>1.176086e+05</td>\n",
              "      <td>0.491045</td>\n",
              "      <td>1.710886</td>\n",
              "    </tr>\n",
              "  </tbody>\n",
              "</table>\n",
              "</div>\n",
              "      <button class=\"colab-df-convert\" onclick=\"convertToInteractive('df-8a99ee14-5f37-4988-9b40-dfbec0675d73')\"\n",
              "              title=\"Convert this dataframe to an interactive table.\"\n",
              "              style=\"display:none;\">\n",
              "        \n",
              "  <svg xmlns=\"http://www.w3.org/2000/svg\" height=\"24px\"viewBox=\"0 0 24 24\"\n",
              "       width=\"24px\">\n",
              "    <path d=\"M0 0h24v24H0V0z\" fill=\"none\"/>\n",
              "    <path d=\"M18.56 5.44l.94 2.06.94-2.06 2.06-.94-2.06-.94-.94-2.06-.94 2.06-2.06.94zm-11 1L8.5 8.5l.94-2.06 2.06-.94-2.06-.94L8.5 2.5l-.94 2.06-2.06.94zm10 10l.94 2.06.94-2.06 2.06-.94-2.06-.94-.94-2.06-.94 2.06-2.06.94z\"/><path d=\"M17.41 7.96l-1.37-1.37c-.4-.4-.92-.59-1.43-.59-.52 0-1.04.2-1.43.59L10.3 9.45l-7.72 7.72c-.78.78-.78 2.05 0 2.83L4 21.41c.39.39.9.59 1.41.59.51 0 1.02-.2 1.41-.59l7.78-7.78 2.81-2.81c.8-.78.8-2.07 0-2.86zM5.41 20L4 18.59l7.72-7.72 1.47 1.35L5.41 20z\"/>\n",
              "  </svg>\n",
              "      </button>\n",
              "      \n",
              "  <style>\n",
              "    .colab-df-container {\n",
              "      display:flex;\n",
              "      flex-wrap:wrap;\n",
              "      gap: 12px;\n",
              "    }\n",
              "\n",
              "    .colab-df-convert {\n",
              "      background-color: #E8F0FE;\n",
              "      border: none;\n",
              "      border-radius: 50%;\n",
              "      cursor: pointer;\n",
              "      display: none;\n",
              "      fill: #1967D2;\n",
              "      height: 32px;\n",
              "      padding: 0 0 0 0;\n",
              "      width: 32px;\n",
              "    }\n",
              "\n",
              "    .colab-df-convert:hover {\n",
              "      background-color: #E2EBFA;\n",
              "      box-shadow: 0px 1px 2px rgba(60, 64, 67, 0.3), 0px 1px 3px 1px rgba(60, 64, 67, 0.15);\n",
              "      fill: #174EA6;\n",
              "    }\n",
              "\n",
              "    [theme=dark] .colab-df-convert {\n",
              "      background-color: #3B4455;\n",
              "      fill: #D2E3FC;\n",
              "    }\n",
              "\n",
              "    [theme=dark] .colab-df-convert:hover {\n",
              "      background-color: #434B5C;\n",
              "      box-shadow: 0px 1px 3px 1px rgba(0, 0, 0, 0.15);\n",
              "      filter: drop-shadow(0px 1px 2px rgba(0, 0, 0, 0.3));\n",
              "      fill: #FFFFFF;\n",
              "    }\n",
              "  </style>\n",
              "\n",
              "      <script>\n",
              "        const buttonEl =\n",
              "          document.querySelector('#df-8a99ee14-5f37-4988-9b40-dfbec0675d73 button.colab-df-convert');\n",
              "        buttonEl.style.display =\n",
              "          google.colab.kernel.accessAllowed ? 'block' : 'none';\n",
              "\n",
              "        async function convertToInteractive(key) {\n",
              "          const element = document.querySelector('#df-8a99ee14-5f37-4988-9b40-dfbec0675d73');\n",
              "          const dataTable =\n",
              "            await google.colab.kernel.invokeFunction('convertToInteractive',\n",
              "                                                     [key], {});\n",
              "          if (!dataTable) return;\n",
              "\n",
              "          const docLinkHtml = 'Like what you see? Visit the ' +\n",
              "            '<a target=\"_blank\" href=https://colab.research.google.com/notebooks/data_table.ipynb>data table notebook</a>'\n",
              "            + ' to learn more about interactive tables.';\n",
              "          element.innerHTML = '';\n",
              "          dataTable['output_type'] = 'display_data';\n",
              "          await google.colab.output.renderOutput(dataTable, element);\n",
              "          const docLink = document.createElement('div');\n",
              "          docLink.innerHTML = docLinkHtml;\n",
              "          element.appendChild(docLink);\n",
              "        }\n",
              "      </script>\n",
              "    </div>\n",
              "  </div>\n",
              "  "
            ]
          },
          "metadata": {},
          "execution_count": 39
        }
      ]
    },
    {
      "cell_type": "code",
      "source": [
        "import pandas as pd\n",
        "D = {1:\"0,1\", 2:\"2,3\",4:\"5,6\"}\n",
        "print(pd.DataFrame(D.items(),columns =(\"Weight\",\"Linear\")))\n"
      ],
      "metadata": {
        "colab": {
          "base_uri": "https://localhost:8080/"
        },
        "id": "xdAc1IxH2fa9",
        "outputId": "795e1dcd-4b62-440f-d7d1-ba1861d1ad47"
      },
      "execution_count": null,
      "outputs": [
        {
          "output_type": "stream",
          "name": "stdout",
          "text": [
            "   Weight Linear\n",
            "0       1    0,1\n",
            "1       2    2,3\n",
            "2       4    5,6\n"
          ]
        }
      ]
    },
    {
      "cell_type": "markdown",
      "source": [
        "#Observations:\n",
        "1. Lasso obtains a sparse feature vector. many 0 coefficients or weights.\n",
        "2. Ridge regression assigns small weights to each feature\n",
        "\n",
        "A couple of points about using Lasso and Ridge:\n",
        "* Lasso is used for feature selection\n",
        "* While modelling relationships between features and labels,\n",
        "    * When all features are useful for making prediction about the output, we use ridge regression. It produces a weight vector with small non-zero values to all features\n",
        "    * When a few features are useful for making a predictions, we use lasso. It produces weight vector that assigns 0 weights to unimportant features\n",
        "\n",
        "\n",
        "# Lets look at Lasso with different regularization rates:"
      ],
      "metadata": {
        "id": "Svlf4c_m49HP"
      }
    },
    {
      "cell_type": "code",
      "source": [
        "def visualize_model_fit(X, y, lin_reg, degree,reg_rate):\n",
        "  points = np.linspace(0,1,100)\n",
        "  output = nonlin(points)\n",
        "\n",
        "  if degree > 0:\n",
        "     plt.scatter(X ,y, facecolor=\"none\", edgecolor = 'face', c = 'r', s=50, label=\"training data\")\n",
        "  plt.plot(points, output, c='g', label = \"$\\sin(2\\pi x)$\")\n",
        "  y_hat = lin_reg.predict(polynomial_transform(points, degree, logging = False))\n",
        "  plt.plot(points, y_hat, c='r', label = \"$h_\\mathbf{w} (x)$\")\n",
        "  plt.xlabel('$x_1$')\n",
        "  plt.ylabel('y')\n",
        "  plt.ylim(-1.5,1.5)\n",
        "  plt.title(\"M={}\".format(degree)) #xy = (-0.15, 1)\n",
        "\n",
        "\n",
        "f = plt.figure(figsize=(20,5))\n",
        "ax1 = plt.subplot(1,3,1)\n",
        "visualize_model_fit(X,y,lin_reg,degree,reg_rate = 0)\n",
        "plt.title('Linear Regression (M=9, $\\lambda=0$)')\n",
        "\n",
        "lin_reg.w = w_df[0.01]\n",
        "ax2 = plt.subplot(1,3,2)\n",
        "visualize_model_fit(X,y,lin_reg,degree,reg_rate=0.01)\n",
        "plt.title('Ridge Regression (M=9, $\\lambda=0.01$)')\n",
        "\n",
        "ax3 = plt.subplot(1,3,3)\n",
        "visualize_model_fit(X,y,lasso,degree,reg_rate=0.01)\n",
        "plt.title('lasso Regression (M=9, $\\lambda=0.01$)')"
      ],
      "metadata": {
        "colab": {
          "base_uri": "https://localhost:8080/",
          "height": 391
        },
        "id": "DOwcEKJZ7NtO",
        "outputId": "8b8b2e9a-86f6-4c09-864d-bf78f9942cbc"
      },
      "execution_count": null,
      "outputs": [
        {
          "output_type": "execute_result",
          "data": {
            "text/plain": [
              "Text(0.5, 1.0, 'lasso Regression (M=9, $\\\\lambda=0.01$)')"
            ]
          },
          "metadata": {},
          "execution_count": 55
        },
        {
          "output_type": "display_data",
          "data": {
            "text/plain": [
              "<Figure size 1440x360 with 3 Axes>"
            ],
            "image/png": "[encoded data removed]"
          },
          "metadata": {
            "needs_background": "light"
          }
        }
      ]
    },
    {
      "cell_type": "markdown",
      "source": [
        "# As in case of Ridge regression, we need to select best λ at Training and Validation sets\n",
        "\n",
        "#Model Selection"
      ],
      "metadata": {
        "id": "mu9lPHx09I3y"
      }
    },
    {
      "cell_type": "code",
      "source": [
        "\n",
        "\n",
        "import pandas as pd\n",
        "from sklearn.metrics import mean_squared_error\n",
        "training_errors = {}\n",
        "val_errors = {}\n",
        "w_dict = {}\n",
        "degree = 9\n",
        "\n",
        "X_val = np.linspace(0, 1 , 100)\n",
        "y_val = nonlin(X_val)\n",
        "\n",
        "X_transform = polynomial_transform(X, degree)\n",
        "X_val_transform = polynomial_transform(X_val, degree)\n",
        "\n",
        "for reg_rate in [1e-6, 1e-5, 1e-4, 1e-3, 1e-2, 1e-1, 1, 10, 100]:\n",
        "  lasso = Lasso(alpha = reg_rate)\n",
        "  lasso.fit (X_transform, y)\n",
        "\n",
        "  w_dict[reg_rate]= lasso.coef_\n",
        "  training_errors[reg_rate] = mean_squared_error(y, lasso.predict(X_transform), squared = False)\n",
        "  val_errors[reg_rate] = mean_squared_error(y_val + np.random.normal(scale=0.25, size = len(y_val)),lasso.predict(X_val_transform),squared = False)\n",
        "\n",
        "err_df = pd.DataFrame([training_errors, val_errors]).T\n",
        "w_df = pd.DataFrame(w_dict)"
      ],
      "metadata": {
        "colab": {
          "base_uri": "https://localhost:8080/"
        },
        "id": "VKtsRJyW9v53",
        "outputId": "d8c2c08b-b783-4e54-e075-a8fe711bb146"
      },
      "execution_count": null,
      "outputs": [
        {
          "output_type": "stream",
          "name": "stderr",
          "text": [
            "/usr/local/lib/python3.7/dist-packages/sklearn/linear_model/_coordinate_descent.py:648: ConvergenceWarning: Objective did not converge. You might want to increase the number of iterations, check the scale of the features or consider increasing regularisation. Duality gap: 1.638e-01, tolerance: 5.946e-04\n",
            "  coef_, l1_reg, l2_reg, X, y, max_iter, tol, rng, random, positive\n",
            "/usr/local/lib/python3.7/dist-packages/sklearn/linear_model/_coordinate_descent.py:648: ConvergenceWarning: Objective did not converge. You might want to increase the number of iterations, check the scale of the features or consider increasing regularisation. Duality gap: 1.580e-01, tolerance: 5.946e-04\n",
            "  coef_, l1_reg, l2_reg, X, y, max_iter, tol, rng, random, positive\n",
            "/usr/local/lib/python3.7/dist-packages/sklearn/linear_model/_coordinate_descent.py:648: ConvergenceWarning: Objective did not converge. You might want to increase the number of iterations, check the scale of the features or consider increasing regularisation. Duality gap: 1.078e-01, tolerance: 5.946e-04\n",
            "  coef_, l1_reg, l2_reg, X, y, max_iter, tol, rng, random, positive\n",
            "/usr/local/lib/python3.7/dist-packages/sklearn/linear_model/_coordinate_descent.py:648: ConvergenceWarning: Objective did not converge. You might want to increase the number of iterations, check the scale of the features or consider increasing regularisation. Duality gap: 4.212e-02, tolerance: 5.946e-04\n",
            "  coef_, l1_reg, l2_reg, X, y, max_iter, tol, rng, random, positive\n"
          ]
        }
      ]
    },
    {
      "cell_type": "code",
      "source": [
        "print(err_df)\n",
        "err_df.rename(columns={0:'Training',1:'Validation'},inplace = True)\n",
        "print(err_df)\n",
        "err_df.plot()\n",
        "plt.xscale(\"log\")\n",
        "plt.xlabel('$\\lambda$')\n",
        "plt.ylabel('RMSE')\n",
        "plt.gca().invert_xaxis()\n",
        "plt.show()"
      ],
      "metadata": {
        "colab": {
          "base_uri": "https://localhost:8080/",
          "height": 651
        },
        "id": "nkSdVppU_y4c",
        "outputId": "34d78c90-92be-4a2b-f4f9-a426bc8305bd"
      },
      "execution_count": null,
      "outputs": [
        {
          "output_type": "stream",
          "name": "stdout",
          "text": [
            "                   0         1\n",
            "0.000001    0.163064  0.278857\n",
            "0.000010    0.163313  0.294509\n",
            "0.000100    0.166391  0.219293\n",
            "0.001000    0.237936  0.279197\n",
            "0.010000    0.428447  0.426290\n",
            "0.100000    0.641341  0.687930\n",
            "1.000000    0.694247  0.779247\n",
            "10.000000   0.694247  0.776790\n",
            "100.000000  0.694247  0.758643\n",
            "            Training  Validation\n",
            "0.000001    0.163064    0.278857\n",
            "0.000010    0.163313    0.294509\n",
            "0.000100    0.166391    0.219293\n",
            "0.001000    0.237936    0.279197\n",
            "0.010000    0.428447    0.426290\n",
            "0.100000    0.641341    0.687930\n",
            "1.000000    0.694247    0.779247\n",
            "10.000000   0.694247    0.776790\n",
            "100.000000  0.694247    0.758643\n"
          ]
        },
        {
          "output_type": "display_data",
          "data": {
            "text/plain": [
              "<Figure size 432x288 with 1 Axes>"
            ],
            "image/png": "[encoded data removed]"
          },
          "metadata": {
            "needs_background": "light"
          }
        }
      ]
    },
    {
      "cell_type": "markdown",
      "source": [
        "# Ridge and Lasso Visulization\n",
        "\n",
        "# Ridge solution as a function of λ\n",
        "\n",
        "Remember that the ridge regression calculates loss os follows:\n",
        "$$\\ \\mathbf{J(w)} = \\frac {1} {2} (Xw - y)^T (Xw - y) + \\frac {λ}{2} w^Tw $$\n",
        "\n",
        "Now,\n",
        "* The first part of the equation $\\ (Xw-y)^T (Xw-y) $ gives rise to slliptical contours centered around the linear regression or least square error solution.\n",
        "* The second part of the equation $\\ w^Tw $ represents a circle.\n",
        "* The ridge regression solution lies at the intersection between contours of these two functions - slliptical and circular contours. The intersection varies as a function of λ.\n",
        "  * As λ &rarr; 0, the solution is of least square error.\n",
        "  * As λ &rarr; ∞, the solution is at the center of circle, which is 0 vector.\n"
      ],
      "metadata": {
        "id": "8jHm4ixXLEFV"
      }
    },
    {
      "cell_type": "markdown",
      "source": [
        "#Ridge Solution visulization\n",
        "\n",
        "Steps:\n",
        " 1. Generate synthetic data.\n",
        " 2. Obtain weight vector for ridge regression model with 100 different values of λ = {0.001,....,10} in ascending order.\n",
        " 3. Set up mesh grid of weight values. Lets call it as $\\mathbf{W}$\n",
        " 4. For each $\\mathbf{w}$ in $\\mathbf{W} $:\n",
        "    * Compute mean squared error for w\n",
        "    * Compute ridge regularization or constraint $\\mathbf{w}^{T} \\mathbf{w}$\n",
        " 5. Draw contours for mean squared error and ridge regression constraints.\n",
        " 6. Draw path of weight vectors from least men squared error value to the lease value of ridge constraints."
      ],
      "metadata": {
        "id": "7DIloib05Stn"
      }
    },
    {
      "cell_type": "markdown",
      "source": [
        "# Lasso solution as a function of λ\n",
        "\n",
        "Remember that the ridge regression calculates loss os follows:\n",
        "$$\\ \\mathbf{J(w)} = \\frac {1} {2} (Xw - y)^T (Xw - y) + \\frac {λ}{2} \\||w||_{1} $$\n",
        "\n",
        "Now,\n",
        "* The first part of the equation $\\ (Xw-y)^T (Xw-y) $ gives rise to slliptical contours centered around the linear regression or least square error solution.\n",
        "* The second part of the equation $\\||w||_{1} $ represents a polytope.\n",
        "* The ridge regression solution lies at the intersection between contours of these two functions - slliptical and circular contours. The intersection varies as a function of λ.\n",
        "  * As λ &rarr; 0, the solution is of least square error.\n",
        "  * As λ &rarr; ∞, the solution is at the center of circle, which is 0 vector."
      ],
      "metadata": {
        "id": "y95JRuOiKtT8"
      }
    },
    {
      "cell_type": "markdown",
      "source": [
        "#Lasso Solution visulization\n",
        "\n",
        "Steps:\n",
        " 1. Generate synthetic data.\n",
        " 2. Obtain weight vector for lasso regression model with 100 different values of λ = {0.001,....,10} in ascending order.\n",
        " 3. Set up mesh grid of weight values. Lets call it as $\\mathbf{W}$\n",
        " 4. For each $\\mathbf{w}$ in $\\mathbf{W} $:\n",
        "    * Compute mean squared error for w\n",
        "    * Compute ridge regularization or constraint $\\ ||w||_1$\n",
        " 5. Draw contours for mean squared error and lasso regression constraints.\n",
        " 6. Draw path of weight vectors from least men squared error value to the least value of lasso constraints (apperas to [0,0])."
      ],
      "metadata": {
        "id": "xNmZ41waK8_g"
      }
    },
    {
      "cell_type": "markdown",
      "source": [
        "# Multi-output / Multi-label regression Problem\n",
        "\n",
        "Training Data\n",
        "\n",
        "$\\mathbf{D}$ = $\\ (\\mathbf{X,Y}) $ = $\\ {( x^{(i)}, y^{(i)})}^{n}_{i=0} $\n",
        "\n",
        "Here $\\ y^{i} 𝝐 R ^{k} $ where k is the number of output labels. In simple terms, $\\ y^{i}$ has components that are real numbers.\n",
        "\n",
        "Let's generate synthetic data for demonstrating the training set with multi regression"
      ],
      "metadata": {
        "id": "XYID1uaHpi5Y"
      }
    },
    {
      "cell_type": "code",
      "source": [
        "from sklearn.datasets import make_regression\n",
        "X, y, coef = make_regression(n_samples = 100, n_features = 10, n_informative = 10, bias = 1, n_targets = 5, shuffle = True, coef = True, random_state = 42)"
      ],
      "metadata": {
        "id": "c_1rAeoGKJGV"
      },
      "execution_count": null,
      "outputs": []
    },
    {
      "cell_type": "code",
      "source": [
        "print(X.shape)\n",
        "print(y.shape)\n",
        "print(X[:5])\n",
        "print(y[:5])"
      ],
      "metadata": {
        "colab": {
          "base_uri": "https://localhost:8080/"
        },
        "id": "nkUeXGoSrn1w",
        "outputId": "54c44ccd-4e2d-429d-bfdf-7a8f1eb85013"
      },
      "execution_count": null,
      "outputs": [
        {
          "output_type": "stream",
          "name": "stdout",
          "text": [
            "(100, 10)\n",
            "(100, 5)\n",
            "[[-2.07339023 -0.37144087  1.27155509  1.75227044  0.93567839 -1.40751169\n",
            "  -0.77781669 -0.34268759 -1.11057585  1.24608519]\n",
            " [-0.90938745 -1.40185106 -0.50347565 -0.56629773  0.09965137  0.58685709\n",
            "   2.19045563  1.40279431 -0.99053633  0.79103195]\n",
            " [-0.18565898 -1.19620662 -0.64511975  1.0035329   0.36163603  0.81252582\n",
            "   1.35624003 -1.10633497 -0.07201012 -0.47917424]\n",
            " [ 0.03526355  0.21397991 -0.57581824  0.75750771 -0.53050115 -0.11232805\n",
            "  -0.2209696  -0.69972551  0.6141667   1.96472513]\n",
            " [-0.51604473 -0.46227529 -0.8946073  -0.47874862  1.25575613 -0.43449623\n",
            "  -0.30917212  0.09612078  0.22213377  0.93828381]]\n",
            "[[-133.15919852  -88.95797818   98.19127175   25.68295511 -132.79294654]\n",
            " [-110.38909784  146.04459736 -169.58916067  118.96066861 -177.08414159]\n",
            " [ -97.80350267    4.32654061  -87.56082281   -5.58466452    6.36897388]\n",
            " [  25.39024616  -70.41180117  186.15213706  132.77153362   53.42301307]\n",
            " [-140.61925153  -53.87007831 -101.11514549 -113.36926374 -115.61959345]]\n"
          ]
        }
      ]
    },
    {
      "cell_type": "code",
      "source": [
        "X = add_dummy_feature(X)\n",
        "print(X[:5])\n"
      ],
      "metadata": {
        "colab": {
          "base_uri": "https://localhost:8080/"
        },
        "id": "UXPA74mQr7C_",
        "outputId": "dcd3cbee-a98d-4819-f28c-7be45943590b"
      },
      "execution_count": null,
      "outputs": [
        {
          "output_type": "stream",
          "name": "stdout",
          "text": [
            "[[ 1.         -2.07339023 -0.37144087  1.27155509  1.75227044  0.93567839\n",
            "  -1.40751169 -0.77781669 -0.34268759 -1.11057585  1.24608519]\n",
            " [ 1.         -0.90938745 -1.40185106 -0.50347565 -0.56629773  0.09965137\n",
            "   0.58685709  2.19045563  1.40279431 -0.99053633  0.79103195]\n",
            " [ 1.         -0.18565898 -1.19620662 -0.64511975  1.0035329   0.36163603\n",
            "   0.81252582  1.35624003 -1.10633497 -0.07201012 -0.47917424]\n",
            " [ 1.          0.03526355  0.21397991 -0.57581824  0.75750771 -0.53050115\n",
            "  -0.11232805 -0.2209696  -0.69972551  0.6141667   1.96472513]\n",
            " [ 1.         -0.51604473 -0.46227529 -0.8946073  -0.47874862  1.25575613\n",
            "  -0.43449623 -0.30917212  0.09612078  0.22213377  0.93828381]]\n"
          ]
        }
      ]
    },
    {
      "cell_type": "code",
      "source": [
        "X_train, X_test, y_train, y_test = preprocess(X,y)"
      ],
      "metadata": {
        "id": "hbJzhSOltE2e"
      },
      "execution_count": null,
      "outputs": []
    },
    {
      "cell_type": "code",
      "source": [
        "coef"
      ],
      "metadata": {
        "colab": {
          "base_uri": "https://localhost:8080/"
        },
        "id": "G1Ab36ca8JMI",
        "outputId": "b27347ad-e17b-4f4e-e7c9-9774667993ac"
      },
      "execution_count": null,
      "outputs": [
        {
          "output_type": "execute_result",
          "data": {
            "text/plain": [
              "array([[93.62122462,  5.19712837, 54.12963353, 70.90605195, 87.09691237],\n",
              "       [89.48166561, 54.75923762, 81.729777  , 45.23182845, 64.35776952],\n",
              "       [46.26229567, 86.82725054, 72.71690698, 74.27065212, 42.54933344],\n",
              "       [71.92017783, 22.84547413, 99.63339161, 97.47931621, 65.03256863],\n",
              "       [19.95424509, 68.02282424,  7.2198409 ,  3.06525022, 25.76828885],\n",
              "       [52.64026609, 73.15895218,  8.1629982 ,  6.0352084 , 24.7103234 ],\n",
              "       [15.95446801, 87.17835666, 21.92139874, 97.58652558, 33.68957918],\n",
              "       [71.40869321, 80.17280831, 33.94501925, 81.48251137,  8.01148464],\n",
              "       [18.21179157, 78.96985071, 65.87077755, 49.81957165, 55.53635509],\n",
              "       [16.74825823, 10.45678403, 63.64302495, 70.64757265,  3.15861448]])"
            ]
          },
          "metadata": {},
          "execution_count": 74
        }
      ]
    },
    {
      "cell_type": "markdown",
      "source": [
        "# Model\n",
        "\n",
        "The Linear regression model is exactly same as single label output except that the output is now a vector.\n",
        "\n",
        "$$\\ \\mathbf{Y}_{n \\times k} = \\mathbf{X}_{n \\times (m+1)} \\mathbf{W}_{(m+1) \\times k}$$\n",
        "\n",
        "In this equation, the output label is Matrix $\\mathbf{Y}$. In Order to generate multiple outputs, we need one weight vector per output. hence, total of k weight vectors corresponding to the k outputs.\n",
        "\n",
        "There are two options for modelling this problem:\n",
        "\n",
        "1.  Solve k independent linear regression problems. Gives some flexibility in using different representation for each problem.\n",
        "2. Solve a joint learning problem as outlined in the equation above. We would pursue this approach.\n"
      ],
      "metadata": {
        "id": "EqKMPPNotRak"
      }
    },
    {
      "cell_type": "markdown",
      "source": [
        "# Loss\n",
        "\n",
        "We use the same loss function as the linear regression i.e sum of squared error\n",
        "\n",
        "$$\\ \\mathbf{J(W)} = \\frac{1}{2} (XW - Y)^{T} (XW-Y) $$\n",
        "\n",
        "#Optimization\n",
        " 1. Normal quation\n",
        " 2. Gradient descent and its variation\n",
        "\n",
        "#Evaluation\n",
        " RMSE or LOSS\n"
      ],
      "metadata": {
        "id": "ZwrzFpfVu-bV"
      }
    },
    {
      "cell_type": "markdown",
      "source": [
        "Use Linear regression model and do chnages to weight vector"
      ],
      "metadata": {
        "id": "MCbE_l277feI"
      }
    },
    {
      "cell_type": "markdown",
      "source": [
        " Changes to coding as below\n",
        "\n",
        " self.w = np.zeros((X.shape[1], y.shape[1]))  (create weight matrix)\n",
        "\n",
        " # checking\n",
        "  np.testing.assert_almost_equal(w[1:,:], coef, decimal = 2)"
      ],
      "metadata": {
        "id": "KbjwHaqhvhJi"
      }
    },
    {
      "cell_type": "code",
      "source": [
        "class LinReg(object):\n",
        "  def __init__(self):\n",
        "    self.t0 = 20\n",
        "    self.t1 = 100\n",
        "\n",
        "  def predict(self,X:np.ndarray):\n",
        "    y = X @ self.w\n",
        "    return y\n",
        "  \n",
        "  def loss(self, X:np.ndarray, y:np.ndarray, reg_rate:float):\n",
        "    e = y - self.predict(X)\n",
        "    # return ((1/2)*(np.transpose(e) @ e))\n",
        "    return ((1/2) * (np.transpose(e) @ e) + (reg_rate/2) * (np.transpose(self.w)  @ self.w))\n",
        "\n",
        "  def rmse (self, X:np.ndarray, y:np.ndarray):\n",
        "    return np.sqrt((2/X.shape[0]) * self.loss(X,y,0))\n",
        "  \n",
        "  def fit (self, X:np.ndarray, y:np.ndarray, reg_rate:float):\n",
        "    self.w = np.zeros((X.shape[1],y.shape[1])) #chnage weight vector to shape m+1 x k\n",
        "    eye = np.eye(np.size(X, 1))\n",
        "    #self.w = np.linalg.pinv(X) @ y\n",
        "    self.w = np.linalg.solve(reg_rate * eye + (np.transpose(X) @ X), np.transpose(X) @ y,)\n",
        "    return self.w\n",
        "  \n",
        "  def calculate_gradient(self, X:np.ndarray, y:np.ndarray, reg_rate:float):\n",
        "    #return(np.transpose(X) @ (self.predict(X)-y))\n",
        "    return(np.transpose(X) @ (self.predict(X)-y)) + reg_rate *self.w\n",
        "  \n",
        "  def update_weights(self, grad:np.ndarray, lr:float):\n",
        "    return(self.w - lr*grad)\n",
        "\n",
        "  def learning_schedule(self,t):\n",
        "    return self.t0 / (t*self.t1)\n",
        "\n",
        "  def gd(self, X:np.ndarray, y:np.ndarray, num_epochs:int, lr:float,reg_rate:float):\n",
        "    self.w = np.zeros((X.shape[1],y.shape[1]))\n",
        "    self.w_all = []\n",
        "    self.err_all = []\n",
        "    for i in np.arange(0,num_epochs):\n",
        "      self.w_all.append(self.w)\n",
        "      self.err_all.append(self.loss(X,y,reg_rate))\n",
        "      djdw = self.calculate_gradient(X,y,reg_rate)\n",
        "      self.w = self.update_weights(djdw,lr)\n",
        "    return self.w\n",
        "\n",
        "  def mbgd(self, X:np.ndarray, y:np.ndarray, num_epochs:int, batch_size:int, reg_rate:float):\n",
        "    self.w = np.zeros((X.shape[1],y.shape[1]))\n",
        "    self.w_all = []\n",
        "    self.err_all = []\n",
        "    mini_batch_id = 0\n",
        "\n",
        "    for epoch in range(num_epochs):\n",
        "      shuffled_indices = np.random.permutation(X.shape[0])\n",
        "      X_shuffled = X[shuffled_indices]\n",
        "      y_shuffled = y[shuffled_indices]\n",
        "      for i in range(0,X.shape[0],batch_size):\n",
        "        mini_batch_id += 1\n",
        "        xi = X_shuffled[i:i+batch_size]\n",
        "        yi = y_shuffled[i:i+batch_size]\n",
        "        self.w_all.append(self.w)\n",
        "        self.err_all.append(self.loss(xi,yi))\n",
        "        djdw = 2/batch_size * self.calculate_gradient(xi,yi,reg_rate)\n",
        "        self.w = self.update_weights(djdw,self.learning_schedule(mini_batch_id))\n",
        "    return self.w\n",
        "\n",
        "  def sgd(self, X:np.ndarray, y:np.ndarray, num_epochs:int, reg_rate:float):\n",
        "    self.w = np.zeros((X.shape[1],y.shape[1]))\n",
        "    self.w_all = []\n",
        "    self.err_all = []\n",
        "    mini_batch_id = 0\n",
        "\n",
        "    for epoch in range(num_epochs):\n",
        "      for i in range(X.shape[0]):\n",
        "        random_index = np.random.randint(X.shape[0])\n",
        "        xi = X[random_index]\n",
        "        yi = y[random_index]\n",
        "        self.w_all.append(self.w)\n",
        "        self.err_all.append(self.loss(xi,yi))\n",
        "        djdw = 2 * self.calculate_gradient(xi,yi,reg_rate)\n",
        "        self.w = self.update_weights(djdw,self.learning_schedule(epoch * X.hape[0] + i))\n",
        "    return self.w"
      ],
      "metadata": {
        "id": "M0gVuiSQ7osK"
      },
      "execution_count": null,
      "outputs": []
    },
    {
      "cell_type": "code",
      "source": [
        "lin_reg = LinReg()\n",
        "w = lin_reg.fit(X_train,y_train,reg_rate = 0)\n",
        "w[1:]\n",
        "\n"
      ],
      "metadata": {
        "colab": {
          "base_uri": "https://localhost:8080/"
        },
        "id": "w6kw-jE98NDN",
        "outputId": "01bcff85-e8b9-4740-c181-ce8ea6e71e20"
      },
      "execution_count": null,
      "outputs": [
        {
          "output_type": "execute_result",
          "data": {
            "text/plain": [
              "array([[93.62122462,  5.19712837, 54.12963353, 70.90605195, 87.09691237],\n",
              "       [89.48166561, 54.75923762, 81.729777  , 45.23182845, 64.35776952],\n",
              "       [46.26229567, 86.82725054, 72.71690698, 74.27065212, 42.54933344],\n",
              "       [71.92017783, 22.84547413, 99.63339161, 97.47931621, 65.03256863],\n",
              "       [19.95424509, 68.02282424,  7.2198409 ,  3.06525022, 25.76828885],\n",
              "       [52.64026609, 73.15895218,  8.1629982 ,  6.0352084 , 24.7103234 ],\n",
              "       [15.95446801, 87.17835666, 21.92139874, 97.58652558, 33.68957918],\n",
              "       [71.40869321, 80.17280831, 33.94501925, 81.48251137,  8.01148464],\n",
              "       [18.21179157, 78.96985071, 65.87077755, 49.81957165, 55.53635509],\n",
              "       [16.74825823, 10.45678403, 63.64302495, 70.64757265,  3.15861448]])"
            ]
          },
          "metadata": {},
          "execution_count": 100
        }
      ]
    },
    {
      "cell_type": "code",
      "source": [
        "coef # check both estimated weight vector and co-efficent matrix match"
      ],
      "metadata": {
        "colab": {
          "base_uri": "https://localhost:8080/"
        },
        "id": "LeCXEBjN8gAk",
        "outputId": "a85c2afa-e820-4a1a-ff82-c903b3970fa3"
      },
      "execution_count": null,
      "outputs": [
        {
          "output_type": "execute_result",
          "data": {
            "text/plain": [
              "array([[93.62122462,  5.19712837, 54.12963353, 70.90605195, 87.09691237],\n",
              "       [89.48166561, 54.75923762, 81.729777  , 45.23182845, 64.35776952],\n",
              "       [46.26229567, 86.82725054, 72.71690698, 74.27065212, 42.54933344],\n",
              "       [71.92017783, 22.84547413, 99.63339161, 97.47931621, 65.03256863],\n",
              "       [19.95424509, 68.02282424,  7.2198409 ,  3.06525022, 25.76828885],\n",
              "       [52.64026609, 73.15895218,  8.1629982 ,  6.0352084 , 24.7103234 ],\n",
              "       [15.95446801, 87.17835666, 21.92139874, 97.58652558, 33.68957918],\n",
              "       [71.40869321, 80.17280831, 33.94501925, 81.48251137,  8.01148464],\n",
              "       [18.21179157, 78.96985071, 65.87077755, 49.81957165, 55.53635509],\n",
              "       [16.74825823, 10.45678403, 63.64302495, 70.64757265,  3.15861448]])"
            ]
          },
          "metadata": {},
          "execution_count": 67
        }
      ]
    },
    {
      "cell_type": "code",
      "source": [
        "X_train[:5]"
      ],
      "metadata": {
        "colab": {
          "base_uri": "https://localhost:8080/"
        },
        "id": "t0pS9qTC-FcE",
        "outputId": "95842b69-94e5-4627-921d-737184a343ea"
      },
      "execution_count": null,
      "outputs": [
        {
          "output_type": "execute_result",
          "data": {
            "text/plain": [
              "array([[ 1.        , -0.54685894, -0.54342477,  1.09150685,  1.50399299,\n",
              "        -2.65096981, -0.71284578,  0.10643023, -0.03275327, -0.25497722,\n",
              "        -0.57366201],\n",
              "       [ 1.        , -0.89725437, -0.67716171, -0.56372455, -0.32138584,\n",
              "         0.41293145,  0.97511973, -0.14705738,  0.07580456, -0.8254972 ,\n",
              "        -0.01224677],\n",
              "       [ 1.        ,  0.59515703,  2.09238728,  0.62834551,  0.79166269,\n",
              "         0.62411982, -1.00601738, -1.21418861, -0.81822068,  1.15811087,\n",
              "         0.09699596],\n",
              "       [ 1.        , -0.42064532, -0.80227727, -0.07444592,  0.17457781,\n",
              "         0.25755039, -0.16128571,  0.40405086, -0.34271452,  1.8861859 ,\n",
              "        -1.41537074],\n",
              "       [ 1.        , -1.12905177,  0.48937456,  0.44426331, -0.37482081,\n",
              "         0.71095997, -1.22212781,  0.71299843, -0.52452027, -0.2403254 ,\n",
              "         0.72167206]])"
            ]
          },
          "metadata": {},
          "execution_count": 94
        }
      ]
    },
    {
      "cell_type": "code",
      "source": [
        "y_train[:5]"
      ],
      "metadata": {
        "colab": {
          "base_uri": "https://localhost:8080/"
        },
        "id": "pm9rdgwF-Icr",
        "outputId": "315132f7-83ca-45ae-87d9-32f69477a602"
      },
      "execution_count": null,
      "outputs": [
        {
          "output_type": "execute_result",
          "data": {
            "text/plain": [
              "array([[-4.54758564e+01, -1.54426836e+02,  7.91612822e+01,\n",
              "         1.07378024e+02, -3.59268159e+01],\n",
              "       [-1.45390645e+02, -6.96655772e+01, -2.20790273e+02,\n",
              "        -2.09461095e+02, -1.81110075e+02],\n",
              "       [ 2.34367657e+02,  8.11893679e+01,  3.53154837e+02,\n",
              "         1.36912658e+02,  2.74103707e+02],\n",
              "       [-1.11790257e+02,  1.00025648e+02, -4.34261532e+01,\n",
              "        -4.83289782e+01,  3.47150766e+01],\n",
              "       [-1.35833963e+02,  1.95667455e+01, -2.07706383e+00,\n",
              "         1.91908844e-01, -7.44421535e+01]])"
            ]
          },
          "metadata": {},
          "execution_count": 95
        }
      ]
    },
    {
      "cell_type": "code",
      "source": [
        "w = lin_reg.gd(X_train,y_train,num_epochs = 100, lr=0.01, reg_rate = 0)\n",
        "w[1:]"
      ],
      "metadata": {
        "colab": {
          "base_uri": "https://localhost:8080/"
        },
        "id": "ShwY0J9R9Axn",
        "outputId": "1def34c5-f8be-4fc6-fe51-f9b7c2864632"
      },
      "execution_count": null,
      "outputs": [
        {
          "output_type": "execute_result",
          "data": {
            "text/plain": [
              "array([[93.62122462,  5.19712837, 54.12963353, 70.90605195, 87.09691237],\n",
              "       [89.48166561, 54.75923762, 81.729777  , 45.23182845, 64.35776952],\n",
              "       [46.26229567, 86.82725054, 72.71690698, 74.27065212, 42.54933344],\n",
              "       [71.92017783, 22.84547413, 99.63339161, 97.47931621, 65.03256863],\n",
              "       [19.95424509, 68.02282424,  7.2198409 ,  3.06525022, 25.76828885],\n",
              "       [52.64026609, 73.15895218,  8.1629982 ,  6.0352084 , 24.7103234 ],\n",
              "       [15.95446801, 87.17835666, 21.92139874, 97.58652558, 33.68957918],\n",
              "       [71.40869321, 80.17280831, 33.94501925, 81.48251137,  8.01148464],\n",
              "       [18.21179157, 78.96985071, 65.87077755, 49.81957165, 55.53635509],\n",
              "       [16.74825823, 10.45678403, 63.64302495, 70.64757265,  3.15861448]])"
            ]
          },
          "metadata": {},
          "execution_count": 101
        }
      ]
    },
    {
      "cell_type": "markdown",
      "source": [
        "X = (80,11)\n",
        "y = (80,5)\n",
        "\n",
        "w = (11,5)\n",
        "\n"
      ],
      "metadata": {
        "id": "WBEs1RmHOzXC"
      }
    }
  ]
}