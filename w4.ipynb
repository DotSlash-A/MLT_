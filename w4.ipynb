{
 "cells": [
  {
   "cell_type": "markdown",
   "source": [
    "Leacture name: Least square classifier from scratch\n",
    "Lecture goals are:\n",
    "- Learn least square regression form scrathc\n",
    "- Optimization via normal eqn and gradient descent\n",
    "- Prediction on new set of points\n",
    "- encode categorical features"
   ],
   "metadata": {
    "collapsed": false,
    "pycharm": {
     "name": "#%% md\n"
    }
   }
  },
  {
   "cell_type": "markdown",
   "source": [
    "and here we'll see\n",
    "- least square classification implementation\n",
    "    - Training data\n",
    "    - Model\n",
    "    - Loss function\n",
    "    - Normal equation\n",
    "    - Iterative optimization(GD, MBGD and SGD)\n",
    "    - inference\n",
    "    - works for multi-class classification"
   ],
   "metadata": {
    "collapsed": false,
    "pycharm": {
     "name": "#%% md\n"
    }
   }
  },
  {
   "cell_type": "markdown",
   "source": [
    "we'll see four demos:\n",
    "1) linearly separable binary classification\n",
    "2) Linearly separable binary classification with outliers\n",
    "3) multi-class setup\n",
    "4) we'll perform lsc on nonlinearly separabel data where we have to use Polynomial least square classification"
   ],
   "metadata": {
    "collapsed": false,
    "pycharm": {
     "name": "#%% md\n"
    }
   }
  },
  {
   "cell_type": "code",
   "execution_count": 2,
   "outputs": [],
   "source": [
    "# we will use polynomial transformationcode from last week\n",
    "import itertools\n",
    "import functools\n",
    "\n",
    "def get_combinations (x, degree):\n",
    "    return itertools.combinations_with_replacement(x, degree)\n",
    "\n",
    "def compute_new_features(items):\n",
    "    # reduce (lambda x, y: x*y,[1,2,3,4,5]) calculates ((((1*2)*3)*4)*5)\n",
    "    return functools.reduce(lambda x, y: x*y, items)\n",
    "\n",
    "def polynomial_transform(x, degree, logging=False):\n",
    "    # Converts to feature matrix\n",
    "    if x.ndim == 1:\n",
    "        x = x[:, None]\n",
    "    x_t = x.transpose()\n",
    "    features = [np.ones(len(x))] # Populates 1s as first feature for each example\n",
    "\n",
    "    if logging:\n",
    "        print(\"Input:\", x)\n",
    "    for degree in range(1,degree+1):\n",
    "        for items in get_combinations(x_t, degree):\n",
    "            features.append(compute_new_features(items))\n",
    "            if logging:\n",
    "                print(items, \":\", compute_new_features(items))\n",
    "    if logging:\n",
    "        print(np.asarray(features).transpose())\n",
    "    return np.asarray(features).transpose()"
   ],
   "metadata": {
    "collapsed": false,
    "pycharm": {
     "name": "#%%\n"
    }
   }
  },
  {
   "cell_type": "code",
   "execution_count": 3,
   "outputs": [],
   "source": [
    "#In this class w have a function called LabelTansformer() which converts a discrete class into onehot encoding(From PRML librearY)\n",
    "import numpy as np\n",
    "\n",
    "\n",
    "class LabelTransformer(object):\n",
    "    \"\"\"\n",
    "    Label encoder decoder\n",
    "    Attributes\n",
    "    ----------\n",
    "    n_classes : int\n",
    "        number of classes, K\n",
    "    \"\"\"\n",
    "\n",
    "    def __init__(self, n_classes:int=None):\n",
    "        self.n_classes = n_classes\n",
    "\n",
    "    @property\n",
    "    def n_classes(self):\n",
    "        return self.__n_classes\n",
    "\n",
    "    @n_classes.setter\n",
    "    def n_classes(self, K):\n",
    "        self.__n_classes = K\n",
    "        self.__encoder = None if K is None else np.eye(K)\n",
    "\n",
    "    @property\n",
    "    def encoder(self):\n",
    "        return self.__encoder\n",
    "\n",
    "    def encode(self, class_indices:np.ndarray):\n",
    "        \"\"\"\n",
    "        encode class index into one-of-k code\n",
    "        Parameters\n",
    "        ----------\n",
    "        class_indices : (N,) np.ndarray\n",
    "            non-negative class index\n",
    "            elements must be integer in [0, n_classes)\n",
    "        Returns\n",
    "        -------\n",
    "        (N, K) np.ndarray\n",
    "            one-of-k encoding of input\n",
    "        \"\"\"\n",
    "        if self.n_classes is None:\n",
    "            self.n_classes = np.max(class_indices) + 1\n",
    "\n",
    "        return self.encoder[class_indices]\n",
    "\n",
    "    def decode(self, onehot:np.ndarray):\n",
    "        \"\"\"\n",
    "        decode one-of-k code into class index\n",
    "        Parameters\n",
    "        ----------\n",
    "        onehot : (N, K) np.ndarray\n",
    "            one-of-k code\n",
    "        Returns\n",
    "        -------\n",
    "        (N,) np.ndarray\n",
    "            class index\n",
    "        \"\"\"\n",
    "\n",
    "        return np.argmax(onehot, axis=1)"
   ],
   "metadata": {
    "collapsed": false,
    "pycharm": {
     "name": "#%%\n"
    }
   }
  },
  {
   "cell_type": "code",
   "execution_count": 5,
   "outputs": [
    {
     "data": {
      "text/plain": "array([[0., 1.],\n       [1., 0.],\n       [0., 1.],\n       [1., 0.]])"
     },
     "execution_count": 5,
     "metadata": {},
     "output_type": "execute_result"
    }
   ],
   "source": [
    "#lets try the above LabelTransform function\n",
    "binary_labels = LabelTransformer(2).encode(np.array([1,0,1,0]))\n",
    "binary_labels"
   ],
   "metadata": {
    "collapsed": false,
    "pycharm": {
     "name": "#%%\n"
    }
   }
  },
  {
   "cell_type": "code",
   "execution_count": null,
   "outputs": [],
   "source": [],
   "metadata": {
    "collapsed": false,
    "pycharm": {
     "name": "#%%\n"
    }
   }
  },
  {
   "cell_type": "code",
   "execution_count": null,
   "outputs": [],
   "source": [],
   "metadata": {
    "collapsed": false,
    "pycharm": {
     "name": "#%%\n"
    }
   }
  },
  {
   "cell_type": "code",
   "execution_count": null,
   "outputs": [],
   "source": [],
   "metadata": {
    "collapsed": false,
    "pycharm": {
     "name": "#%%\n"
    }
   }
  },
  {
   "cell_type": "code",
   "execution_count": null,
   "outputs": [],
   "source": [],
   "metadata": {
    "collapsed": false,
    "pycharm": {
     "name": "#%%\n"
    }
   }
  },
  {
   "cell_type": "code",
   "execution_count": 1,
   "outputs": [],
   "source": [
    "import numpy as np\n",
    "\n",
    "\n",
    "def create_toy_data(add_outliers=False, add_class=False):\n",
    "    x0 = np.random.normal(size=50).reshape(-1,2)-1\n",
    "    x1 = np.random.normal(size=50).reshape(-1,2)+1\n",
    "    if add_outliers:\n",
    "        x1 = np.random.normal(size=50).reshape9-1,2 + np.array([5.,10.])\n",
    "        return np.concatenate([x0,x1,x_1]),np.concatenate([np.zeroes(25),np.ones(30)]).astype(n.int)\n",
    "    if add_class:\n",
    "        x2 = np.random.normal(size=50).reshape(-1,2)+2\n",
    "        return np.concatenate([x0,x1]),np.concatenate([np.zeroes(25),np.ones(25)]).astype(np.int)"
   ],
   "metadata": {
    "collapsed": false,
    "pycharm": {
     "name": "#%%\n"
    }
   }
  },
  {
   "cell_type": "markdown",
   "source": [
    "Lets difine a generic data preprocessing function that\n",
    "- Generates synthetic data by calling \"create_toy_data\"\n",
    "- performs polynomial transformation on featurte set\n",
    "- divides the data into training and test set with \"train_test_split\" api with sklearn lib\n",
    "- performs label transformation for both train and test sets"
   ],
   "metadata": {
    "collapsed": false,
    "pycharm": {
     "name": "#%% md\n"
    }
   }
  },
  {
   "cell_type": "code",
   "execution_count": null,
   "outputs": [],
   "source": [
    "##@title Data Preprocessing\n",
    "from sklearn.model_selection import train_test_split\n",
    "def preprocess(add_class=False, add_outliers=False, degree=1):\n",
    "    x,y = create_toy_data(add_outliers,add_class)\n",
    "    x_poly = polynomial_transform(x,degree=degree)\n"
   ],
   "metadata": {
    "collapsed": false,
    "pycharm": {
     "name": "#%%\n"
    }
   }
  }
 ],
 "metadata": {
  "kernelspec": {
   "display_name": "Python 3",
   "language": "python",
   "name": "python3"
  },
  "language_info": {
   "codemirror_mode": {
    "name": "ipython",
    "version": 2
   },
   "file_extension": ".py",
   "mimetype": "text/x-python",
   "name": "python",
   "nbconvert_exporter": "python",
   "pygments_lexer": "ipython2",
   "version": "2.7.6"
  }
 },
 "nbformat": 4,
 "nbformat_minor": 0
}